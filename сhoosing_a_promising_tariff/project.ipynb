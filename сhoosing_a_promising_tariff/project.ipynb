{
 "cells": [
  {
   "cell_type": "markdown",
   "id": "3fa17a84",
   "metadata": {
    "toc": true
   },
   "source": [
    "<h1>Содержание<span class=\"tocSkip\"></span></h1>\n",
    "<div class=\"toc\"><ul class=\"toc-item\"><li><span><a href=\"#Обзор-и-предобработка-данных\" data-toc-modified-id=\"Обзор-и-предобработка-данных-1\"><span class=\"toc-item-num\">1&nbsp;&nbsp;</span>Обзор и предобработка данных</a></span><ul class=\"toc-item\"><li><span><a href=\"#Таблица-users-(информация-о-пользователях)\" data-toc-modified-id=\"Таблица-users-(информация-о-пользователях)-1.1\"><span class=\"toc-item-num\">1.1&nbsp;&nbsp;</span>Таблица <code>users</code> (информация о пользователях)</a></span></li><li><span><a href=\"#Таблица-calls-(информация-о-звонках)\" data-toc-modified-id=\"Таблица-calls-(информация-о-звонках)-1.2\"><span class=\"toc-item-num\">1.2&nbsp;&nbsp;</span>Таблица <code>calls</code> (информация о звонках)</a></span></li><li><span><a href=\"#Таблица-messages-(информация-о-сообщениях)\" data-toc-modified-id=\"Таблица-messages-(информация-о-сообщениях)-1.3\"><span class=\"toc-item-num\">1.3&nbsp;&nbsp;</span>Таблица <code>messages</code> (информация о сообщениях)</a></span></li><li><span><a href=\"#Таблица-internet-(информация-об-интернет-сессиях)\" data-toc-modified-id=\"Таблица-internet-(информация-об-интернет-сессиях)-1.4\"><span class=\"toc-item-num\">1.4&nbsp;&nbsp;</span>Таблица <code>internet</code> (информация об интернет-сессиях)</a></span></li><li><span><a href=\"#Таблица-tariffs-(информация-о-тарифах)\" data-toc-modified-id=\"Таблица-tariffs-(информация-о-тарифах)-1.5\"><span class=\"toc-item-num\">1.5&nbsp;&nbsp;</span>Таблица <code>tariffs</code> (информация о тарифах)</a></span></li></ul></li><li><span><a href=\"#Анализ-данных\" data-toc-modified-id=\"Анализ-данных-2\"><span class=\"toc-item-num\">2&nbsp;&nbsp;</span>Анализ данных</a></span><ul class=\"toc-item\"><li><span><a href=\"#Исследовательский-анализ-данных\" data-toc-modified-id=\"Исследовательский-анализ-данных-2.1\"><span class=\"toc-item-num\">2.1&nbsp;&nbsp;</span>Исследовательский анализ данных</a></span><ul class=\"toc-item\"><li><span><a href=\"#Длительность-звонков\" data-toc-modified-id=\"Длительность-звонков-2.1.1\"><span class=\"toc-item-num\">2.1.1&nbsp;&nbsp;</span>Длительность звонков</a></span></li><li><span><a href=\"#Объем-траффика-интернет-сессий\" data-toc-modified-id=\"Объем-траффика-интернет-сессий-2.1.2\"><span class=\"toc-item-num\">2.1.2&nbsp;&nbsp;</span>Объем траффика интернет сессий</a></span></li><li><span><a href=\"#Проверка-на-логические-ошибки\" data-toc-modified-id=\"Проверка-на-логические-ошибки-2.1.3\"><span class=\"toc-item-num\">2.1.3&nbsp;&nbsp;</span>Проверка на логические ошибки</a></span></li></ul></li><li><span><a href=\"#Подсчет-данных-по-абонентам\" data-toc-modified-id=\"Подсчет-данных-по-абонентам-2.2\"><span class=\"toc-item-num\">2.2&nbsp;&nbsp;</span>Подсчет данных по абонентам</a></span><ul class=\"toc-item\"><li><span><a href=\"#Количество-сделанных-звонков-по-месяцам-для-каждого-абонента-(исключая-несостоявшиеся)\" data-toc-modified-id=\"Количество-сделанных-звонков-по-месяцам-для-каждого-абонента-(исключая-несостоявшиеся)-2.2.1\"><span class=\"toc-item-num\">2.2.1&nbsp;&nbsp;</span>Количество сделанных звонков по месяцам для каждого абонента (исключая несостоявшиеся)</a></span></li><li><span><a href=\"#Количество-израсходованных-минут-разговора--по-месяцам-для-каждого-абонента\" data-toc-modified-id=\"Количество-израсходованных-минут-разговора--по-месяцам-для-каждого-абонента-2.2.2\"><span class=\"toc-item-num\">2.2.2&nbsp;&nbsp;</span>Количество израсходованных минут разговора  по месяцам для каждого абонента</a></span></li><li><span><a href=\"#Количество-отправленных-сообщений-по-месяцам-для-каждого-абонента\" data-toc-modified-id=\"Количество-отправленных-сообщений-по-месяцам-для-каждого-абонента-2.2.3\"><span class=\"toc-item-num\">2.2.3&nbsp;&nbsp;</span>Количество отправленных сообщений по месяцам для каждого абонента</a></span></li><li><span><a href=\"#Объем-израсходованного-интернет-трафика-по-месяцам-для-каждого-абонента\" data-toc-modified-id=\"Объем-израсходованного-интернет-трафика-по-месяцам-для-каждого-абонента-2.2.4\"><span class=\"toc-item-num\">2.2.4&nbsp;&nbsp;</span>Объем израсходованного интернет-трафика по месяцам для каждого абонента</a></span></li><li><span><a href=\"#Помесячная-выручка-с-каждого-пользователя\" data-toc-modified-id=\"Помесячная-выручка-с-каждого-пользователя-2.2.5\"><span class=\"toc-item-num\">2.2.5&nbsp;&nbsp;</span>Помесячная выручка с каждого пользователя</a></span></li></ul></li><li><span><a href=\"#Cтатистический-анализ-данных\" data-toc-modified-id=\"Cтатистический-анализ-данных-2.3\"><span class=\"toc-item-num\">2.3&nbsp;&nbsp;</span>Cтатистический анализ данных</a></span><ul class=\"toc-item\"><li><span><a href=\"#Помесячная-длительность-вызовов\" data-toc-modified-id=\"Помесячная-длительность-вызовов-2.3.1\"><span class=\"toc-item-num\">2.3.1&nbsp;&nbsp;</span>Помесячная длительность вызовов</a></span></li><li><span><a href=\"#Помесячное-количество-сообщений\" data-toc-modified-id=\"Помесячное-количество-сообщений-2.3.2\"><span class=\"toc-item-num\">2.3.2&nbsp;&nbsp;</span>Помесячное количество сообщений</a></span></li><li><span><a href=\"#Помесячный-интернет-траффик\" data-toc-modified-id=\"Помесячный-интернет-траффик-2.3.3\"><span class=\"toc-item-num\">2.3.3&nbsp;&nbsp;</span>Помесячный интернет траффик</a></span></li><li><span><a href=\"#Предложения-по-условиям-&quot;переходного&quot;-тарифа\" data-toc-modified-id=\"Предложения-по-условиям-&quot;переходного&quot;-тарифа-2.3.4\"><span class=\"toc-item-num\">2.3.4&nbsp;&nbsp;</span>Предложения по условиям \"переходного\" тарифа</a></span></li></ul></li><li><span><a href=\"#Проверка-статистических-гипотез\" data-toc-modified-id=\"Проверка-статистических-гипотез-2.4\"><span class=\"toc-item-num\">2.4&nbsp;&nbsp;</span>Проверка статистических гипотез</a></span><ul class=\"toc-item\"><li><span><a href=\"#Сравнение-средней-выручки-пользователей-тарифов-«Ультра»-и-«Смарт».\" data-toc-modified-id=\"Сравнение-средней-выручки-пользователей-тарифов-«Ультра»-и-«Смарт».-2.4.1\"><span class=\"toc-item-num\">2.4.1&nbsp;&nbsp;</span>Сравнение средней выручки пользователей тарифов «Ультра» и «Смарт».</a></span></li><li><span><a href=\"#Сравнение-средней-выручки-пользователей-из-Москвы-и-из-других-регионов.\" data-toc-modified-id=\"Сравнение-средней-выручки-пользователей-из-Москвы-и-из-других-регионов.-2.4.2\"><span class=\"toc-item-num\">2.4.2&nbsp;&nbsp;</span>Сравнение средней выручки пользователей из Москвы и из других регионов.</a></span></li></ul></li><li><span><a href=\"#Какой-тариф-приносит-больше-денег?\" data-toc-modified-id=\"Какой-тариф-приносит-больше-денег?-2.5\"><span class=\"toc-item-num\">2.5&nbsp;&nbsp;</span>Какой тариф приносит больше денег?</a></span></li></ul></li><li><span><a href=\"#Общий-вывод\" data-toc-modified-id=\"Общий-вывод-3\"><span class=\"toc-item-num\">3&nbsp;&nbsp;</span>Общий вывод</a></span></li></ul></div>"
   ]
  },
  {
   "cell_type": "markdown",
   "id": "e9efd717",
   "metadata": {},
   "source": [
    "## Обзор и предобработка данных"
   ]
  },
  {
   "cell_type": "markdown",
   "id": "7549b2d8",
   "metadata": {},
   "source": [
    "- Импортируем необходимые библиотеки \n",
    "- Прочитаем данные и сохраним их в датафреймах "
   ]
  },
  {
   "cell_type": "code",
   "execution_count": 1,
   "id": "2146af2f",
   "metadata": {},
   "outputs": [],
   "source": [
    "import pandas as pd\n",
    "import numpy as np\n",
    "from scipy import stats as st"
   ]
  },
  {
   "cell_type": "code",
   "execution_count": 2,
   "id": "5dcb179b",
   "metadata": {},
   "outputs": [],
   "source": [
    "try:\n",
    "    users = pd.read_csv('/datasets/users.csv')\n",
    "    calls = pd.read_csv('/datasets/calls.csv')\n",
    "    messages = pd.read_csv('/datasets/messages.csv')\n",
    "    internet = pd.read_csv('/datasets/internet.csv')\n",
    "    tariffs = pd.read_csv('/datasets/tariffs.csv')\n",
    "    \n",
    "except:\n",
    "    users = pd.read_csv('users.csv')\n",
    "    calls = pd.read_csv('calls.csv')\n",
    "    messages = pd.read_csv('messages.csv')\n",
    "    internet = pd.read_csv('internet.csv')\n",
    "    tariffs = pd.read_csv('tariffs.csv')"
   ]
  },
  {
   "cell_type": "markdown",
   "id": "429e337f",
   "metadata": {},
   "source": [
    "Рассмотрим каждую таблицу отдельно:\n",
    "- Выведем таблицу на экран\n",
    "- Посчитаем количество явных дубликатов\n",
    "- Для просмотра наличия пропусков и типов данных в столбца применем метод `.info()`\n",
    "- Для оценки дипазона числовых значений применим метод `.describe()`\n",
    "\n",
    "Напишем функцию `info`, для повторяющихся действий "
   ]
  },
  {
   "cell_type": "code",
   "execution_count": 3,
   "id": "c727afbf",
   "metadata": {},
   "outputs": [],
   "source": [
    "def info (table):\n",
    "    display(table.head())\n",
    "    print('Количество дубликатов равно:', table.duplicated().sum())\n",
    "    print()\n",
    "    table.info()"
   ]
  },
  {
   "cell_type": "markdown",
   "id": "87cd59d1",
   "metadata": {},
   "source": [
    "### Таблица `users` (информация о пользователях)"
   ]
  },
  {
   "cell_type": "code",
   "execution_count": 4,
   "id": "dd3470c6",
   "metadata": {},
   "outputs": [
    {
     "data": {
      "text/html": [
       "<div>\n",
       "<style scoped>\n",
       "    .dataframe tbody tr th:only-of-type {\n",
       "        vertical-align: middle;\n",
       "    }\n",
       "\n",
       "    .dataframe tbody tr th {\n",
       "        vertical-align: top;\n",
       "    }\n",
       "\n",
       "    .dataframe thead th {\n",
       "        text-align: right;\n",
       "    }\n",
       "</style>\n",
       "<table border=\"1\" class=\"dataframe\">\n",
       "  <thead>\n",
       "    <tr style=\"text-align: right;\">\n",
       "      <th></th>\n",
       "      <th>user_id</th>\n",
       "      <th>age</th>\n",
       "      <th>churn_date</th>\n",
       "      <th>city</th>\n",
       "      <th>first_name</th>\n",
       "      <th>last_name</th>\n",
       "      <th>reg_date</th>\n",
       "      <th>tariff</th>\n",
       "    </tr>\n",
       "  </thead>\n",
       "  <tbody>\n",
       "    <tr>\n",
       "      <th>0</th>\n",
       "      <td>1000</td>\n",
       "      <td>52</td>\n",
       "      <td>NaN</td>\n",
       "      <td>Краснодар</td>\n",
       "      <td>Рафаил</td>\n",
       "      <td>Верещагин</td>\n",
       "      <td>2018-05-25</td>\n",
       "      <td>ultra</td>\n",
       "    </tr>\n",
       "    <tr>\n",
       "      <th>1</th>\n",
       "      <td>1001</td>\n",
       "      <td>41</td>\n",
       "      <td>NaN</td>\n",
       "      <td>Москва</td>\n",
       "      <td>Иван</td>\n",
       "      <td>Ежов</td>\n",
       "      <td>2018-11-01</td>\n",
       "      <td>smart</td>\n",
       "    </tr>\n",
       "    <tr>\n",
       "      <th>2</th>\n",
       "      <td>1002</td>\n",
       "      <td>59</td>\n",
       "      <td>NaN</td>\n",
       "      <td>Стерлитамак</td>\n",
       "      <td>Евгений</td>\n",
       "      <td>Абрамович</td>\n",
       "      <td>2018-06-17</td>\n",
       "      <td>smart</td>\n",
       "    </tr>\n",
       "    <tr>\n",
       "      <th>3</th>\n",
       "      <td>1003</td>\n",
       "      <td>23</td>\n",
       "      <td>NaN</td>\n",
       "      <td>Москва</td>\n",
       "      <td>Белла</td>\n",
       "      <td>Белякова</td>\n",
       "      <td>2018-08-17</td>\n",
       "      <td>ultra</td>\n",
       "    </tr>\n",
       "    <tr>\n",
       "      <th>4</th>\n",
       "      <td>1004</td>\n",
       "      <td>68</td>\n",
       "      <td>NaN</td>\n",
       "      <td>Новокузнецк</td>\n",
       "      <td>Татьяна</td>\n",
       "      <td>Авдеенко</td>\n",
       "      <td>2018-05-14</td>\n",
       "      <td>ultra</td>\n",
       "    </tr>\n",
       "  </tbody>\n",
       "</table>\n",
       "</div>"
      ],
      "text/plain": [
       "   user_id  age churn_date         city first_name  last_name    reg_date  \\\n",
       "0     1000   52        NaN    Краснодар     Рафаил  Верещагин  2018-05-25   \n",
       "1     1001   41        NaN       Москва       Иван       Ежов  2018-11-01   \n",
       "2     1002   59        NaN  Стерлитамак    Евгений  Абрамович  2018-06-17   \n",
       "3     1003   23        NaN       Москва      Белла   Белякова  2018-08-17   \n",
       "4     1004   68        NaN  Новокузнецк    Татьяна   Авдеенко  2018-05-14   \n",
       "\n",
       "  tariff  \n",
       "0  ultra  \n",
       "1  smart  \n",
       "2  smart  \n",
       "3  ultra  \n",
       "4  ultra  "
      ]
     },
     "metadata": {},
     "output_type": "display_data"
    },
    {
     "name": "stdout",
     "output_type": "stream",
     "text": [
      "Количество дубликатов равно: 0\n",
      "\n",
      "<class 'pandas.core.frame.DataFrame'>\n",
      "RangeIndex: 500 entries, 0 to 499\n",
      "Data columns (total 8 columns):\n",
      " #   Column      Non-Null Count  Dtype \n",
      "---  ------      --------------  ----- \n",
      " 0   user_id     500 non-null    int64 \n",
      " 1   age         500 non-null    int64 \n",
      " 2   churn_date  38 non-null     object\n",
      " 3   city        500 non-null    object\n",
      " 4   first_name  500 non-null    object\n",
      " 5   last_name   500 non-null    object\n",
      " 6   reg_date    500 non-null    object\n",
      " 7   tariff      500 non-null    object\n",
      "dtypes: int64(2), object(6)\n",
      "memory usage: 31.4+ KB\n"
     ]
    },
    {
     "data": {
      "text/html": [
       "<div>\n",
       "<style scoped>\n",
       "    .dataframe tbody tr th:only-of-type {\n",
       "        vertical-align: middle;\n",
       "    }\n",
       "\n",
       "    .dataframe tbody tr th {\n",
       "        vertical-align: top;\n",
       "    }\n",
       "\n",
       "    .dataframe thead th {\n",
       "        text-align: right;\n",
       "    }\n",
       "</style>\n",
       "<table border=\"1\" class=\"dataframe\">\n",
       "  <thead>\n",
       "    <tr style=\"text-align: right;\">\n",
       "      <th></th>\n",
       "      <th>user_id</th>\n",
       "      <th>age</th>\n",
       "    </tr>\n",
       "  </thead>\n",
       "  <tbody>\n",
       "    <tr>\n",
       "      <th>count</th>\n",
       "      <td>500.000000</td>\n",
       "      <td>500.00000</td>\n",
       "    </tr>\n",
       "    <tr>\n",
       "      <th>mean</th>\n",
       "      <td>1249.500000</td>\n",
       "      <td>46.58800</td>\n",
       "    </tr>\n",
       "    <tr>\n",
       "      <th>std</th>\n",
       "      <td>144.481833</td>\n",
       "      <td>16.66763</td>\n",
       "    </tr>\n",
       "    <tr>\n",
       "      <th>min</th>\n",
       "      <td>1000.000000</td>\n",
       "      <td>18.00000</td>\n",
       "    </tr>\n",
       "    <tr>\n",
       "      <th>25%</th>\n",
       "      <td>1124.750000</td>\n",
       "      <td>32.00000</td>\n",
       "    </tr>\n",
       "    <tr>\n",
       "      <th>50%</th>\n",
       "      <td>1249.500000</td>\n",
       "      <td>46.00000</td>\n",
       "    </tr>\n",
       "    <tr>\n",
       "      <th>75%</th>\n",
       "      <td>1374.250000</td>\n",
       "      <td>62.00000</td>\n",
       "    </tr>\n",
       "    <tr>\n",
       "      <th>max</th>\n",
       "      <td>1499.000000</td>\n",
       "      <td>75.00000</td>\n",
       "    </tr>\n",
       "  </tbody>\n",
       "</table>\n",
       "</div>"
      ],
      "text/plain": [
       "           user_id        age\n",
       "count   500.000000  500.00000\n",
       "mean   1249.500000   46.58800\n",
       "std     144.481833   16.66763\n",
       "min    1000.000000   18.00000\n",
       "25%    1124.750000   32.00000\n",
       "50%    1249.500000   46.00000\n",
       "75%    1374.250000   62.00000\n",
       "max    1499.000000   75.00000"
      ]
     },
     "execution_count": 4,
     "metadata": {},
     "output_type": "execute_result"
    }
   ],
   "source": [
    "info(users)\n",
    "users.describe()"
   ]
  },
  {
   "cell_type": "markdown",
   "id": "16ceb1fe",
   "metadata": {},
   "source": [
    "В таблице отсутвуют дубликаты.\n",
    "Пропуски имеются только в столбце `churn_date`. Пропуски означают, что данные абоненты пользовались тарифами \"Смарт\" и \"Ультра\" по конец отчетного периода, остальные 38 абонентов прекратили пользоваться тарифами в течении 2018 года. \n",
    "\n",
    "Переведем тип данных в столбцах `churn_date` и `reg_date` в datetime, а также проверим уникальные значения в таблице, с целью выявлния неявных дубликатов."
   ]
  },
  {
   "cell_type": "code",
   "execution_count": 31,
   "id": "63476780",
   "metadata": {
    "scrolled": false
   },
   "outputs": [
    {
     "name": "stdout",
     "output_type": "stream",
     "text": [
      "Количество дубликатов user_id равно: 0\n",
      "\n",
      "user_id\n",
      "1000 - 1499\n",
      "\n",
      "age\n",
      "18 - 75\n",
      "\n",
      "churn_date\n",
      "NaT - NaT\n",
      "\n",
      "city\n",
      "Архангельск - Ярославль\n",
      "\n",
      "first_name\n",
      "Авксентий - Яна\n",
      "\n",
      "last_name\n",
      "Ёлчина - Яшина\n",
      "\n",
      "reg_date\n",
      "2018-01-01 00:00:00 - 2018-12-31 00:00:00\n",
      "\n",
      "tariff\n",
      "['smart', 'ultra']\n",
      "\n"
     ]
    }
   ],
   "source": [
    "users['churn_date'] = pd.to_datetime(users['churn_date'], format='%Y-%m-%dT')\n",
    "users['reg_date'] = pd.to_datetime(users['reg_date'], format='%Y-%m-%dT')\n",
    "\n",
    "print('Количество дубликатов user_id равно:', users['user_id'].duplicated().sum())\n",
    "print()\n",
    "for column in users:\n",
    "    print(column)\n",
    "    if users[column].nunique() > 20:\n",
    "        print(min(users[column]), '-', max(users[column])) \n",
    "    else:\n",
    "        print(sorted(users[column].unique()))\n",
    "    print()"
   ]
  },
  {
   "cell_type": "code",
   "execution_count": 6,
   "id": "9a3a9578",
   "metadata": {},
   "outputs": [
    {
     "name": "stdout",
     "output_type": "stream",
     "text": [
      "user_id 0\n",
      "age 442\n",
      "churn_date 466\n",
      "city 424\n",
      "first_name 254\n",
      "last_name 81\n",
      "reg_date 230\n",
      "tariff 498\n"
     ]
    }
   ],
   "source": [
    "for column in users:\n",
    "    print(column, users[column].duplicated().sum())"
   ]
  },
  {
   "cell_type": "markdown",
   "id": "32373cb8",
   "metadata": {},
   "source": [
    "\n",
    "- неявные дубликаты отсутствуют\n",
    "- id абонентов представлены в виде целых чисел в дапазоне от 1000 до 1499\n",
    "- возраст абонентов от 18 до 75 лет\n",
    "- все абоненты подключились к тарифам в 2018 году."
   ]
  },
  {
   "cell_type": "markdown",
   "id": "5ff8bc7f",
   "metadata": {},
   "source": [
    "### Таблица `calls` (информация о звонках)"
   ]
  },
  {
   "cell_type": "code",
   "execution_count": 7,
   "id": "b84c880e",
   "metadata": {},
   "outputs": [
    {
     "data": {
      "text/html": [
       "<div>\n",
       "<style scoped>\n",
       "    .dataframe tbody tr th:only-of-type {\n",
       "        vertical-align: middle;\n",
       "    }\n",
       "\n",
       "    .dataframe tbody tr th {\n",
       "        vertical-align: top;\n",
       "    }\n",
       "\n",
       "    .dataframe thead th {\n",
       "        text-align: right;\n",
       "    }\n",
       "</style>\n",
       "<table border=\"1\" class=\"dataframe\">\n",
       "  <thead>\n",
       "    <tr style=\"text-align: right;\">\n",
       "      <th></th>\n",
       "      <th>id</th>\n",
       "      <th>call_date</th>\n",
       "      <th>duration</th>\n",
       "      <th>user_id</th>\n",
       "    </tr>\n",
       "  </thead>\n",
       "  <tbody>\n",
       "    <tr>\n",
       "      <th>0</th>\n",
       "      <td>1000_0</td>\n",
       "      <td>2018-07-25</td>\n",
       "      <td>0.00</td>\n",
       "      <td>1000</td>\n",
       "    </tr>\n",
       "    <tr>\n",
       "      <th>1</th>\n",
       "      <td>1000_1</td>\n",
       "      <td>2018-08-17</td>\n",
       "      <td>0.00</td>\n",
       "      <td>1000</td>\n",
       "    </tr>\n",
       "    <tr>\n",
       "      <th>2</th>\n",
       "      <td>1000_2</td>\n",
       "      <td>2018-06-11</td>\n",
       "      <td>2.85</td>\n",
       "      <td>1000</td>\n",
       "    </tr>\n",
       "    <tr>\n",
       "      <th>3</th>\n",
       "      <td>1000_3</td>\n",
       "      <td>2018-09-21</td>\n",
       "      <td>13.80</td>\n",
       "      <td>1000</td>\n",
       "    </tr>\n",
       "    <tr>\n",
       "      <th>4</th>\n",
       "      <td>1000_4</td>\n",
       "      <td>2018-12-15</td>\n",
       "      <td>5.18</td>\n",
       "      <td>1000</td>\n",
       "    </tr>\n",
       "  </tbody>\n",
       "</table>\n",
       "</div>"
      ],
      "text/plain": [
       "       id   call_date  duration  user_id\n",
       "0  1000_0  2018-07-25      0.00     1000\n",
       "1  1000_1  2018-08-17      0.00     1000\n",
       "2  1000_2  2018-06-11      2.85     1000\n",
       "3  1000_3  2018-09-21     13.80     1000\n",
       "4  1000_4  2018-12-15      5.18     1000"
      ]
     },
     "metadata": {},
     "output_type": "display_data"
    },
    {
     "name": "stdout",
     "output_type": "stream",
     "text": [
      "Количество дубликатов равно: 0\n",
      "\n",
      "<class 'pandas.core.frame.DataFrame'>\n",
      "RangeIndex: 202607 entries, 0 to 202606\n",
      "Data columns (total 4 columns):\n",
      " #   Column     Non-Null Count   Dtype  \n",
      "---  ------     --------------   -----  \n",
      " 0   id         202607 non-null  object \n",
      " 1   call_date  202607 non-null  object \n",
      " 2   duration   202607 non-null  float64\n",
      " 3   user_id    202607 non-null  int64  \n",
      "dtypes: float64(1), int64(1), object(2)\n",
      "memory usage: 6.2+ MB\n"
     ]
    },
    {
     "data": {
      "text/html": [
       "<div>\n",
       "<style scoped>\n",
       "    .dataframe tbody tr th:only-of-type {\n",
       "        vertical-align: middle;\n",
       "    }\n",
       "\n",
       "    .dataframe tbody tr th {\n",
       "        vertical-align: top;\n",
       "    }\n",
       "\n",
       "    .dataframe thead th {\n",
       "        text-align: right;\n",
       "    }\n",
       "</style>\n",
       "<table border=\"1\" class=\"dataframe\">\n",
       "  <thead>\n",
       "    <tr style=\"text-align: right;\">\n",
       "      <th></th>\n",
       "      <th>duration</th>\n",
       "      <th>user_id</th>\n",
       "    </tr>\n",
       "  </thead>\n",
       "  <tbody>\n",
       "    <tr>\n",
       "      <th>count</th>\n",
       "      <td>202607.000000</td>\n",
       "      <td>202607.000000</td>\n",
       "    </tr>\n",
       "    <tr>\n",
       "      <th>mean</th>\n",
       "      <td>6.755887</td>\n",
       "      <td>1253.940619</td>\n",
       "    </tr>\n",
       "    <tr>\n",
       "      <th>std</th>\n",
       "      <td>5.843365</td>\n",
       "      <td>144.722751</td>\n",
       "    </tr>\n",
       "    <tr>\n",
       "      <th>min</th>\n",
       "      <td>0.000000</td>\n",
       "      <td>1000.000000</td>\n",
       "    </tr>\n",
       "    <tr>\n",
       "      <th>25%</th>\n",
       "      <td>1.300000</td>\n",
       "      <td>1126.000000</td>\n",
       "    </tr>\n",
       "    <tr>\n",
       "      <th>50%</th>\n",
       "      <td>6.000000</td>\n",
       "      <td>1260.000000</td>\n",
       "    </tr>\n",
       "    <tr>\n",
       "      <th>75%</th>\n",
       "      <td>10.700000</td>\n",
       "      <td>1379.000000</td>\n",
       "    </tr>\n",
       "    <tr>\n",
       "      <th>max</th>\n",
       "      <td>38.000000</td>\n",
       "      <td>1499.000000</td>\n",
       "    </tr>\n",
       "  </tbody>\n",
       "</table>\n",
       "</div>"
      ],
      "text/plain": [
       "            duration        user_id\n",
       "count  202607.000000  202607.000000\n",
       "mean        6.755887    1253.940619\n",
       "std         5.843365     144.722751\n",
       "min         0.000000    1000.000000\n",
       "25%         1.300000    1126.000000\n",
       "50%         6.000000    1260.000000\n",
       "75%        10.700000    1379.000000\n",
       "max        38.000000    1499.000000"
      ]
     },
     "execution_count": 7,
     "metadata": {},
     "output_type": "execute_result"
    }
   ],
   "source": [
    "info(calls)\n",
    "calls.describe()"
   ]
  },
  {
   "cell_type": "markdown",
   "id": "e153a3bc",
   "metadata": {},
   "source": [
    "Отсутствуют пропуски и дубликаты. В столбце `user_id` значения совпадают с таблицей `users`.\n",
    "\n",
    "- Изменим тип данных на datetime\n",
    "- Согласно тарификации округлим дробные значения в столбце `duration` до целых минут "
   ]
  },
  {
   "cell_type": "code",
   "execution_count": 8,
   "id": "5c29ba0d",
   "metadata": {
    "scrolled": true
   },
   "outputs": [],
   "source": [
    "calls['call_date'] = pd.to_datetime(calls['call_date'], format='%Y-%m-%dT')\n",
    "\n",
    "calls['duration'] = np.ceil(calls['duration']).astype(int) # округление минут в большую сторону"
   ]
  },
  {
   "cell_type": "markdown",
   "id": "dd5325e6",
   "metadata": {},
   "source": [
    "- Длительность звонков в таблице от нуля 38 минут\n",
    "- Средняя длительность звонка 6.76 минут."
   ]
  },
  {
   "cell_type": "markdown",
   "id": "4c57c74d",
   "metadata": {},
   "source": [
    "### Таблица `messages` (информация о сообщениях)"
   ]
  },
  {
   "cell_type": "code",
   "execution_count": 9,
   "id": "480443de",
   "metadata": {
    "scrolled": false
   },
   "outputs": [
    {
     "data": {
      "text/html": [
       "<div>\n",
       "<style scoped>\n",
       "    .dataframe tbody tr th:only-of-type {\n",
       "        vertical-align: middle;\n",
       "    }\n",
       "\n",
       "    .dataframe tbody tr th {\n",
       "        vertical-align: top;\n",
       "    }\n",
       "\n",
       "    .dataframe thead th {\n",
       "        text-align: right;\n",
       "    }\n",
       "</style>\n",
       "<table border=\"1\" class=\"dataframe\">\n",
       "  <thead>\n",
       "    <tr style=\"text-align: right;\">\n",
       "      <th></th>\n",
       "      <th>id</th>\n",
       "      <th>message_date</th>\n",
       "      <th>user_id</th>\n",
       "    </tr>\n",
       "  </thead>\n",
       "  <tbody>\n",
       "    <tr>\n",
       "      <th>0</th>\n",
       "      <td>1000_0</td>\n",
       "      <td>2018-06-27</td>\n",
       "      <td>1000</td>\n",
       "    </tr>\n",
       "    <tr>\n",
       "      <th>1</th>\n",
       "      <td>1000_1</td>\n",
       "      <td>2018-10-08</td>\n",
       "      <td>1000</td>\n",
       "    </tr>\n",
       "    <tr>\n",
       "      <th>2</th>\n",
       "      <td>1000_2</td>\n",
       "      <td>2018-08-04</td>\n",
       "      <td>1000</td>\n",
       "    </tr>\n",
       "    <tr>\n",
       "      <th>3</th>\n",
       "      <td>1000_3</td>\n",
       "      <td>2018-06-16</td>\n",
       "      <td>1000</td>\n",
       "    </tr>\n",
       "    <tr>\n",
       "      <th>4</th>\n",
       "      <td>1000_4</td>\n",
       "      <td>2018-12-05</td>\n",
       "      <td>1000</td>\n",
       "    </tr>\n",
       "  </tbody>\n",
       "</table>\n",
       "</div>"
      ],
      "text/plain": [
       "       id message_date  user_id\n",
       "0  1000_0   2018-06-27     1000\n",
       "1  1000_1   2018-10-08     1000\n",
       "2  1000_2   2018-08-04     1000\n",
       "3  1000_3   2018-06-16     1000\n",
       "4  1000_4   2018-12-05     1000"
      ]
     },
     "metadata": {},
     "output_type": "display_data"
    },
    {
     "name": "stdout",
     "output_type": "stream",
     "text": [
      "Количество дубликатов равно: 0\n",
      "\n",
      "<class 'pandas.core.frame.DataFrame'>\n",
      "RangeIndex: 123036 entries, 0 to 123035\n",
      "Data columns (total 3 columns):\n",
      " #   Column        Non-Null Count   Dtype \n",
      "---  ------        --------------   ----- \n",
      " 0   id            123036 non-null  object\n",
      " 1   message_date  123036 non-null  object\n",
      " 2   user_id       123036 non-null  int64 \n",
      "dtypes: int64(1), object(2)\n",
      "memory usage: 2.8+ MB\n"
     ]
    },
    {
     "data": {
      "text/html": [
       "<div>\n",
       "<style scoped>\n",
       "    .dataframe tbody tr th:only-of-type {\n",
       "        vertical-align: middle;\n",
       "    }\n",
       "\n",
       "    .dataframe tbody tr th {\n",
       "        vertical-align: top;\n",
       "    }\n",
       "\n",
       "    .dataframe thead th {\n",
       "        text-align: right;\n",
       "    }\n",
       "</style>\n",
       "<table border=\"1\" class=\"dataframe\">\n",
       "  <thead>\n",
       "    <tr style=\"text-align: right;\">\n",
       "      <th></th>\n",
       "      <th>user_id</th>\n",
       "    </tr>\n",
       "  </thead>\n",
       "  <tbody>\n",
       "    <tr>\n",
       "      <th>count</th>\n",
       "      <td>123036.000000</td>\n",
       "    </tr>\n",
       "    <tr>\n",
       "      <th>mean</th>\n",
       "      <td>1256.989410</td>\n",
       "    </tr>\n",
       "    <tr>\n",
       "      <th>std</th>\n",
       "      <td>143.523967</td>\n",
       "    </tr>\n",
       "    <tr>\n",
       "      <th>min</th>\n",
       "      <td>1000.000000</td>\n",
       "    </tr>\n",
       "    <tr>\n",
       "      <th>25%</th>\n",
       "      <td>1134.000000</td>\n",
       "    </tr>\n",
       "    <tr>\n",
       "      <th>50%</th>\n",
       "      <td>1271.000000</td>\n",
       "    </tr>\n",
       "    <tr>\n",
       "      <th>75%</th>\n",
       "      <td>1381.000000</td>\n",
       "    </tr>\n",
       "    <tr>\n",
       "      <th>max</th>\n",
       "      <td>1499.000000</td>\n",
       "    </tr>\n",
       "  </tbody>\n",
       "</table>\n",
       "</div>"
      ],
      "text/plain": [
       "             user_id\n",
       "count  123036.000000\n",
       "mean     1256.989410\n",
       "std       143.523967\n",
       "min      1000.000000\n",
       "25%      1134.000000\n",
       "50%      1271.000000\n",
       "75%      1381.000000\n",
       "max      1499.000000"
      ]
     },
     "execution_count": 9,
     "metadata": {},
     "output_type": "execute_result"
    }
   ],
   "source": [
    "info(messages)\n",
    "messages.describe()"
   ]
  },
  {
   "cell_type": "markdown",
   "id": "8f085303",
   "metadata": {},
   "source": [
    "Отсутствуют пропуски и дубликаты. В столбце `user_id` значения совпадают с таблицей `users`.\n",
    "\n",
    "Изменим тип данных на datetime"
   ]
  },
  {
   "cell_type": "code",
   "execution_count": 10,
   "id": "854e993c",
   "metadata": {},
   "outputs": [],
   "source": [
    "messages['message_date'] = pd.to_datetime(messages['message_date'], format='%Y-%m-%dT')"
   ]
  },
  {
   "cell_type": "markdown",
   "id": "d4e9981c",
   "metadata": {},
   "source": [
    "- 123 306 сообщений отправили 500 абонентов \"Мегалайн\" в 2018 году."
   ]
  },
  {
   "cell_type": "markdown",
   "id": "c3386f14",
   "metadata": {},
   "source": [
    "### Таблица `internet` (информация об интернет-сессиях)"
   ]
  },
  {
   "cell_type": "code",
   "execution_count": 11,
   "id": "1544b14a",
   "metadata": {},
   "outputs": [
    {
     "data": {
      "text/html": [
       "<div>\n",
       "<style scoped>\n",
       "    .dataframe tbody tr th:only-of-type {\n",
       "        vertical-align: middle;\n",
       "    }\n",
       "\n",
       "    .dataframe tbody tr th {\n",
       "        vertical-align: top;\n",
       "    }\n",
       "\n",
       "    .dataframe thead th {\n",
       "        text-align: right;\n",
       "    }\n",
       "</style>\n",
       "<table border=\"1\" class=\"dataframe\">\n",
       "  <thead>\n",
       "    <tr style=\"text-align: right;\">\n",
       "      <th></th>\n",
       "      <th>Unnamed: 0</th>\n",
       "      <th>id</th>\n",
       "      <th>mb_used</th>\n",
       "      <th>session_date</th>\n",
       "      <th>user_id</th>\n",
       "    </tr>\n",
       "  </thead>\n",
       "  <tbody>\n",
       "    <tr>\n",
       "      <th>0</th>\n",
       "      <td>0</td>\n",
       "      <td>1000_0</td>\n",
       "      <td>112.95</td>\n",
       "      <td>2018-11-25</td>\n",
       "      <td>1000</td>\n",
       "    </tr>\n",
       "    <tr>\n",
       "      <th>1</th>\n",
       "      <td>1</td>\n",
       "      <td>1000_1</td>\n",
       "      <td>1052.81</td>\n",
       "      <td>2018-09-07</td>\n",
       "      <td>1000</td>\n",
       "    </tr>\n",
       "    <tr>\n",
       "      <th>2</th>\n",
       "      <td>2</td>\n",
       "      <td>1000_2</td>\n",
       "      <td>1197.26</td>\n",
       "      <td>2018-06-25</td>\n",
       "      <td>1000</td>\n",
       "    </tr>\n",
       "    <tr>\n",
       "      <th>3</th>\n",
       "      <td>3</td>\n",
       "      <td>1000_3</td>\n",
       "      <td>550.27</td>\n",
       "      <td>2018-08-22</td>\n",
       "      <td>1000</td>\n",
       "    </tr>\n",
       "    <tr>\n",
       "      <th>4</th>\n",
       "      <td>4</td>\n",
       "      <td>1000_4</td>\n",
       "      <td>302.56</td>\n",
       "      <td>2018-09-24</td>\n",
       "      <td>1000</td>\n",
       "    </tr>\n",
       "  </tbody>\n",
       "</table>\n",
       "</div>"
      ],
      "text/plain": [
       "   Unnamed: 0      id  mb_used session_date  user_id\n",
       "0           0  1000_0   112.95   2018-11-25     1000\n",
       "1           1  1000_1  1052.81   2018-09-07     1000\n",
       "2           2  1000_2  1197.26   2018-06-25     1000\n",
       "3           3  1000_3   550.27   2018-08-22     1000\n",
       "4           4  1000_4   302.56   2018-09-24     1000"
      ]
     },
     "metadata": {},
     "output_type": "display_data"
    },
    {
     "name": "stdout",
     "output_type": "stream",
     "text": [
      "Количество дубликатов равно: 0\n",
      "\n",
      "<class 'pandas.core.frame.DataFrame'>\n",
      "RangeIndex: 149396 entries, 0 to 149395\n",
      "Data columns (total 5 columns):\n",
      " #   Column        Non-Null Count   Dtype  \n",
      "---  ------        --------------   -----  \n",
      " 0   Unnamed: 0    149396 non-null  int64  \n",
      " 1   id            149396 non-null  object \n",
      " 2   mb_used       149396 non-null  float64\n",
      " 3   session_date  149396 non-null  object \n",
      " 4   user_id       149396 non-null  int64  \n",
      "dtypes: float64(1), int64(2), object(2)\n",
      "memory usage: 5.7+ MB\n"
     ]
    },
    {
     "data": {
      "text/html": [
       "<div>\n",
       "<style scoped>\n",
       "    .dataframe tbody tr th:only-of-type {\n",
       "        vertical-align: middle;\n",
       "    }\n",
       "\n",
       "    .dataframe tbody tr th {\n",
       "        vertical-align: top;\n",
       "    }\n",
       "\n",
       "    .dataframe thead th {\n",
       "        text-align: right;\n",
       "    }\n",
       "</style>\n",
       "<table border=\"1\" class=\"dataframe\">\n",
       "  <thead>\n",
       "    <tr style=\"text-align: right;\">\n",
       "      <th></th>\n",
       "      <th>Unnamed: 0</th>\n",
       "      <th>mb_used</th>\n",
       "      <th>user_id</th>\n",
       "    </tr>\n",
       "  </thead>\n",
       "  <tbody>\n",
       "    <tr>\n",
       "      <th>count</th>\n",
       "      <td>149396.000000</td>\n",
       "      <td>149396.000000</td>\n",
       "      <td>149396.000000</td>\n",
       "    </tr>\n",
       "    <tr>\n",
       "      <th>mean</th>\n",
       "      <td>74697.500000</td>\n",
       "      <td>370.192426</td>\n",
       "      <td>1252.099842</td>\n",
       "    </tr>\n",
       "    <tr>\n",
       "      <th>std</th>\n",
       "      <td>43127.054745</td>\n",
       "      <td>278.300951</td>\n",
       "      <td>144.050823</td>\n",
       "    </tr>\n",
       "    <tr>\n",
       "      <th>min</th>\n",
       "      <td>0.000000</td>\n",
       "      <td>0.000000</td>\n",
       "      <td>1000.000000</td>\n",
       "    </tr>\n",
       "    <tr>\n",
       "      <th>25%</th>\n",
       "      <td>37348.750000</td>\n",
       "      <td>138.187500</td>\n",
       "      <td>1130.000000</td>\n",
       "    </tr>\n",
       "    <tr>\n",
       "      <th>50%</th>\n",
       "      <td>74697.500000</td>\n",
       "      <td>348.015000</td>\n",
       "      <td>1251.000000</td>\n",
       "    </tr>\n",
       "    <tr>\n",
       "      <th>75%</th>\n",
       "      <td>112046.250000</td>\n",
       "      <td>559.552500</td>\n",
       "      <td>1380.000000</td>\n",
       "    </tr>\n",
       "    <tr>\n",
       "      <th>max</th>\n",
       "      <td>149395.000000</td>\n",
       "      <td>1724.830000</td>\n",
       "      <td>1499.000000</td>\n",
       "    </tr>\n",
       "  </tbody>\n",
       "</table>\n",
       "</div>"
      ],
      "text/plain": [
       "          Unnamed: 0        mb_used        user_id\n",
       "count  149396.000000  149396.000000  149396.000000\n",
       "mean    74697.500000     370.192426    1252.099842\n",
       "std     43127.054745     278.300951     144.050823\n",
       "min         0.000000       0.000000    1000.000000\n",
       "25%     37348.750000     138.187500    1130.000000\n",
       "50%     74697.500000     348.015000    1251.000000\n",
       "75%    112046.250000     559.552500    1380.000000\n",
       "max    149395.000000    1724.830000    1499.000000"
      ]
     },
     "execution_count": 11,
     "metadata": {},
     "output_type": "execute_result"
    }
   ],
   "source": [
    "info(internet)\n",
    "internet.describe()"
   ]
  },
  {
   "cell_type": "markdown",
   "id": "553752b7",
   "metadata": {},
   "source": [
    "Отсутствуют пропуски и дубликаты. В столбце user_id значения совпадают с таблицей users.\n",
    "\n",
    "- Удалим столбец `Unnamed: 0`, так как он дублирует индексы\n",
    "- Изменим типа данных на datetime"
   ]
  },
  {
   "cell_type": "code",
   "execution_count": 12,
   "id": "dc3eec27",
   "metadata": {},
   "outputs": [],
   "source": [
    "internet.drop('Unnamed: 0', axis=1, inplace=True)\n",
    "internet['session_date'] = pd.to_datetime(internet['session_date'], format='%Y-%m-%dT')"
   ]
  },
  {
   "cell_type": "markdown",
   "id": "b34e9e02",
   "metadata": {},
   "source": [
    "### Таблица `tariffs` (информация о тарифах)"
   ]
  },
  {
   "cell_type": "code",
   "execution_count": 13,
   "id": "4bfd911b",
   "metadata": {
    "scrolled": false
   },
   "outputs": [
    {
     "data": {
      "text/html": [
       "<div>\n",
       "<style scoped>\n",
       "    .dataframe tbody tr th:only-of-type {\n",
       "        vertical-align: middle;\n",
       "    }\n",
       "\n",
       "    .dataframe tbody tr th {\n",
       "        vertical-align: top;\n",
       "    }\n",
       "\n",
       "    .dataframe thead th {\n",
       "        text-align: right;\n",
       "    }\n",
       "</style>\n",
       "<table border=\"1\" class=\"dataframe\">\n",
       "  <thead>\n",
       "    <tr style=\"text-align: right;\">\n",
       "      <th></th>\n",
       "      <th>messages_included</th>\n",
       "      <th>mb_per_month_included</th>\n",
       "      <th>minutes_included</th>\n",
       "      <th>rub_monthly_fee</th>\n",
       "      <th>rub_per_gb</th>\n",
       "      <th>rub_per_message</th>\n",
       "      <th>rub_per_minute</th>\n",
       "      <th>tariff_name</th>\n",
       "    </tr>\n",
       "  </thead>\n",
       "  <tbody>\n",
       "    <tr>\n",
       "      <th>0</th>\n",
       "      <td>50</td>\n",
       "      <td>15360</td>\n",
       "      <td>500</td>\n",
       "      <td>550</td>\n",
       "      <td>200</td>\n",
       "      <td>3</td>\n",
       "      <td>3</td>\n",
       "      <td>smart</td>\n",
       "    </tr>\n",
       "    <tr>\n",
       "      <th>1</th>\n",
       "      <td>1000</td>\n",
       "      <td>30720</td>\n",
       "      <td>3000</td>\n",
       "      <td>1950</td>\n",
       "      <td>150</td>\n",
       "      <td>1</td>\n",
       "      <td>1</td>\n",
       "      <td>ultra</td>\n",
       "    </tr>\n",
       "  </tbody>\n",
       "</table>\n",
       "</div>"
      ],
      "text/plain": [
       "   messages_included  mb_per_month_included  minutes_included  \\\n",
       "0                 50                  15360               500   \n",
       "1               1000                  30720              3000   \n",
       "\n",
       "   rub_monthly_fee  rub_per_gb  rub_per_message  rub_per_minute tariff_name  \n",
       "0              550         200                3               3       smart  \n",
       "1             1950         150                1               1       ultra  "
      ]
     },
     "metadata": {},
     "output_type": "display_data"
    },
    {
     "name": "stdout",
     "output_type": "stream",
     "text": [
      "Количество дубликатов равно: 0\n",
      "\n",
      "<class 'pandas.core.frame.DataFrame'>\n",
      "RangeIndex: 2 entries, 0 to 1\n",
      "Data columns (total 8 columns):\n",
      " #   Column                 Non-Null Count  Dtype \n",
      "---  ------                 --------------  ----- \n",
      " 0   messages_included      2 non-null      int64 \n",
      " 1   mb_per_month_included  2 non-null      int64 \n",
      " 2   minutes_included       2 non-null      int64 \n",
      " 3   rub_monthly_fee        2 non-null      int64 \n",
      " 4   rub_per_gb             2 non-null      int64 \n",
      " 5   rub_per_message        2 non-null      int64 \n",
      " 6   rub_per_minute         2 non-null      int64 \n",
      " 7   tariff_name            2 non-null      object\n",
      "dtypes: int64(7), object(1)\n",
      "memory usage: 256.0+ bytes\n"
     ]
    }
   ],
   "source": [
    "info(tariffs)"
   ]
  },
  {
   "cell_type": "markdown",
   "id": "d172d2f2",
   "metadata": {},
   "source": [
    "Отличная справочная таблица, единственное исправим название столбца `tarrif_name` на `tarrif` как в таблице `users`"
   ]
  },
  {
   "cell_type": "code",
   "execution_count": 14,
   "id": "91184c7b",
   "metadata": {},
   "outputs": [],
   "source": [
    "tariffs = tariffs.rename(columns={'tariff_name': 'tariff'}) "
   ]
  },
  {
   "cell_type": "markdown",
   "id": "052c7ee0",
   "metadata": {},
   "source": [
    "**Итог**\n",
    "\n",
    "Просмотрели и обработали данные во всех таблицах. \n",
    "\n",
    "- В ходе обработки выявили, что в столбцах с датами использовался строковый тип данных, исправили на datetime. \n",
    "- Удалили лишний столбец в таблице `internet`. \n",
    "- Привели тип данных с длительностью звонков к целочисленному типу с округлением в большую сторону. \n",
    "- Убедились, что отсутствуют явные и неявные дубликаты.\n",
    "- Привели названия столбцов к единому виду"
   ]
  },
  {
   "cell_type": "markdown",
   "id": "f16b01a4",
   "metadata": {},
   "source": [
    "## Анализ данных"
   ]
  },
  {
   "cell_type": "markdown",
   "id": "a69b93e0",
   "metadata": {},
   "source": [
    "### Исследовательский анализ данных"
   ]
  },
  {
   "cell_type": "markdown",
   "id": "2f771cd2",
   "metadata": {},
   "source": [
    "#### Длительность звонков\n",
    "Выведем на экран гистограмму значений в столбце `duration`."
   ]
  },
  {
   "cell_type": "code",
   "execution_count": 15,
   "id": "0c023d7e",
   "metadata": {
    "scrolled": true
   },
   "outputs": [
    {
     "data": {
      "image/png": "[encoded data removed]",
      "text/plain": [
       "<Figure size 432x288 with 1 Axes>"
      ]
     },
     "metadata": {
      "needs_background": "light"
     },
     "output_type": "display_data"
    }
   ],
   "source": [
    "calls['duration'].plot(kind='hist', bins=39, grid=True, title='Длительность звонка в минутах');"
   ]
  },
  {
   "cell_type": "markdown",
   "id": "6c048cfd",
   "metadata": {},
   "source": [
    "Почти 40 тысяч звонков из 202 607 не состоялись."
   ]
  },
  {
   "cell_type": "markdown",
   "id": "13ab97c7",
   "metadata": {},
   "source": [
    "#### Объем траффика интернет сессий\n",
    "Посторим гистограмму:"
   ]
  },
  {
   "cell_type": "code",
   "execution_count": 16,
   "id": "4fe89a42",
   "metadata": {},
   "outputs": [
    {
     "data": {
      "image/png": "[encoded data removed]",
      "text/plain": [
       "<Figure size 432x288 with 1 Axes>"
      ]
     },
     "metadata": {
      "needs_background": "light"
     },
     "output_type": "display_data"
    }
   ],
   "source": [
    "internet['mb_used'].plot(kind='hist', bins=100, grid=True, title='Объём потраченного за сессию интернет-трафика (в мегабайтах)');"
   ]
  },
  {
   "cell_type": "markdown",
   "id": "315783ff",
   "metadata": {},
   "source": [
    "Видим, много значений около нуля, посчитаем точное количество нулевых интернет сессий."
   ]
  },
  {
   "cell_type": "code",
   "execution_count": 17,
   "id": "4036fd27",
   "metadata": {},
   "outputs": [
    {
     "data": {
      "text/plain": [
       "19598"
      ]
     },
     "execution_count": 17,
     "metadata": {},
     "output_type": "execute_result"
    }
   ],
   "source": [
    "len(internet[internet['mb_used'] == 0])"
   ]
  },
  {
   "cell_type": "markdown",
   "id": "a9d2de51",
   "metadata": {},
   "source": [
    "Предположим, что нулевая интернет-сессия означает, что абонент не пользовался интернетом в определенный день.\n",
    "\n",
    "Для этого сгруппируем таблицу по датам и абонентам, посчитаем количество строк, где `mb_used` равно нулю. Если предположение правильное, то значения будут равняться только единице."
   ]
  },
  {
   "cell_type": "code",
   "execution_count": 18,
   "id": "e79c5b90",
   "metadata": {},
   "outputs": [
    {
     "data": {
      "text/html": [
       "<div>\n",
       "<style scoped>\n",
       "    .dataframe tbody tr th:only-of-type {\n",
       "        vertical-align: middle;\n",
       "    }\n",
       "\n",
       "    .dataframe tbody tr th {\n",
       "        vertical-align: top;\n",
       "    }\n",
       "\n",
       "    .dataframe thead th {\n",
       "        text-align: right;\n",
       "    }\n",
       "</style>\n",
       "<table border=\"1\" class=\"dataframe\">\n",
       "  <thead>\n",
       "    <tr style=\"text-align: right;\">\n",
       "      <th></th>\n",
       "      <th></th>\n",
       "      <th>id</th>\n",
       "    </tr>\n",
       "    <tr>\n",
       "      <th>session_date</th>\n",
       "      <th>user_id</th>\n",
       "      <th></th>\n",
       "    </tr>\n",
       "  </thead>\n",
       "  <tbody>\n",
       "    <tr>\n",
       "      <th>2018-12-30</th>\n",
       "      <th>1074</th>\n",
       "      <td>7</td>\n",
       "    </tr>\n",
       "    <tr>\n",
       "      <th rowspan=\"2\" valign=\"top\">2018-12-31</th>\n",
       "      <th>1140</th>\n",
       "      <td>7</td>\n",
       "    </tr>\n",
       "    <tr>\n",
       "      <th>1258</th>\n",
       "      <td>7</td>\n",
       "    </tr>\n",
       "    <tr>\n",
       "      <th>2018-09-04</th>\n",
       "      <th>1010</th>\n",
       "      <td>5</td>\n",
       "    </tr>\n",
       "    <tr>\n",
       "      <th>2018-12-23</th>\n",
       "      <th>1387</th>\n",
       "      <td>4</td>\n",
       "    </tr>\n",
       "    <tr>\n",
       "      <th>...</th>\n",
       "      <th>...</th>\n",
       "      <td>...</td>\n",
       "    </tr>\n",
       "    <tr>\n",
       "      <th rowspan=\"4\" valign=\"top\">2018-08-10</th>\n",
       "      <th>1040</th>\n",
       "      <td>1</td>\n",
       "    </tr>\n",
       "    <tr>\n",
       "      <th>1050</th>\n",
       "      <td>1</td>\n",
       "    </tr>\n",
       "    <tr>\n",
       "      <th>1055</th>\n",
       "      <td>1</td>\n",
       "    </tr>\n",
       "    <tr>\n",
       "      <th>1071</th>\n",
       "      <td>1</td>\n",
       "    </tr>\n",
       "    <tr>\n",
       "      <th>2018-12-31</th>\n",
       "      <th>1485</th>\n",
       "      <td>1</td>\n",
       "    </tr>\n",
       "  </tbody>\n",
       "</table>\n",
       "<p>17033 rows × 1 columns</p>\n",
       "</div>"
      ],
      "text/plain": [
       "                      id\n",
       "session_date user_id    \n",
       "2018-12-30   1074      7\n",
       "2018-12-31   1140      7\n",
       "             1258      7\n",
       "2018-09-04   1010      5\n",
       "2018-12-23   1387      4\n",
       "...                   ..\n",
       "2018-08-10   1040      1\n",
       "             1050      1\n",
       "             1055      1\n",
       "             1071      1\n",
       "2018-12-31   1485      1\n",
       "\n",
       "[17033 rows x 1 columns]"
      ]
     },
     "execution_count": 18,
     "metadata": {},
     "output_type": "execute_result"
    }
   ],
   "source": [
    "internet[internet['mb_used'] == 0].pivot_table(index=('session_date', 'user_id'), values='id', \\\n",
    "                                               aggfunc='count').sort_values(by='id', ascending=False)"
   ]
  },
  {
   "cell_type": "markdown",
   "id": "fccbdec9",
   "metadata": {},
   "source": [
    "Наше предположение оказалось неверным. Нулевые интернет сессии могут появляться вследствии особенностей сбора данных."
   ]
  },
  {
   "cell_type": "markdown",
   "id": "a7bd3784",
   "metadata": {},
   "source": [
    "#### Проверка на логические ошибки\n",
    "\n",
    "38 абонентов перестали пользоваться исследуемыми тарифами. На этом этапе убедимся в отсутствии активности после даты отключения тарифа "
   ]
  },
  {
   "cell_type": "code",
   "execution_count": 19,
   "id": "22606ce7",
   "metadata": {},
   "outputs": [
    {
     "data": {
      "text/html": [
       "<div>\n",
       "<style scoped>\n",
       "    .dataframe tbody tr th:only-of-type {\n",
       "        vertical-align: middle;\n",
       "    }\n",
       "\n",
       "    .dataframe tbody tr th {\n",
       "        vertical-align: top;\n",
       "    }\n",
       "\n",
       "    .dataframe thead th {\n",
       "        text-align: right;\n",
       "    }\n",
       "</style>\n",
       "<table border=\"1\" class=\"dataframe\">\n",
       "  <thead>\n",
       "    <tr style=\"text-align: right;\">\n",
       "      <th></th>\n",
       "      <th>user_id</th>\n",
       "      <th>age</th>\n",
       "      <th>churn_date</th>\n",
       "      <th>city</th>\n",
       "      <th>first_name</th>\n",
       "      <th>last_name</th>\n",
       "      <th>reg_date</th>\n",
       "      <th>tariff</th>\n",
       "    </tr>\n",
       "  </thead>\n",
       "  <tbody>\n",
       "  </tbody>\n",
       "</table>\n",
       "</div>"
      ],
      "text/plain": [
       "Empty DataFrame\n",
       "Columns: [user_id, age, churn_date, city, first_name, last_name, reg_date, tariff]\n",
       "Index: []"
      ]
     },
     "metadata": {},
     "output_type": "display_data"
    },
    {
     "data": {
      "text/html": [
       "<div>\n",
       "<style scoped>\n",
       "    .dataframe tbody tr th:only-of-type {\n",
       "        vertical-align: middle;\n",
       "    }\n",
       "\n",
       "    .dataframe tbody tr th {\n",
       "        vertical-align: top;\n",
       "    }\n",
       "\n",
       "    .dataframe thead th {\n",
       "        text-align: right;\n",
       "    }\n",
       "</style>\n",
       "<table border=\"1\" class=\"dataframe\">\n",
       "  <thead>\n",
       "    <tr style=\"text-align: right;\">\n",
       "      <th></th>\n",
       "      <th>id</th>\n",
       "      <th>call_date</th>\n",
       "      <th>duration</th>\n",
       "      <th>user_id</th>\n",
       "      <th>churn_date</th>\n",
       "    </tr>\n",
       "  </thead>\n",
       "  <tbody>\n",
       "  </tbody>\n",
       "</table>\n",
       "</div>"
      ],
      "text/plain": [
       "Empty DataFrame\n",
       "Columns: [id, call_date, duration, user_id, churn_date]\n",
       "Index: []"
      ]
     },
     "metadata": {},
     "output_type": "display_data"
    },
    {
     "data": {
      "text/html": [
       "<div>\n",
       "<style scoped>\n",
       "    .dataframe tbody tr th:only-of-type {\n",
       "        vertical-align: middle;\n",
       "    }\n",
       "\n",
       "    .dataframe tbody tr th {\n",
       "        vertical-align: top;\n",
       "    }\n",
       "\n",
       "    .dataframe thead th {\n",
       "        text-align: right;\n",
       "    }\n",
       "</style>\n",
       "<table border=\"1\" class=\"dataframe\">\n",
       "  <thead>\n",
       "    <tr style=\"text-align: right;\">\n",
       "      <th></th>\n",
       "      <th>id</th>\n",
       "      <th>message_date</th>\n",
       "      <th>user_id</th>\n",
       "      <th>churn_date</th>\n",
       "    </tr>\n",
       "  </thead>\n",
       "  <tbody>\n",
       "  </tbody>\n",
       "</table>\n",
       "</div>"
      ],
      "text/plain": [
       "Empty DataFrame\n",
       "Columns: [id, message_date, user_id, churn_date]\n",
       "Index: []"
      ]
     },
     "metadata": {},
     "output_type": "display_data"
    },
    {
     "data": {
      "text/html": [
       "<div>\n",
       "<style scoped>\n",
       "    .dataframe tbody tr th:only-of-type {\n",
       "        vertical-align: middle;\n",
       "    }\n",
       "\n",
       "    .dataframe tbody tr th {\n",
       "        vertical-align: top;\n",
       "    }\n",
       "\n",
       "    .dataframe thead th {\n",
       "        text-align: right;\n",
       "    }\n",
       "</style>\n",
       "<table border=\"1\" class=\"dataframe\">\n",
       "  <thead>\n",
       "    <tr style=\"text-align: right;\">\n",
       "      <th></th>\n",
       "      <th>id</th>\n",
       "      <th>mb_used</th>\n",
       "      <th>session_date</th>\n",
       "      <th>user_id</th>\n",
       "      <th>churn_date</th>\n",
       "    </tr>\n",
       "  </thead>\n",
       "  <tbody>\n",
       "  </tbody>\n",
       "</table>\n",
       "</div>"
      ],
      "text/plain": [
       "Empty DataFrame\n",
       "Columns: [id, mb_used, session_date, user_id, churn_date]\n",
       "Index: []"
      ]
     },
     "metadata": {},
     "output_type": "display_data"
    }
   ],
   "source": [
    "display(users[users['reg_date'] > users['churn_date']]) # проверим таблицу `users`: \n",
    "                                                        # дата подключения не может быть позже чем дата отключения от тарифа\n",
    "\n",
    "calls = calls.join(users['churn_date'], on=('user_id')) # добавим в таблицу `calls` столбец `churn_date`\n",
    "display(calls[calls['call_date'] > calls['churn_date']]) # посмотрим есть ли звонки после отключения тармфа\n",
    "calls.drop('churn_date', axis=1, inplace=True) # вернем таблицу в исходное состояние\n",
    "\n",
    "# Аналогично проверим таблицы `messages` и `internet`:\n",
    "messages = messages.join(users['churn_date'], on=('user_id'))    \n",
    "display(messages[messages['message_date'] > messages['churn_date']])\n",
    "messages.drop('churn_date', axis=1, inplace=True)\n",
    "\n",
    "internet = internet.join(users['churn_date'], on=('user_id'))\n",
    "display(internet[internet['session_date'] > internet['churn_date']])\n",
    "internet.drop('churn_date', axis=1, inplace=True)"
   ]
  },
  {
   "cell_type": "markdown",
   "id": "d6a82fcd",
   "metadata": {},
   "source": [
    "Логические ошибки отсутствуют.\n",
    "\n",
    "**Итог**\n",
    "\n",
    "У нас имеются очень хорошие данные для анализа, отсутствуют выбросы, логически ошибочные данные; значения числовых столбцов имеют нормальное распределение."
   ]
  },
  {
   "cell_type": "markdown",
   "id": "2fb800cb",
   "metadata": {},
   "source": [
    "### Подсчет данных по абонентам\n",
    "Посчитаем для каждого пользователя:\n",
    "- количество сделанных звонков и израсходованных минут разговора по месяцам;\n",
    "- количество отправленных сообщений по месяцам;\n",
    "- объем израсходованного интернет-трафика по месяцам;\n",
    "- помесячную выручку с каждого пользователя"
   ]
  },
  {
   "cell_type": "markdown",
   "id": "5ff99856",
   "metadata": {},
   "source": [
    "#### Количество сделанных звонков по месяцам для каждого абонента (исключая несостоявшиеся)"
   ]
  },
  {
   "cell_type": "code",
   "execution_count": 20,
   "id": "9d4cfdf6",
   "metadata": {
    "scrolled": false
   },
   "outputs": [
    {
     "data": {
      "text/html": [
       "<div>\n",
       "<style scoped>\n",
       "    .dataframe tbody tr th:only-of-type {\n",
       "        vertical-align: middle;\n",
       "    }\n",
       "\n",
       "    .dataframe tbody tr th {\n",
       "        vertical-align: top;\n",
       "    }\n",
       "\n",
       "    .dataframe thead th {\n",
       "        text-align: right;\n",
       "    }\n",
       "</style>\n",
       "<table border=\"1\" class=\"dataframe\">\n",
       "  <thead>\n",
       "    <tr style=\"text-align: right;\">\n",
       "      <th>month</th>\n",
       "      <th>1</th>\n",
       "      <th>2</th>\n",
       "      <th>3</th>\n",
       "      <th>4</th>\n",
       "      <th>5</th>\n",
       "      <th>6</th>\n",
       "      <th>7</th>\n",
       "      <th>8</th>\n",
       "      <th>9</th>\n",
       "      <th>10</th>\n",
       "      <th>11</th>\n",
       "      <th>12</th>\n",
       "    </tr>\n",
       "    <tr>\n",
       "      <th>user_id</th>\n",
       "      <th></th>\n",
       "      <th></th>\n",
       "      <th></th>\n",
       "      <th></th>\n",
       "      <th></th>\n",
       "      <th></th>\n",
       "      <th></th>\n",
       "      <th></th>\n",
       "      <th></th>\n",
       "      <th></th>\n",
       "      <th></th>\n",
       "      <th></th>\n",
       "    </tr>\n",
       "  </thead>\n",
       "  <tbody>\n",
       "    <tr>\n",
       "      <th>1000</th>\n",
       "      <td>0</td>\n",
       "      <td>0</td>\n",
       "      <td>0</td>\n",
       "      <td>0</td>\n",
       "      <td>17</td>\n",
       "      <td>28</td>\n",
       "      <td>41</td>\n",
       "      <td>42</td>\n",
       "      <td>46</td>\n",
       "      <td>44</td>\n",
       "      <td>37</td>\n",
       "      <td>38</td>\n",
       "    </tr>\n",
       "    <tr>\n",
       "      <th>1001</th>\n",
       "      <td>0</td>\n",
       "      <td>0</td>\n",
       "      <td>0</td>\n",
       "      <td>0</td>\n",
       "      <td>0</td>\n",
       "      <td>0</td>\n",
       "      <td>0</td>\n",
       "      <td>0</td>\n",
       "      <td>0</td>\n",
       "      <td>0</td>\n",
       "      <td>45</td>\n",
       "      <td>47</td>\n",
       "    </tr>\n",
       "    <tr>\n",
       "      <th>1002</th>\n",
       "      <td>0</td>\n",
       "      <td>0</td>\n",
       "      <td>0</td>\n",
       "      <td>0</td>\n",
       "      <td>0</td>\n",
       "      <td>14</td>\n",
       "      <td>21</td>\n",
       "      <td>37</td>\n",
       "      <td>25</td>\n",
       "      <td>24</td>\n",
       "      <td>25</td>\n",
       "      <td>27</td>\n",
       "    </tr>\n",
       "    <tr>\n",
       "      <th>1003</th>\n",
       "      <td>0</td>\n",
       "      <td>0</td>\n",
       "      <td>0</td>\n",
       "      <td>0</td>\n",
       "      <td>0</td>\n",
       "      <td>0</td>\n",
       "      <td>0</td>\n",
       "      <td>43</td>\n",
       "      <td>105</td>\n",
       "      <td>97</td>\n",
       "      <td>95</td>\n",
       "      <td>88</td>\n",
       "    </tr>\n",
       "    <tr>\n",
       "      <th>1004</th>\n",
       "      <td>0</td>\n",
       "      <td>0</td>\n",
       "      <td>0</td>\n",
       "      <td>0</td>\n",
       "      <td>7</td>\n",
       "      <td>25</td>\n",
       "      <td>20</td>\n",
       "      <td>18</td>\n",
       "      <td>18</td>\n",
       "      <td>21</td>\n",
       "      <td>15</td>\n",
       "      <td>15</td>\n",
       "    </tr>\n",
       "    <tr>\n",
       "      <th>...</th>\n",
       "      <td>...</td>\n",
       "      <td>...</td>\n",
       "      <td>...</td>\n",
       "      <td>...</td>\n",
       "      <td>...</td>\n",
       "      <td>...</td>\n",
       "      <td>...</td>\n",
       "      <td>...</td>\n",
       "      <td>...</td>\n",
       "      <td>...</td>\n",
       "      <td>...</td>\n",
       "      <td>...</td>\n",
       "    </tr>\n",
       "    <tr>\n",
       "      <th>1495</th>\n",
       "      <td>0</td>\n",
       "      <td>0</td>\n",
       "      <td>0</td>\n",
       "      <td>0</td>\n",
       "      <td>0</td>\n",
       "      <td>0</td>\n",
       "      <td>0</td>\n",
       "      <td>13</td>\n",
       "      <td>95</td>\n",
       "      <td>126</td>\n",
       "      <td>112</td>\n",
       "      <td>120</td>\n",
       "    </tr>\n",
       "    <tr>\n",
       "      <th>1496</th>\n",
       "      <td>6</td>\n",
       "      <td>65</td>\n",
       "      <td>67</td>\n",
       "      <td>52</td>\n",
       "      <td>50</td>\n",
       "      <td>57</td>\n",
       "      <td>63</td>\n",
       "      <td>62</td>\n",
       "      <td>58</td>\n",
       "      <td>56</td>\n",
       "      <td>66</td>\n",
       "      <td>65</td>\n",
       "    </tr>\n",
       "    <tr>\n",
       "      <th>1497</th>\n",
       "      <td>0</td>\n",
       "      <td>0</td>\n",
       "      <td>0</td>\n",
       "      <td>0</td>\n",
       "      <td>0</td>\n",
       "      <td>0</td>\n",
       "      <td>0</td>\n",
       "      <td>0</td>\n",
       "      <td>0</td>\n",
       "      <td>50</td>\n",
       "      <td>48</td>\n",
       "      <td>58</td>\n",
       "    </tr>\n",
       "    <tr>\n",
       "      <th>1498</th>\n",
       "      <td>0</td>\n",
       "      <td>0</td>\n",
       "      <td>0</td>\n",
       "      <td>0</td>\n",
       "      <td>0</td>\n",
       "      <td>0</td>\n",
       "      <td>20</td>\n",
       "      <td>43</td>\n",
       "      <td>53</td>\n",
       "      <td>30</td>\n",
       "      <td>0</td>\n",
       "      <td>0</td>\n",
       "    </tr>\n",
       "    <tr>\n",
       "      <th>1499</th>\n",
       "      <td>0</td>\n",
       "      <td>0</td>\n",
       "      <td>0</td>\n",
       "      <td>0</td>\n",
       "      <td>0</td>\n",
       "      <td>0</td>\n",
       "      <td>0</td>\n",
       "      <td>0</td>\n",
       "      <td>8</td>\n",
       "      <td>44</td>\n",
       "      <td>62</td>\n",
       "      <td>56</td>\n",
       "    </tr>\n",
       "  </tbody>\n",
       "</table>\n",
       "<p>492 rows × 12 columns</p>\n",
       "</div>"
      ],
      "text/plain": [
       "month    1   2   3   4   5   6   7   8    9    10   11   12\n",
       "user_id                                                    \n",
       "1000      0   0   0   0  17  28  41  42   46   44   37   38\n",
       "1001      0   0   0   0   0   0   0   0    0    0   45   47\n",
       "1002      0   0   0   0   0  14  21  37   25   24   25   27\n",
       "1003      0   0   0   0   0   0   0  43  105   97   95   88\n",
       "1004      0   0   0   0   7  25  20  18   18   21   15   15\n",
       "...      ..  ..  ..  ..  ..  ..  ..  ..  ...  ...  ...  ...\n",
       "1495      0   0   0   0   0   0   0  13   95  126  112  120\n",
       "1496      6  65  67  52  50  57  63  62   58   56   66   65\n",
       "1497      0   0   0   0   0   0   0   0    0   50   48   58\n",
       "1498      0   0   0   0   0   0  20  43   53   30    0    0\n",
       "1499      0   0   0   0   0   0   0   0    8   44   62   56\n",
       "\n",
       "[492 rows x 12 columns]"
      ]
     },
     "metadata": {},
     "output_type": "display_data"
    }
   ],
   "source": [
    "calls_count = (calls[calls['duration'] > 0] # отфильтруем несостоявшиеся звонки\n",
    "                     .groupby(['user_id', calls['call_date'].dt.month]) # группировка по `user_id` и месяцам,\n",
    "                                                                        # приведение даты к месяцу\n",
    "                     .agg({'id':'count'}) # подсчет количества звонков\n",
    "                     .reset_index() #сброс  индексов\n",
    "                     .rename(columns={'call_date': 'month'}) #переименование колонки в month\n",
    "                     )\n",
    "\n",
    "# выведем результат в более наглядном виде без сохранения\n",
    "display(calls_count.pivot_table(index='user_id', \n",
    "                                columns='month', \n",
    "                                values='id', \n",
    "                                fill_value=0))"
   ]
  },
  {
   "cell_type": "markdown",
   "id": "9c77fd92",
   "metadata": {},
   "source": [
    "#### Количество израсходованных минут разговора  по месяцам для каждого абонента"
   ]
  },
  {
   "cell_type": "code",
   "execution_count": 21,
   "id": "7b385e1d",
   "metadata": {
    "scrolled": false
   },
   "outputs": [
    {
     "data": {
      "text/html": [
       "<div>\n",
       "<style scoped>\n",
       "    .dataframe tbody tr th:only-of-type {\n",
       "        vertical-align: middle;\n",
       "    }\n",
       "\n",
       "    .dataframe tbody tr th {\n",
       "        vertical-align: top;\n",
       "    }\n",
       "\n",
       "    .dataframe thead th {\n",
       "        text-align: right;\n",
       "    }\n",
       "</style>\n",
       "<table border=\"1\" class=\"dataframe\">\n",
       "  <thead>\n",
       "    <tr style=\"text-align: right;\">\n",
       "      <th>month</th>\n",
       "      <th>1</th>\n",
       "      <th>2</th>\n",
       "      <th>3</th>\n",
       "      <th>4</th>\n",
       "      <th>5</th>\n",
       "      <th>6</th>\n",
       "      <th>7</th>\n",
       "      <th>8</th>\n",
       "      <th>9</th>\n",
       "      <th>10</th>\n",
       "      <th>11</th>\n",
       "      <th>12</th>\n",
       "    </tr>\n",
       "    <tr>\n",
       "      <th>user_id</th>\n",
       "      <th></th>\n",
       "      <th></th>\n",
       "      <th></th>\n",
       "      <th></th>\n",
       "      <th></th>\n",
       "      <th></th>\n",
       "      <th></th>\n",
       "      <th></th>\n",
       "      <th></th>\n",
       "      <th></th>\n",
       "      <th></th>\n",
       "      <th></th>\n",
       "    </tr>\n",
       "  </thead>\n",
       "  <tbody>\n",
       "    <tr>\n",
       "      <th>1000</th>\n",
       "      <td>0</td>\n",
       "      <td>0</td>\n",
       "      <td>0</td>\n",
       "      <td>0</td>\n",
       "      <td>159</td>\n",
       "      <td>172</td>\n",
       "      <td>340</td>\n",
       "      <td>408</td>\n",
       "      <td>466</td>\n",
       "      <td>350</td>\n",
       "      <td>338</td>\n",
       "      <td>333</td>\n",
       "    </tr>\n",
       "    <tr>\n",
       "      <th>1001</th>\n",
       "      <td>0</td>\n",
       "      <td>0</td>\n",
       "      <td>0</td>\n",
       "      <td>0</td>\n",
       "      <td>0</td>\n",
       "      <td>0</td>\n",
       "      <td>0</td>\n",
       "      <td>0</td>\n",
       "      <td>0</td>\n",
       "      <td>0</td>\n",
       "      <td>430</td>\n",
       "      <td>414</td>\n",
       "    </tr>\n",
       "    <tr>\n",
       "      <th>1002</th>\n",
       "      <td>0</td>\n",
       "      <td>0</td>\n",
       "      <td>0</td>\n",
       "      <td>0</td>\n",
       "      <td>0</td>\n",
       "      <td>117</td>\n",
       "      <td>214</td>\n",
       "      <td>289</td>\n",
       "      <td>206</td>\n",
       "      <td>212</td>\n",
       "      <td>243</td>\n",
       "      <td>236</td>\n",
       "    </tr>\n",
       "    <tr>\n",
       "      <th>1003</th>\n",
       "      <td>0</td>\n",
       "      <td>0</td>\n",
       "      <td>0</td>\n",
       "      <td>0</td>\n",
       "      <td>0</td>\n",
       "      <td>0</td>\n",
       "      <td>0</td>\n",
       "      <td>380</td>\n",
       "      <td>961</td>\n",
       "      <td>855</td>\n",
       "      <td>824</td>\n",
       "      <td>802</td>\n",
       "    </tr>\n",
       "    <tr>\n",
       "      <th>1004</th>\n",
       "      <td>0</td>\n",
       "      <td>0</td>\n",
       "      <td>0</td>\n",
       "      <td>0</td>\n",
       "      <td>35</td>\n",
       "      <td>171</td>\n",
       "      <td>135</td>\n",
       "      <td>137</td>\n",
       "      <td>117</td>\n",
       "      <td>145</td>\n",
       "      <td>117</td>\n",
       "      <td>130</td>\n",
       "    </tr>\n",
       "    <tr>\n",
       "      <th>1005</th>\n",
       "      <td>95</td>\n",
       "      <td>456</td>\n",
       "      <td>606</td>\n",
       "      <td>712</td>\n",
       "      <td>595</td>\n",
       "      <td>612</td>\n",
       "      <td>569</td>\n",
       "      <td>619</td>\n",
       "      <td>479</td>\n",
       "      <td>723</td>\n",
       "      <td>547</td>\n",
       "      <td>592</td>\n",
       "    </tr>\n",
       "    <tr>\n",
       "      <th>1006</th>\n",
       "      <td>0</td>\n",
       "      <td>42</td>\n",
       "      <td>286</td>\n",
       "      <td>356</td>\n",
       "      <td>370</td>\n",
       "      <td>478</td>\n",
       "      <td>316</td>\n",
       "      <td>275</td>\n",
       "      <td>360</td>\n",
       "      <td>267</td>\n",
       "      <td>372</td>\n",
       "      <td>379</td>\n",
       "    </tr>\n",
       "    <tr>\n",
       "      <th>1007</th>\n",
       "      <td>0</td>\n",
       "      <td>0</td>\n",
       "      <td>0</td>\n",
       "      <td>198</td>\n",
       "      <td>480</td>\n",
       "      <td>545</td>\n",
       "      <td>577</td>\n",
       "      <td>458</td>\n",
       "      <td>655</td>\n",
       "      <td>465</td>\n",
       "      <td>580</td>\n",
       "      <td>421</td>\n",
       "    </tr>\n",
       "    <tr>\n",
       "      <th>1008</th>\n",
       "      <td>0</td>\n",
       "      <td>0</td>\n",
       "      <td>0</td>\n",
       "      <td>0</td>\n",
       "      <td>0</td>\n",
       "      <td>0</td>\n",
       "      <td>0</td>\n",
       "      <td>0</td>\n",
       "      <td>0</td>\n",
       "      <td>0</td>\n",
       "      <td>0</td>\n",
       "      <td>339</td>\n",
       "    </tr>\n",
       "    <tr>\n",
       "      <th>1009</th>\n",
       "      <td>0</td>\n",
       "      <td>0</td>\n",
       "      <td>109</td>\n",
       "      <td>324</td>\n",
       "      <td>170</td>\n",
       "      <td>289</td>\n",
       "      <td>183</td>\n",
       "      <td>249</td>\n",
       "      <td>133</td>\n",
       "      <td>213</td>\n",
       "      <td>290</td>\n",
       "      <td>229</td>\n",
       "    </tr>\n",
       "  </tbody>\n",
       "</table>\n",
       "</div>"
      ],
      "text/plain": [
       "month    1    2    3    4    5    6    7    8    9    10   11   12\n",
       "user_id                                                           \n",
       "1000      0    0    0    0  159  172  340  408  466  350  338  333\n",
       "1001      0    0    0    0    0    0    0    0    0    0  430  414\n",
       "1002      0    0    0    0    0  117  214  289  206  212  243  236\n",
       "1003      0    0    0    0    0    0    0  380  961  855  824  802\n",
       "1004      0    0    0    0   35  171  135  137  117  145  117  130\n",
       "1005     95  456  606  712  595  612  569  619  479  723  547  592\n",
       "1006      0   42  286  356  370  478  316  275  360  267  372  379\n",
       "1007      0    0    0  198  480  545  577  458  655  465  580  421\n",
       "1008      0    0    0    0    0    0    0    0    0    0    0  339\n",
       "1009      0    0  109  324  170  289  183  249  133  213  290  229"
      ]
     },
     "metadata": {},
     "output_type": "display_data"
    }
   ],
   "source": [
    "calls_duration = (calls.groupby(['user_id', calls['call_date'].dt.month])\n",
    "                           .agg({'duration':'sum'}) # метод агрегации `sum`\n",
    "                           .reset_index()\n",
    "                           .rename(columns={'call_date': 'month', 'duration': 'calls_duration'})\n",
    "                     )\n",
    "display(calls_duration.pivot_table(index='user_id', \n",
    "                                   columns='month', \n",
    "                                   values='calls_duration', \n",
    "                                   fill_value=0)\n",
    "                      .head(10))\n",
    "        "
   ]
  },
  {
   "cell_type": "markdown",
   "id": "ca579435",
   "metadata": {},
   "source": [
    "#### Количество отправленных сообщений по месяцам для каждого абонента"
   ]
  },
  {
   "cell_type": "code",
   "execution_count": 22,
   "id": "e2307e70",
   "metadata": {
    "scrolled": false
   },
   "outputs": [
    {
     "data": {
      "text/html": [
       "<div>\n",
       "<style scoped>\n",
       "    .dataframe tbody tr th:only-of-type {\n",
       "        vertical-align: middle;\n",
       "    }\n",
       "\n",
       "    .dataframe tbody tr th {\n",
       "        vertical-align: top;\n",
       "    }\n",
       "\n",
       "    .dataframe thead th {\n",
       "        text-align: right;\n",
       "    }\n",
       "</style>\n",
       "<table border=\"1\" class=\"dataframe\">\n",
       "  <thead>\n",
       "    <tr style=\"text-align: right;\">\n",
       "      <th>month</th>\n",
       "      <th>1</th>\n",
       "      <th>2</th>\n",
       "      <th>3</th>\n",
       "      <th>4</th>\n",
       "      <th>5</th>\n",
       "      <th>6</th>\n",
       "      <th>7</th>\n",
       "      <th>8</th>\n",
       "      <th>9</th>\n",
       "      <th>10</th>\n",
       "      <th>11</th>\n",
       "      <th>12</th>\n",
       "    </tr>\n",
       "    <tr>\n",
       "      <th>user_id</th>\n",
       "      <th></th>\n",
       "      <th></th>\n",
       "      <th></th>\n",
       "      <th></th>\n",
       "      <th></th>\n",
       "      <th></th>\n",
       "      <th></th>\n",
       "      <th></th>\n",
       "      <th></th>\n",
       "      <th></th>\n",
       "      <th></th>\n",
       "      <th></th>\n",
       "    </tr>\n",
       "  </thead>\n",
       "  <tbody>\n",
       "    <tr>\n",
       "      <th>1000</th>\n",
       "      <td>0</td>\n",
       "      <td>0</td>\n",
       "      <td>0</td>\n",
       "      <td>0</td>\n",
       "      <td>22</td>\n",
       "      <td>60</td>\n",
       "      <td>75</td>\n",
       "      <td>81</td>\n",
       "      <td>57</td>\n",
       "      <td>73</td>\n",
       "      <td>58</td>\n",
       "      <td>70</td>\n",
       "    </tr>\n",
       "    <tr>\n",
       "      <th>1002</th>\n",
       "      <td>0</td>\n",
       "      <td>0</td>\n",
       "      <td>0</td>\n",
       "      <td>0</td>\n",
       "      <td>0</td>\n",
       "      <td>4</td>\n",
       "      <td>11</td>\n",
       "      <td>13</td>\n",
       "      <td>4</td>\n",
       "      <td>10</td>\n",
       "      <td>16</td>\n",
       "      <td>12</td>\n",
       "    </tr>\n",
       "    <tr>\n",
       "      <th>1003</th>\n",
       "      <td>0</td>\n",
       "      <td>0</td>\n",
       "      <td>0</td>\n",
       "      <td>0</td>\n",
       "      <td>0</td>\n",
       "      <td>0</td>\n",
       "      <td>0</td>\n",
       "      <td>37</td>\n",
       "      <td>91</td>\n",
       "      <td>83</td>\n",
       "      <td>94</td>\n",
       "      <td>75</td>\n",
       "    </tr>\n",
       "    <tr>\n",
       "      <th>1004</th>\n",
       "      <td>0</td>\n",
       "      <td>0</td>\n",
       "      <td>0</td>\n",
       "      <td>0</td>\n",
       "      <td>95</td>\n",
       "      <td>134</td>\n",
       "      <td>181</td>\n",
       "      <td>151</td>\n",
       "      <td>146</td>\n",
       "      <td>165</td>\n",
       "      <td>158</td>\n",
       "      <td>162</td>\n",
       "    </tr>\n",
       "    <tr>\n",
       "      <th>1005</th>\n",
       "      <td>7</td>\n",
       "      <td>38</td>\n",
       "      <td>56</td>\n",
       "      <td>41</td>\n",
       "      <td>42</td>\n",
       "      <td>47</td>\n",
       "      <td>56</td>\n",
       "      <td>64</td>\n",
       "      <td>52</td>\n",
       "      <td>44</td>\n",
       "      <td>51</td>\n",
       "      <td>54</td>\n",
       "    </tr>\n",
       "    <tr>\n",
       "      <th>1007</th>\n",
       "      <td>0</td>\n",
       "      <td>0</td>\n",
       "      <td>0</td>\n",
       "      <td>11</td>\n",
       "      <td>39</td>\n",
       "      <td>26</td>\n",
       "      <td>26</td>\n",
       "      <td>27</td>\n",
       "      <td>31</td>\n",
       "      <td>18</td>\n",
       "      <td>21</td>\n",
       "      <td>26</td>\n",
       "    </tr>\n",
       "    <tr>\n",
       "      <th>1008</th>\n",
       "      <td>0</td>\n",
       "      <td>0</td>\n",
       "      <td>0</td>\n",
       "      <td>0</td>\n",
       "      <td>0</td>\n",
       "      <td>0</td>\n",
       "      <td>0</td>\n",
       "      <td>0</td>\n",
       "      <td>0</td>\n",
       "      <td>0</td>\n",
       "      <td>0</td>\n",
       "      <td>56</td>\n",
       "    </tr>\n",
       "    <tr>\n",
       "      <th>1009</th>\n",
       "      <td>0</td>\n",
       "      <td>0</td>\n",
       "      <td>2</td>\n",
       "      <td>14</td>\n",
       "      <td>7</td>\n",
       "      <td>14</td>\n",
       "      <td>14</td>\n",
       "      <td>9</td>\n",
       "      <td>12</td>\n",
       "      <td>15</td>\n",
       "      <td>11</td>\n",
       "      <td>12</td>\n",
       "    </tr>\n",
       "    <tr>\n",
       "      <th>1011</th>\n",
       "      <td>0</td>\n",
       "      <td>0</td>\n",
       "      <td>4</td>\n",
       "      <td>7</td>\n",
       "      <td>13</td>\n",
       "      <td>13</td>\n",
       "      <td>13</td>\n",
       "      <td>15</td>\n",
       "      <td>10</td>\n",
       "      <td>17</td>\n",
       "      <td>12</td>\n",
       "      <td>6</td>\n",
       "    </tr>\n",
       "    <tr>\n",
       "      <th>1012</th>\n",
       "      <td>0</td>\n",
       "      <td>0</td>\n",
       "      <td>2</td>\n",
       "      <td>21</td>\n",
       "      <td>10</td>\n",
       "      <td>15</td>\n",
       "      <td>12</td>\n",
       "      <td>23</td>\n",
       "      <td>14</td>\n",
       "      <td>13</td>\n",
       "      <td>25</td>\n",
       "      <td>15</td>\n",
       "    </tr>\n",
       "  </tbody>\n",
       "</table>\n",
       "</div>"
      ],
      "text/plain": [
       "month    1   2   3   4   5    6    7    8    9    10   11   12\n",
       "user_id                                                       \n",
       "1000      0   0   0   0  22   60   75   81   57   73   58   70\n",
       "1002      0   0   0   0   0    4   11   13    4   10   16   12\n",
       "1003      0   0   0   0   0    0    0   37   91   83   94   75\n",
       "1004      0   0   0   0  95  134  181  151  146  165  158  162\n",
       "1005      7  38  56  41  42   47   56   64   52   44   51   54\n",
       "1007      0   0   0  11  39   26   26   27   31   18   21   26\n",
       "1008      0   0   0   0   0    0    0    0    0    0    0   56\n",
       "1009      0   0   2  14   7   14   14    9   12   15   11   12\n",
       "1011      0   0   4   7  13   13   13   15   10   17   12    6\n",
       "1012      0   0   2  21  10   15   12   23   14   13   25   15"
      ]
     },
     "metadata": {},
     "output_type": "display_data"
    }
   ],
   "source": [
    "messages_count = (messages.groupby(['user_id', messages['message_date'].dt.month])\n",
    "                           .agg({'id':'count'})\n",
    "                           .reset_index()\n",
    "                           .rename(columns={'message_date': 'month', 'id': 'messages'})\n",
    "                     )\n",
    "\n",
    "display(messages_count.pivot_table(index='user_id', \n",
    "                                   columns='month', \n",
    "                                   values='messages', \n",
    "                                   fill_value=0)\n",
    "                      .head(10))"
   ]
  },
  {
   "cell_type": "markdown",
   "id": "247ed921",
   "metadata": {},
   "source": [
    "#### Объем израсходованного интернет-трафика по месяцам для каждого абонента"
   ]
  },
  {
   "cell_type": "code",
   "execution_count": 23,
   "id": "8f369030",
   "metadata": {},
   "outputs": [
    {
     "data": {
      "text/html": [
       "<div>\n",
       "<style scoped>\n",
       "    .dataframe tbody tr th:only-of-type {\n",
       "        vertical-align: middle;\n",
       "    }\n",
       "\n",
       "    .dataframe tbody tr th {\n",
       "        vertical-align: top;\n",
       "    }\n",
       "\n",
       "    .dataframe thead th {\n",
       "        text-align: right;\n",
       "    }\n",
       "</style>\n",
       "<table border=\"1\" class=\"dataframe\">\n",
       "  <thead>\n",
       "    <tr style=\"text-align: right;\">\n",
       "      <th>month</th>\n",
       "      <th>1</th>\n",
       "      <th>2</th>\n",
       "      <th>3</th>\n",
       "      <th>4</th>\n",
       "      <th>5</th>\n",
       "      <th>6</th>\n",
       "      <th>7</th>\n",
       "      <th>8</th>\n",
       "      <th>9</th>\n",
       "      <th>10</th>\n",
       "      <th>11</th>\n",
       "      <th>12</th>\n",
       "    </tr>\n",
       "    <tr>\n",
       "      <th>user_id</th>\n",
       "      <th></th>\n",
       "      <th></th>\n",
       "      <th></th>\n",
       "      <th></th>\n",
       "      <th></th>\n",
       "      <th></th>\n",
       "      <th></th>\n",
       "      <th></th>\n",
       "      <th></th>\n",
       "      <th></th>\n",
       "      <th></th>\n",
       "      <th></th>\n",
       "    </tr>\n",
       "  </thead>\n",
       "  <tbody>\n",
       "    <tr>\n",
       "      <th>1000</th>\n",
       "      <td>0</td>\n",
       "      <td>0</td>\n",
       "      <td>0</td>\n",
       "      <td>0</td>\n",
       "      <td>3072</td>\n",
       "      <td>23552</td>\n",
       "      <td>14336</td>\n",
       "      <td>14336</td>\n",
       "      <td>15360</td>\n",
       "      <td>15360</td>\n",
       "      <td>15360</td>\n",
       "      <td>10240</td>\n",
       "    </tr>\n",
       "    <tr>\n",
       "      <th>1001</th>\n",
       "      <td>0</td>\n",
       "      <td>0</td>\n",
       "      <td>0</td>\n",
       "      <td>0</td>\n",
       "      <td>0</td>\n",
       "      <td>0</td>\n",
       "      <td>0</td>\n",
       "      <td>0</td>\n",
       "      <td>0</td>\n",
       "      <td>0</td>\n",
       "      <td>18432</td>\n",
       "      <td>14336</td>\n",
       "    </tr>\n",
       "    <tr>\n",
       "      <th>1002</th>\n",
       "      <td>0</td>\n",
       "      <td>0</td>\n",
       "      <td>0</td>\n",
       "      <td>0</td>\n",
       "      <td>0</td>\n",
       "      <td>11264</td>\n",
       "      <td>18432</td>\n",
       "      <td>20480</td>\n",
       "      <td>17408</td>\n",
       "      <td>14336</td>\n",
       "      <td>19456</td>\n",
       "      <td>18432</td>\n",
       "    </tr>\n",
       "    <tr>\n",
       "      <th>1003</th>\n",
       "      <td>0</td>\n",
       "      <td>0</td>\n",
       "      <td>0</td>\n",
       "      <td>0</td>\n",
       "      <td>0</td>\n",
       "      <td>0</td>\n",
       "      <td>0</td>\n",
       "      <td>9216</td>\n",
       "      <td>13312</td>\n",
       "      <td>15360</td>\n",
       "      <td>12288</td>\n",
       "      <td>10240</td>\n",
       "    </tr>\n",
       "    <tr>\n",
       "      <th>1004</th>\n",
       "      <td>0</td>\n",
       "      <td>0</td>\n",
       "      <td>0</td>\n",
       "      <td>0</td>\n",
       "      <td>14336</td>\n",
       "      <td>18432</td>\n",
       "      <td>22528</td>\n",
       "      <td>28672</td>\n",
       "      <td>15360</td>\n",
       "      <td>19456</td>\n",
       "      <td>16384</td>\n",
       "      <td>18432</td>\n",
       "    </tr>\n",
       "  </tbody>\n",
       "</table>\n",
       "</div>"
      ],
      "text/plain": [
       "month    1   2   3   4      5      6      7      8      9      10     11  \\\n",
       "user_id                                                                    \n",
       "1000      0   0   0   0   3072  23552  14336  14336  15360  15360  15360   \n",
       "1001      0   0   0   0      0      0      0      0      0      0  18432   \n",
       "1002      0   0   0   0      0  11264  18432  20480  17408  14336  19456   \n",
       "1003      0   0   0   0      0      0      0   9216  13312  15360  12288   \n",
       "1004      0   0   0   0  14336  18432  22528  28672  15360  19456  16384   \n",
       "\n",
       "month       12  \n",
       "user_id         \n",
       "1000     10240  \n",
       "1001     14336  \n",
       "1002     18432  \n",
       "1003     10240  \n",
       "1004     18432  "
      ]
     },
     "metadata": {},
     "output_type": "display_data"
    }
   ],
   "source": [
    "internet_sum = (internet.groupby(['user_id', internet['session_date'].dt.month])\n",
    "                           .agg({'mb_used':'sum'})\n",
    "                           .reset_index()\n",
    "                           .rename(columns={'session_date': 'month'})\n",
    "                     )\n",
    "\n",
    "# округлим траффик в большую сторону до целых гигабайт в мегабайтах согласно тарификации:\n",
    "internet_sum.loc[internet_sum['mb_used'] % 1024 != 0, \n",
    "                      'mb_used'] = (internet_sum['mb_used'] // 1024 + 1) * 1024\n",
    "\n",
    "display(internet_sum.pivot_table(index='user_id', \n",
    "                                 columns='month', \n",
    "                                 values='mb_used', \n",
    "                                 fill_value=0)\n",
    "                    .head())"
   ]
  },
  {
   "cell_type": "markdown",
   "id": "baceb796",
   "metadata": {},
   "source": [
    "#### Помесячная выручка с каждого пользователя"
   ]
  },
  {
   "cell_type": "markdown",
   "id": "41ef75b9",
   "metadata": {},
   "source": [
    "Для подсчета помесячной выручки объединим три вышеуказанные таблицы в таблицу `expenses` и выведем ее на экран"
   ]
  },
  {
   "cell_type": "code",
   "execution_count": 24,
   "id": "3e6046d3",
   "metadata": {
    "scrolled": false
   },
   "outputs": [
    {
     "data": {
      "text/html": [
       "<div>\n",
       "<style scoped>\n",
       "    .dataframe tbody tr th:only-of-type {\n",
       "        vertical-align: middle;\n",
       "    }\n",
       "\n",
       "    .dataframe tbody tr th {\n",
       "        vertical-align: top;\n",
       "    }\n",
       "\n",
       "    .dataframe thead th {\n",
       "        text-align: right;\n",
       "    }\n",
       "</style>\n",
       "<table border=\"1\" class=\"dataframe\">\n",
       "  <thead>\n",
       "    <tr style=\"text-align: right;\">\n",
       "      <th></th>\n",
       "      <th>month</th>\n",
       "      <th>calls_duration</th>\n",
       "      <th>messages</th>\n",
       "      <th>mb_used</th>\n",
       "    </tr>\n",
       "    <tr>\n",
       "      <th>user_id</th>\n",
       "      <th></th>\n",
       "      <th></th>\n",
       "      <th></th>\n",
       "      <th></th>\n",
       "    </tr>\n",
       "  </thead>\n",
       "  <tbody>\n",
       "    <tr>\n",
       "      <th>1000</th>\n",
       "      <td>5</td>\n",
       "      <td>159.0</td>\n",
       "      <td>22.0</td>\n",
       "      <td>3072.0</td>\n",
       "    </tr>\n",
       "    <tr>\n",
       "      <th>1000</th>\n",
       "      <td>6</td>\n",
       "      <td>172.0</td>\n",
       "      <td>60.0</td>\n",
       "      <td>23552.0</td>\n",
       "    </tr>\n",
       "    <tr>\n",
       "      <th>1000</th>\n",
       "      <td>7</td>\n",
       "      <td>340.0</td>\n",
       "      <td>75.0</td>\n",
       "      <td>14336.0</td>\n",
       "    </tr>\n",
       "    <tr>\n",
       "      <th>1000</th>\n",
       "      <td>8</td>\n",
       "      <td>408.0</td>\n",
       "      <td>81.0</td>\n",
       "      <td>14336.0</td>\n",
       "    </tr>\n",
       "    <tr>\n",
       "      <th>1000</th>\n",
       "      <td>9</td>\n",
       "      <td>466.0</td>\n",
       "      <td>57.0</td>\n",
       "      <td>15360.0</td>\n",
       "    </tr>\n",
       "  </tbody>\n",
       "</table>\n",
       "</div>"
      ],
      "text/plain": [
       "         month  calls_duration  messages  mb_used\n",
       "user_id                                          \n",
       "1000         5           159.0      22.0   3072.0\n",
       "1000         6           172.0      60.0  23552.0\n",
       "1000         7           340.0      75.0  14336.0\n",
       "1000         8           408.0      81.0  14336.0\n",
       "1000         9           466.0      57.0  15360.0"
      ]
     },
     "metadata": {},
     "output_type": "display_data"
    },
    {
     "data": {
      "text/html": [
       "<div>\n",
       "<style scoped>\n",
       "    .dataframe tbody tr th:only-of-type {\n",
       "        vertical-align: middle;\n",
       "    }\n",
       "\n",
       "    .dataframe tbody tr th {\n",
       "        vertical-align: top;\n",
       "    }\n",
       "\n",
       "    .dataframe thead th {\n",
       "        text-align: right;\n",
       "    }\n",
       "</style>\n",
       "<table border=\"1\" class=\"dataframe\">\n",
       "  <thead>\n",
       "    <tr style=\"text-align: right;\">\n",
       "      <th></th>\n",
       "      <th>user_id</th>\n",
       "      <th>1000</th>\n",
       "      <th>1001</th>\n",
       "      <th>1002</th>\n",
       "      <th>1003</th>\n",
       "      <th>1004</th>\n",
       "      <th>1005</th>\n",
       "      <th>1006</th>\n",
       "      <th>1007</th>\n",
       "      <th>1008</th>\n",
       "      <th>1009</th>\n",
       "      <th>...</th>\n",
       "      <th>1490</th>\n",
       "      <th>1491</th>\n",
       "      <th>1492</th>\n",
       "      <th>1493</th>\n",
       "      <th>1494</th>\n",
       "      <th>1495</th>\n",
       "      <th>1496</th>\n",
       "      <th>1497</th>\n",
       "      <th>1498</th>\n",
       "      <th>1499</th>\n",
       "    </tr>\n",
       "    <tr>\n",
       "      <th></th>\n",
       "      <th>month</th>\n",
       "      <th></th>\n",
       "      <th></th>\n",
       "      <th></th>\n",
       "      <th></th>\n",
       "      <th></th>\n",
       "      <th></th>\n",
       "      <th></th>\n",
       "      <th></th>\n",
       "      <th></th>\n",
       "      <th></th>\n",
       "      <th></th>\n",
       "      <th></th>\n",
       "      <th></th>\n",
       "      <th></th>\n",
       "      <th></th>\n",
       "      <th></th>\n",
       "      <th></th>\n",
       "      <th></th>\n",
       "      <th></th>\n",
       "      <th></th>\n",
       "      <th></th>\n",
       "    </tr>\n",
       "  </thead>\n",
       "  <tbody>\n",
       "    <tr>\n",
       "      <th rowspan=\"12\" valign=\"top\">calls_duration</th>\n",
       "      <th>1</th>\n",
       "      <td>0</td>\n",
       "      <td>0</td>\n",
       "      <td>0</td>\n",
       "      <td>0</td>\n",
       "      <td>0</td>\n",
       "      <td>95</td>\n",
       "      <td>0</td>\n",
       "      <td>0</td>\n",
       "      <td>0</td>\n",
       "      <td>0</td>\n",
       "      <td>...</td>\n",
       "      <td>0</td>\n",
       "      <td>0</td>\n",
       "      <td>0</td>\n",
       "      <td>0</td>\n",
       "      <td>0</td>\n",
       "      <td>0</td>\n",
       "      <td>48</td>\n",
       "      <td>0</td>\n",
       "      <td>0</td>\n",
       "      <td>0</td>\n",
       "    </tr>\n",
       "    <tr>\n",
       "      <th>2</th>\n",
       "      <td>0</td>\n",
       "      <td>0</td>\n",
       "      <td>0</td>\n",
       "      <td>0</td>\n",
       "      <td>0</td>\n",
       "      <td>456</td>\n",
       "      <td>42</td>\n",
       "      <td>0</td>\n",
       "      <td>0</td>\n",
       "      <td>0</td>\n",
       "      <td>...</td>\n",
       "      <td>0</td>\n",
       "      <td>0</td>\n",
       "      <td>0</td>\n",
       "      <td>0</td>\n",
       "      <td>0</td>\n",
       "      <td>0</td>\n",
       "      <td>594</td>\n",
       "      <td>0</td>\n",
       "      <td>0</td>\n",
       "      <td>0</td>\n",
       "    </tr>\n",
       "    <tr>\n",
       "      <th>3</th>\n",
       "      <td>0</td>\n",
       "      <td>0</td>\n",
       "      <td>0</td>\n",
       "      <td>0</td>\n",
       "      <td>0</td>\n",
       "      <td>606</td>\n",
       "      <td>286</td>\n",
       "      <td>0</td>\n",
       "      <td>0</td>\n",
       "      <td>109</td>\n",
       "      <td>...</td>\n",
       "      <td>0</td>\n",
       "      <td>0</td>\n",
       "      <td>0</td>\n",
       "      <td>0</td>\n",
       "      <td>0</td>\n",
       "      <td>0</td>\n",
       "      <td>557</td>\n",
       "      <td>0</td>\n",
       "      <td>0</td>\n",
       "      <td>0</td>\n",
       "    </tr>\n",
       "    <tr>\n",
       "      <th>4</th>\n",
       "      <td>0</td>\n",
       "      <td>0</td>\n",
       "      <td>0</td>\n",
       "      <td>0</td>\n",
       "      <td>0</td>\n",
       "      <td>712</td>\n",
       "      <td>356</td>\n",
       "      <td>198</td>\n",
       "      <td>0</td>\n",
       "      <td>324</td>\n",
       "      <td>...</td>\n",
       "      <td>270</td>\n",
       "      <td>143</td>\n",
       "      <td>0</td>\n",
       "      <td>0</td>\n",
       "      <td>0</td>\n",
       "      <td>0</td>\n",
       "      <td>521</td>\n",
       "      <td>0</td>\n",
       "      <td>0</td>\n",
       "      <td>0</td>\n",
       "    </tr>\n",
       "    <tr>\n",
       "      <th>5</th>\n",
       "      <td>159</td>\n",
       "      <td>0</td>\n",
       "      <td>0</td>\n",
       "      <td>0</td>\n",
       "      <td>35</td>\n",
       "      <td>595</td>\n",
       "      <td>370</td>\n",
       "      <td>480</td>\n",
       "      <td>0</td>\n",
       "      <td>170</td>\n",
       "      <td>...</td>\n",
       "      <td>339</td>\n",
       "      <td>530</td>\n",
       "      <td>0</td>\n",
       "      <td>0</td>\n",
       "      <td>0</td>\n",
       "      <td>0</td>\n",
       "      <td>484</td>\n",
       "      <td>0</td>\n",
       "      <td>0</td>\n",
       "      <td>0</td>\n",
       "    </tr>\n",
       "    <tr>\n",
       "      <th>6</th>\n",
       "      <td>172</td>\n",
       "      <td>0</td>\n",
       "      <td>117</td>\n",
       "      <td>0</td>\n",
       "      <td>171</td>\n",
       "      <td>612</td>\n",
       "      <td>478</td>\n",
       "      <td>545</td>\n",
       "      <td>0</td>\n",
       "      <td>289</td>\n",
       "      <td>...</td>\n",
       "      <td>330</td>\n",
       "      <td>424</td>\n",
       "      <td>84</td>\n",
       "      <td>0</td>\n",
       "      <td>0</td>\n",
       "      <td>0</td>\n",
       "      <td>555</td>\n",
       "      <td>0</td>\n",
       "      <td>0</td>\n",
       "      <td>0</td>\n",
       "    </tr>\n",
       "    <tr>\n",
       "      <th>7</th>\n",
       "      <td>340</td>\n",
       "      <td>0</td>\n",
       "      <td>214</td>\n",
       "      <td>0</td>\n",
       "      <td>135</td>\n",
       "      <td>569</td>\n",
       "      <td>316</td>\n",
       "      <td>577</td>\n",
       "      <td>0</td>\n",
       "      <td>183</td>\n",
       "      <td>...</td>\n",
       "      <td>250</td>\n",
       "      <td>606</td>\n",
       "      <td>517</td>\n",
       "      <td>0</td>\n",
       "      <td>0</td>\n",
       "      <td>0</td>\n",
       "      <td>582</td>\n",
       "      <td>0</td>\n",
       "      <td>175</td>\n",
       "      <td>0</td>\n",
       "    </tr>\n",
       "    <tr>\n",
       "      <th>8</th>\n",
       "      <td>408</td>\n",
       "      <td>0</td>\n",
       "      <td>289</td>\n",
       "      <td>380</td>\n",
       "      <td>137</td>\n",
       "      <td>619</td>\n",
       "      <td>275</td>\n",
       "      <td>458</td>\n",
       "      <td>0</td>\n",
       "      <td>249</td>\n",
       "      <td>...</td>\n",
       "      <td>346</td>\n",
       "      <td>611</td>\n",
       "      <td>603</td>\n",
       "      <td>0</td>\n",
       "      <td>262</td>\n",
       "      <td>92</td>\n",
       "      <td>527</td>\n",
       "      <td>0</td>\n",
       "      <td>400</td>\n",
       "      <td>0</td>\n",
       "    </tr>\n",
       "    <tr>\n",
       "      <th>9</th>\n",
       "      <td>466</td>\n",
       "      <td>0</td>\n",
       "      <td>206</td>\n",
       "      <td>961</td>\n",
       "      <td>117</td>\n",
       "      <td>479</td>\n",
       "      <td>360</td>\n",
       "      <td>655</td>\n",
       "      <td>0</td>\n",
       "      <td>133</td>\n",
       "      <td>...</td>\n",
       "      <td>322</td>\n",
       "      <td>531</td>\n",
       "      <td>694</td>\n",
       "      <td>0</td>\n",
       "      <td>501</td>\n",
       "      <td>813</td>\n",
       "      <td>486</td>\n",
       "      <td>0</td>\n",
       "      <td>471</td>\n",
       "      <td>70</td>\n",
       "    </tr>\n",
       "    <tr>\n",
       "      <th>10</th>\n",
       "      <td>350</td>\n",
       "      <td>0</td>\n",
       "      <td>212</td>\n",
       "      <td>855</td>\n",
       "      <td>145</td>\n",
       "      <td>723</td>\n",
       "      <td>267</td>\n",
       "      <td>465</td>\n",
       "      <td>0</td>\n",
       "      <td>213</td>\n",
       "      <td>...</td>\n",
       "      <td>312</td>\n",
       "      <td>583</td>\n",
       "      <td>619</td>\n",
       "      <td>0</td>\n",
       "      <td>354</td>\n",
       "      <td>1030</td>\n",
       "      <td>450</td>\n",
       "      <td>490</td>\n",
       "      <td>247</td>\n",
       "      <td>449</td>\n",
       "    </tr>\n",
       "    <tr>\n",
       "      <th>11</th>\n",
       "      <td>338</td>\n",
       "      <td>430</td>\n",
       "      <td>243</td>\n",
       "      <td>824</td>\n",
       "      <td>117</td>\n",
       "      <td>547</td>\n",
       "      <td>372</td>\n",
       "      <td>580</td>\n",
       "      <td>0</td>\n",
       "      <td>290</td>\n",
       "      <td>...</td>\n",
       "      <td>282</td>\n",
       "      <td>518</td>\n",
       "      <td>510</td>\n",
       "      <td>173</td>\n",
       "      <td>411</td>\n",
       "      <td>954</td>\n",
       "      <td>662</td>\n",
       "      <td>371</td>\n",
       "      <td>0</td>\n",
       "      <td>612</td>\n",
       "    </tr>\n",
       "    <tr>\n",
       "      <th>12</th>\n",
       "      <td>333</td>\n",
       "      <td>414</td>\n",
       "      <td>236</td>\n",
       "      <td>802</td>\n",
       "      <td>130</td>\n",
       "      <td>592</td>\n",
       "      <td>379</td>\n",
       "      <td>421</td>\n",
       "      <td>339</td>\n",
       "      <td>229</td>\n",
       "      <td>...</td>\n",
       "      <td>290</td>\n",
       "      <td>674</td>\n",
       "      <td>781</td>\n",
       "      <td>571</td>\n",
       "      <td>418</td>\n",
       "      <td>1031</td>\n",
       "      <td>518</td>\n",
       "      <td>545</td>\n",
       "      <td>0</td>\n",
       "      <td>492</td>\n",
       "    </tr>\n",
       "    <tr>\n",
       "      <th rowspan=\"12\" valign=\"top\">mb_used</th>\n",
       "      <th>1</th>\n",
       "      <td>0</td>\n",
       "      <td>0</td>\n",
       "      <td>0</td>\n",
       "      <td>0</td>\n",
       "      <td>0</td>\n",
       "      <td>3072</td>\n",
       "      <td>0</td>\n",
       "      <td>0</td>\n",
       "      <td>0</td>\n",
       "      <td>0</td>\n",
       "      <td>...</td>\n",
       "      <td>0</td>\n",
       "      <td>0</td>\n",
       "      <td>0</td>\n",
       "      <td>0</td>\n",
       "      <td>0</td>\n",
       "      <td>0</td>\n",
       "      <td>4096</td>\n",
       "      <td>0</td>\n",
       "      <td>0</td>\n",
       "      <td>0</td>\n",
       "    </tr>\n",
       "    <tr>\n",
       "      <th>2</th>\n",
       "      <td>0</td>\n",
       "      <td>0</td>\n",
       "      <td>0</td>\n",
       "      <td>0</td>\n",
       "      <td>0</td>\n",
       "      <td>8192</td>\n",
       "      <td>2048</td>\n",
       "      <td>0</td>\n",
       "      <td>0</td>\n",
       "      <td>0</td>\n",
       "      <td>...</td>\n",
       "      <td>0</td>\n",
       "      <td>0</td>\n",
       "      <td>0</td>\n",
       "      <td>0</td>\n",
       "      <td>0</td>\n",
       "      <td>0</td>\n",
       "      <td>28672</td>\n",
       "      <td>0</td>\n",
       "      <td>0</td>\n",
       "      <td>0</td>\n",
       "    </tr>\n",
       "    <tr>\n",
       "      <th>3</th>\n",
       "      <td>0</td>\n",
       "      <td>0</td>\n",
       "      <td>0</td>\n",
       "      <td>0</td>\n",
       "      <td>0</td>\n",
       "      <td>11264</td>\n",
       "      <td>17408</td>\n",
       "      <td>0</td>\n",
       "      <td>0</td>\n",
       "      <td>8192</td>\n",
       "      <td>...</td>\n",
       "      <td>0</td>\n",
       "      <td>0</td>\n",
       "      <td>0</td>\n",
       "      <td>0</td>\n",
       "      <td>0</td>\n",
       "      <td>0</td>\n",
       "      <td>25600</td>\n",
       "      <td>0</td>\n",
       "      <td>0</td>\n",
       "      <td>0</td>\n",
       "    </tr>\n",
       "    <tr>\n",
       "      <th>4</th>\n",
       "      <td>0</td>\n",
       "      <td>0</td>\n",
       "      <td>0</td>\n",
       "      <td>0</td>\n",
       "      <td>0</td>\n",
       "      <td>10240</td>\n",
       "      <td>14336</td>\n",
       "      <td>8192</td>\n",
       "      <td>0</td>\n",
       "      <td>15360</td>\n",
       "      <td>...</td>\n",
       "      <td>14336</td>\n",
       "      <td>4096</td>\n",
       "      <td>0</td>\n",
       "      <td>0</td>\n",
       "      <td>0</td>\n",
       "      <td>0</td>\n",
       "      <td>21504</td>\n",
       "      <td>0</td>\n",
       "      <td>0</td>\n",
       "      <td>0</td>\n",
       "    </tr>\n",
       "    <tr>\n",
       "      <th>5</th>\n",
       "      <td>3072</td>\n",
       "      <td>0</td>\n",
       "      <td>0</td>\n",
       "      <td>0</td>\n",
       "      <td>14336</td>\n",
       "      <td>8192</td>\n",
       "      <td>13312</td>\n",
       "      <td>18432</td>\n",
       "      <td>0</td>\n",
       "      <td>14336</td>\n",
       "      <td>...</td>\n",
       "      <td>21504</td>\n",
       "      <td>25600</td>\n",
       "      <td>0</td>\n",
       "      <td>0</td>\n",
       "      <td>0</td>\n",
       "      <td>0</td>\n",
       "      <td>24576</td>\n",
       "      <td>0</td>\n",
       "      <td>0</td>\n",
       "      <td>0</td>\n",
       "    </tr>\n",
       "    <tr>\n",
       "      <th>6</th>\n",
       "      <td>23552</td>\n",
       "      <td>0</td>\n",
       "      <td>11264</td>\n",
       "      <td>0</td>\n",
       "      <td>18432</td>\n",
       "      <td>10240</td>\n",
       "      <td>13312</td>\n",
       "      <td>14336</td>\n",
       "      <td>0</td>\n",
       "      <td>16384</td>\n",
       "      <td>...</td>\n",
       "      <td>20480</td>\n",
       "      <td>16384</td>\n",
       "      <td>4096</td>\n",
       "      <td>0</td>\n",
       "      <td>0</td>\n",
       "      <td>0</td>\n",
       "      <td>20480</td>\n",
       "      <td>0</td>\n",
       "      <td>0</td>\n",
       "      <td>0</td>\n",
       "    </tr>\n",
       "    <tr>\n",
       "      <th>7</th>\n",
       "      <td>14336</td>\n",
       "      <td>0</td>\n",
       "      <td>18432</td>\n",
       "      <td>0</td>\n",
       "      <td>22528</td>\n",
       "      <td>8192</td>\n",
       "      <td>20480</td>\n",
       "      <td>16384</td>\n",
       "      <td>0</td>\n",
       "      <td>25600</td>\n",
       "      <td>...</td>\n",
       "      <td>11264</td>\n",
       "      <td>21504</td>\n",
       "      <td>15360</td>\n",
       "      <td>0</td>\n",
       "      <td>0</td>\n",
       "      <td>0</td>\n",
       "      <td>24576</td>\n",
       "      <td>0</td>\n",
       "      <td>8192</td>\n",
       "      <td>0</td>\n",
       "    </tr>\n",
       "    <tr>\n",
       "      <th>8</th>\n",
       "      <td>14336</td>\n",
       "      <td>0</td>\n",
       "      <td>20480</td>\n",
       "      <td>9216</td>\n",
       "      <td>28672</td>\n",
       "      <td>8192</td>\n",
       "      <td>19456</td>\n",
       "      <td>21504</td>\n",
       "      <td>0</td>\n",
       "      <td>24576</td>\n",
       "      <td>...</td>\n",
       "      <td>17408</td>\n",
       "      <td>17408</td>\n",
       "      <td>20480</td>\n",
       "      <td>0</td>\n",
       "      <td>7168</td>\n",
       "      <td>3072</td>\n",
       "      <td>23552</td>\n",
       "      <td>0</td>\n",
       "      <td>24576</td>\n",
       "      <td>0</td>\n",
       "    </tr>\n",
       "    <tr>\n",
       "      <th>9</th>\n",
       "      <td>15360</td>\n",
       "      <td>0</td>\n",
       "      <td>17408</td>\n",
       "      <td>13312</td>\n",
       "      <td>15360</td>\n",
       "      <td>7168</td>\n",
       "      <td>16384</td>\n",
       "      <td>13312</td>\n",
       "      <td>0</td>\n",
       "      <td>22528</td>\n",
       "      <td>...</td>\n",
       "      <td>15360</td>\n",
       "      <td>15360</td>\n",
       "      <td>21504</td>\n",
       "      <td>0</td>\n",
       "      <td>17408</td>\n",
       "      <td>33792</td>\n",
       "      <td>27648</td>\n",
       "      <td>0</td>\n",
       "      <td>22528</td>\n",
       "      <td>2048</td>\n",
       "    </tr>\n",
       "    <tr>\n",
       "      <th>10</th>\n",
       "      <td>15360</td>\n",
       "      <td>0</td>\n",
       "      <td>14336</td>\n",
       "      <td>15360</td>\n",
       "      <td>19456</td>\n",
       "      <td>8192</td>\n",
       "      <td>20480</td>\n",
       "      <td>15360</td>\n",
       "      <td>0</td>\n",
       "      <td>20480</td>\n",
       "      <td>...</td>\n",
       "      <td>21504</td>\n",
       "      <td>24576</td>\n",
       "      <td>25600</td>\n",
       "      <td>0</td>\n",
       "      <td>18432</td>\n",
       "      <td>29696</td>\n",
       "      <td>28672</td>\n",
       "      <td>12288</td>\n",
       "      <td>21504</td>\n",
       "      <td>18432</td>\n",
       "    </tr>\n",
       "    <tr>\n",
       "      <th>11</th>\n",
       "      <td>15360</td>\n",
       "      <td>18432</td>\n",
       "      <td>19456</td>\n",
       "      <td>12288</td>\n",
       "      <td>16384</td>\n",
       "      <td>13312</td>\n",
       "      <td>13312</td>\n",
       "      <td>16384</td>\n",
       "      <td>0</td>\n",
       "      <td>17408</td>\n",
       "      <td>...</td>\n",
       "      <td>19456</td>\n",
       "      <td>18432</td>\n",
       "      <td>17408</td>\n",
       "      <td>12288</td>\n",
       "      <td>18432</td>\n",
       "      <td>39936</td>\n",
       "      <td>25600</td>\n",
       "      <td>14336</td>\n",
       "      <td>0</td>\n",
       "      <td>18432</td>\n",
       "    </tr>\n",
       "    <tr>\n",
       "      <th>12</th>\n",
       "      <td>10240</td>\n",
       "      <td>14336</td>\n",
       "      <td>18432</td>\n",
       "      <td>10240</td>\n",
       "      <td>18432</td>\n",
       "      <td>9216</td>\n",
       "      <td>19456</td>\n",
       "      <td>13312</td>\n",
       "      <td>13312</td>\n",
       "      <td>19456</td>\n",
       "      <td>...</td>\n",
       "      <td>16384</td>\n",
       "      <td>22528</td>\n",
       "      <td>25600</td>\n",
       "      <td>43008</td>\n",
       "      <td>18432</td>\n",
       "      <td>23552</td>\n",
       "      <td>21504</td>\n",
       "      <td>20480</td>\n",
       "      <td>0</td>\n",
       "      <td>13312</td>\n",
       "    </tr>\n",
       "    <tr>\n",
       "      <th rowspan=\"12\" valign=\"top\">messages</th>\n",
       "      <th>1</th>\n",
       "      <td>0</td>\n",
       "      <td>0</td>\n",
       "      <td>0</td>\n",
       "      <td>0</td>\n",
       "      <td>0</td>\n",
       "      <td>7</td>\n",
       "      <td>0</td>\n",
       "      <td>0</td>\n",
       "      <td>0</td>\n",
       "      <td>0</td>\n",
       "      <td>...</td>\n",
       "      <td>0</td>\n",
       "      <td>0</td>\n",
       "      <td>0</td>\n",
       "      <td>0</td>\n",
       "      <td>0</td>\n",
       "      <td>0</td>\n",
       "      <td>9</td>\n",
       "      <td>0</td>\n",
       "      <td>0</td>\n",
       "      <td>0</td>\n",
       "    </tr>\n",
       "    <tr>\n",
       "      <th>2</th>\n",
       "      <td>0</td>\n",
       "      <td>0</td>\n",
       "      <td>0</td>\n",
       "      <td>0</td>\n",
       "      <td>0</td>\n",
       "      <td>38</td>\n",
       "      <td>0</td>\n",
       "      <td>0</td>\n",
       "      <td>0</td>\n",
       "      <td>0</td>\n",
       "      <td>...</td>\n",
       "      <td>0</td>\n",
       "      <td>0</td>\n",
       "      <td>0</td>\n",
       "      <td>0</td>\n",
       "      <td>0</td>\n",
       "      <td>0</td>\n",
       "      <td>45</td>\n",
       "      <td>0</td>\n",
       "      <td>0</td>\n",
       "      <td>0</td>\n",
       "    </tr>\n",
       "    <tr>\n",
       "      <th>3</th>\n",
       "      <td>0</td>\n",
       "      <td>0</td>\n",
       "      <td>0</td>\n",
       "      <td>0</td>\n",
       "      <td>0</td>\n",
       "      <td>56</td>\n",
       "      <td>0</td>\n",
       "      <td>0</td>\n",
       "      <td>0</td>\n",
       "      <td>2</td>\n",
       "      <td>...</td>\n",
       "      <td>0</td>\n",
       "      <td>0</td>\n",
       "      <td>0</td>\n",
       "      <td>0</td>\n",
       "      <td>0</td>\n",
       "      <td>0</td>\n",
       "      <td>46</td>\n",
       "      <td>0</td>\n",
       "      <td>0</td>\n",
       "      <td>0</td>\n",
       "    </tr>\n",
       "    <tr>\n",
       "      <th>4</th>\n",
       "      <td>0</td>\n",
       "      <td>0</td>\n",
       "      <td>0</td>\n",
       "      <td>0</td>\n",
       "      <td>0</td>\n",
       "      <td>41</td>\n",
       "      <td>0</td>\n",
       "      <td>11</td>\n",
       "      <td>0</td>\n",
       "      <td>14</td>\n",
       "      <td>...</td>\n",
       "      <td>38</td>\n",
       "      <td>10</td>\n",
       "      <td>0</td>\n",
       "      <td>0</td>\n",
       "      <td>0</td>\n",
       "      <td>0</td>\n",
       "      <td>49</td>\n",
       "      <td>0</td>\n",
       "      <td>0</td>\n",
       "      <td>0</td>\n",
       "    </tr>\n",
       "    <tr>\n",
       "      <th>5</th>\n",
       "      <td>22</td>\n",
       "      <td>0</td>\n",
       "      <td>0</td>\n",
       "      <td>0</td>\n",
       "      <td>95</td>\n",
       "      <td>42</td>\n",
       "      <td>0</td>\n",
       "      <td>39</td>\n",
       "      <td>0</td>\n",
       "      <td>7</td>\n",
       "      <td>...</td>\n",
       "      <td>37</td>\n",
       "      <td>55</td>\n",
       "      <td>0</td>\n",
       "      <td>0</td>\n",
       "      <td>0</td>\n",
       "      <td>0</td>\n",
       "      <td>40</td>\n",
       "      <td>0</td>\n",
       "      <td>0</td>\n",
       "      <td>0</td>\n",
       "    </tr>\n",
       "    <tr>\n",
       "      <th>6</th>\n",
       "      <td>60</td>\n",
       "      <td>0</td>\n",
       "      <td>4</td>\n",
       "      <td>0</td>\n",
       "      <td>134</td>\n",
       "      <td>47</td>\n",
       "      <td>0</td>\n",
       "      <td>26</td>\n",
       "      <td>0</td>\n",
       "      <td>14</td>\n",
       "      <td>...</td>\n",
       "      <td>50</td>\n",
       "      <td>56</td>\n",
       "      <td>1</td>\n",
       "      <td>0</td>\n",
       "      <td>0</td>\n",
       "      <td>0</td>\n",
       "      <td>35</td>\n",
       "      <td>0</td>\n",
       "      <td>0</td>\n",
       "      <td>0</td>\n",
       "    </tr>\n",
       "    <tr>\n",
       "      <th>7</th>\n",
       "      <td>75</td>\n",
       "      <td>0</td>\n",
       "      <td>11</td>\n",
       "      <td>0</td>\n",
       "      <td>181</td>\n",
       "      <td>56</td>\n",
       "      <td>0</td>\n",
       "      <td>26</td>\n",
       "      <td>0</td>\n",
       "      <td>14</td>\n",
       "      <td>...</td>\n",
       "      <td>62</td>\n",
       "      <td>58</td>\n",
       "      <td>19</td>\n",
       "      <td>0</td>\n",
       "      <td>0</td>\n",
       "      <td>0</td>\n",
       "      <td>42</td>\n",
       "      <td>0</td>\n",
       "      <td>20</td>\n",
       "      <td>0</td>\n",
       "    </tr>\n",
       "    <tr>\n",
       "      <th>8</th>\n",
       "      <td>81</td>\n",
       "      <td>0</td>\n",
       "      <td>13</td>\n",
       "      <td>37</td>\n",
       "      <td>151</td>\n",
       "      <td>64</td>\n",
       "      <td>0</td>\n",
       "      <td>27</td>\n",
       "      <td>0</td>\n",
       "      <td>9</td>\n",
       "      <td>...</td>\n",
       "      <td>50</td>\n",
       "      <td>49</td>\n",
       "      <td>15</td>\n",
       "      <td>0</td>\n",
       "      <td>0</td>\n",
       "      <td>13</td>\n",
       "      <td>41</td>\n",
       "      <td>0</td>\n",
       "      <td>62</td>\n",
       "      <td>0</td>\n",
       "    </tr>\n",
       "    <tr>\n",
       "      <th>9</th>\n",
       "      <td>57</td>\n",
       "      <td>0</td>\n",
       "      <td>4</td>\n",
       "      <td>91</td>\n",
       "      <td>146</td>\n",
       "      <td>52</td>\n",
       "      <td>0</td>\n",
       "      <td>31</td>\n",
       "      <td>0</td>\n",
       "      <td>12</td>\n",
       "      <td>...</td>\n",
       "      <td>48</td>\n",
       "      <td>52</td>\n",
       "      <td>10</td>\n",
       "      <td>0</td>\n",
       "      <td>0</td>\n",
       "      <td>82</td>\n",
       "      <td>29</td>\n",
       "      <td>0</td>\n",
       "      <td>44</td>\n",
       "      <td>11</td>\n",
       "    </tr>\n",
       "    <tr>\n",
       "      <th>10</th>\n",
       "      <td>73</td>\n",
       "      <td>0</td>\n",
       "      <td>10</td>\n",
       "      <td>83</td>\n",
       "      <td>165</td>\n",
       "      <td>44</td>\n",
       "      <td>0</td>\n",
       "      <td>18</td>\n",
       "      <td>0</td>\n",
       "      <td>15</td>\n",
       "      <td>...</td>\n",
       "      <td>45</td>\n",
       "      <td>61</td>\n",
       "      <td>21</td>\n",
       "      <td>0</td>\n",
       "      <td>0</td>\n",
       "      <td>82</td>\n",
       "      <td>35</td>\n",
       "      <td>20</td>\n",
       "      <td>42</td>\n",
       "      <td>48</td>\n",
       "    </tr>\n",
       "    <tr>\n",
       "      <th>11</th>\n",
       "      <td>58</td>\n",
       "      <td>0</td>\n",
       "      <td>16</td>\n",
       "      <td>94</td>\n",
       "      <td>158</td>\n",
       "      <td>51</td>\n",
       "      <td>0</td>\n",
       "      <td>21</td>\n",
       "      <td>0</td>\n",
       "      <td>11</td>\n",
       "      <td>...</td>\n",
       "      <td>47</td>\n",
       "      <td>40</td>\n",
       "      <td>13</td>\n",
       "      <td>16</td>\n",
       "      <td>0</td>\n",
       "      <td>79</td>\n",
       "      <td>46</td>\n",
       "      <td>14</td>\n",
       "      <td>0</td>\n",
       "      <td>59</td>\n",
       "    </tr>\n",
       "    <tr>\n",
       "      <th>12</th>\n",
       "      <td>70</td>\n",
       "      <td>0</td>\n",
       "      <td>12</td>\n",
       "      <td>75</td>\n",
       "      <td>162</td>\n",
       "      <td>54</td>\n",
       "      <td>0</td>\n",
       "      <td>26</td>\n",
       "      <td>56</td>\n",
       "      <td>12</td>\n",
       "      <td>...</td>\n",
       "      <td>46</td>\n",
       "      <td>51</td>\n",
       "      <td>19</td>\n",
       "      <td>78</td>\n",
       "      <td>0</td>\n",
       "      <td>84</td>\n",
       "      <td>51</td>\n",
       "      <td>17</td>\n",
       "      <td>0</td>\n",
       "      <td>66</td>\n",
       "    </tr>\n",
       "  </tbody>\n",
       "</table>\n",
       "<p>36 rows × 498 columns</p>\n",
       "</div>"
      ],
      "text/plain": [
       "user_id                1000   1001   1002   1003   1004   1005   1006   1007  \\\n",
       "               month                                                           \n",
       "calls_duration 1          0      0      0      0      0     95      0      0   \n",
       "               2          0      0      0      0      0    456     42      0   \n",
       "               3          0      0      0      0      0    606    286      0   \n",
       "               4          0      0      0      0      0    712    356    198   \n",
       "               5        159      0      0      0     35    595    370    480   \n",
       "               6        172      0    117      0    171    612    478    545   \n",
       "               7        340      0    214      0    135    569    316    577   \n",
       "               8        408      0    289    380    137    619    275    458   \n",
       "               9        466      0    206    961    117    479    360    655   \n",
       "               10       350      0    212    855    145    723    267    465   \n",
       "               11       338    430    243    824    117    547    372    580   \n",
       "               12       333    414    236    802    130    592    379    421   \n",
       "mb_used        1          0      0      0      0      0   3072      0      0   \n",
       "               2          0      0      0      0      0   8192   2048      0   \n",
       "               3          0      0      0      0      0  11264  17408      0   \n",
       "               4          0      0      0      0      0  10240  14336   8192   \n",
       "               5       3072      0      0      0  14336   8192  13312  18432   \n",
       "               6      23552      0  11264      0  18432  10240  13312  14336   \n",
       "               7      14336      0  18432      0  22528   8192  20480  16384   \n",
       "               8      14336      0  20480   9216  28672   8192  19456  21504   \n",
       "               9      15360      0  17408  13312  15360   7168  16384  13312   \n",
       "               10     15360      0  14336  15360  19456   8192  20480  15360   \n",
       "               11     15360  18432  19456  12288  16384  13312  13312  16384   \n",
       "               12     10240  14336  18432  10240  18432   9216  19456  13312   \n",
       "messages       1          0      0      0      0      0      7      0      0   \n",
       "               2          0      0      0      0      0     38      0      0   \n",
       "               3          0      0      0      0      0     56      0      0   \n",
       "               4          0      0      0      0      0     41      0     11   \n",
       "               5         22      0      0      0     95     42      0     39   \n",
       "               6         60      0      4      0    134     47      0     26   \n",
       "               7         75      0     11      0    181     56      0     26   \n",
       "               8         81      0     13     37    151     64      0     27   \n",
       "               9         57      0      4     91    146     52      0     31   \n",
       "               10        73      0     10     83    165     44      0     18   \n",
       "               11        58      0     16     94    158     51      0     21   \n",
       "               12        70      0     12     75    162     54      0     26   \n",
       "\n",
       "user_id                1008   1009  ...   1490   1491   1492   1493   1494  \\\n",
       "               month                ...                                      \n",
       "calls_duration 1          0      0  ...      0      0      0      0      0   \n",
       "               2          0      0  ...      0      0      0      0      0   \n",
       "               3          0    109  ...      0      0      0      0      0   \n",
       "               4          0    324  ...    270    143      0      0      0   \n",
       "               5          0    170  ...    339    530      0      0      0   \n",
       "               6          0    289  ...    330    424     84      0      0   \n",
       "               7          0    183  ...    250    606    517      0      0   \n",
       "               8          0    249  ...    346    611    603      0    262   \n",
       "               9          0    133  ...    322    531    694      0    501   \n",
       "               10         0    213  ...    312    583    619      0    354   \n",
       "               11         0    290  ...    282    518    510    173    411   \n",
       "               12       339    229  ...    290    674    781    571    418   \n",
       "mb_used        1          0      0  ...      0      0      0      0      0   \n",
       "               2          0      0  ...      0      0      0      0      0   \n",
       "               3          0   8192  ...      0      0      0      0      0   \n",
       "               4          0  15360  ...  14336   4096      0      0      0   \n",
       "               5          0  14336  ...  21504  25600      0      0      0   \n",
       "               6          0  16384  ...  20480  16384   4096      0      0   \n",
       "               7          0  25600  ...  11264  21504  15360      0      0   \n",
       "               8          0  24576  ...  17408  17408  20480      0   7168   \n",
       "               9          0  22528  ...  15360  15360  21504      0  17408   \n",
       "               10         0  20480  ...  21504  24576  25600      0  18432   \n",
       "               11         0  17408  ...  19456  18432  17408  12288  18432   \n",
       "               12     13312  19456  ...  16384  22528  25600  43008  18432   \n",
       "messages       1          0      0  ...      0      0      0      0      0   \n",
       "               2          0      0  ...      0      0      0      0      0   \n",
       "               3          0      2  ...      0      0      0      0      0   \n",
       "               4          0     14  ...     38     10      0      0      0   \n",
       "               5          0      7  ...     37     55      0      0      0   \n",
       "               6          0     14  ...     50     56      1      0      0   \n",
       "               7          0     14  ...     62     58     19      0      0   \n",
       "               8          0      9  ...     50     49     15      0      0   \n",
       "               9          0     12  ...     48     52     10      0      0   \n",
       "               10         0     15  ...     45     61     21      0      0   \n",
       "               11         0     11  ...     47     40     13     16      0   \n",
       "               12        56     12  ...     46     51     19     78      0   \n",
       "\n",
       "user_id                1495   1496   1497   1498   1499  \n",
       "               month                                     \n",
       "calls_duration 1          0     48      0      0      0  \n",
       "               2          0    594      0      0      0  \n",
       "               3          0    557      0      0      0  \n",
       "               4          0    521      0      0      0  \n",
       "               5          0    484      0      0      0  \n",
       "               6          0    555      0      0      0  \n",
       "               7          0    582      0    175      0  \n",
       "               8         92    527      0    400      0  \n",
       "               9        813    486      0    471     70  \n",
       "               10      1030    450    490    247    449  \n",
       "               11       954    662    371      0    612  \n",
       "               12      1031    518    545      0    492  \n",
       "mb_used        1          0   4096      0      0      0  \n",
       "               2          0  28672      0      0      0  \n",
       "               3          0  25600      0      0      0  \n",
       "               4          0  21504      0      0      0  \n",
       "               5          0  24576      0      0      0  \n",
       "               6          0  20480      0      0      0  \n",
       "               7          0  24576      0   8192      0  \n",
       "               8       3072  23552      0  24576      0  \n",
       "               9      33792  27648      0  22528   2048  \n",
       "               10     29696  28672  12288  21504  18432  \n",
       "               11     39936  25600  14336      0  18432  \n",
       "               12     23552  21504  20480      0  13312  \n",
       "messages       1          0      9      0      0      0  \n",
       "               2          0     45      0      0      0  \n",
       "               3          0     46      0      0      0  \n",
       "               4          0     49      0      0      0  \n",
       "               5          0     40      0      0      0  \n",
       "               6          0     35      0      0      0  \n",
       "               7          0     42      0     20      0  \n",
       "               8         13     41      0     62      0  \n",
       "               9         82     29      0     44     11  \n",
       "               10        82     35     20     42     48  \n",
       "               11        79     46     14      0     59  \n",
       "               12        84     51     17      0     66  \n",
       "\n",
       "[36 rows x 498 columns]"
      ]
     },
     "execution_count": 24,
     "metadata": {},
     "output_type": "execute_result"
    }
   ],
   "source": [
    "expenses = (calls_duration.merge(messages_count, on=['user_id','month'], how='outer')\n",
    "                           .merge(internet_sum, on=['user_id','month'], how='outer')\n",
    "                           .sort_values(by=['user_id','month'])\n",
    "            )\n",
    "expenses.set_index('user_id', inplace=True)\n",
    "# результат\n",
    "display(expenses.head())\n",
    "\n",
    "# также выведем результат в более наглядном виде без сохранения\n",
    "expenses.pivot_table(index='user_id', columns=['month'], values=('calls_duration', 'messages','mb_used'), fill_value=0).T"
   ]
  },
  {
   "cell_type": "markdown",
   "id": "c93dd885",
   "metadata": {},
   "source": [
    "Далее для подсчета выручки объединим таблицу `expenses` с таблицами `users` (в которой нас интересуют столбцы `tariff` и `city`) и `tariffs`"
   ]
  },
  {
   "cell_type": "code",
   "execution_count": 25,
   "id": "ebcc14d2",
   "metadata": {
    "scrolled": false
   },
   "outputs": [
    {
     "data": {
      "text/html": [
       "<div>\n",
       "<style scoped>\n",
       "    .dataframe tbody tr th:only-of-type {\n",
       "        vertical-align: middle;\n",
       "    }\n",
       "\n",
       "    .dataframe tbody tr th {\n",
       "        vertical-align: top;\n",
       "    }\n",
       "\n",
       "    .dataframe thead th {\n",
       "        text-align: right;\n",
       "    }\n",
       "</style>\n",
       "<table border=\"1\" class=\"dataframe\">\n",
       "  <thead>\n",
       "    <tr style=\"text-align: right;\">\n",
       "      <th></th>\n",
       "      <th>user_id</th>\n",
       "      <th>month</th>\n",
       "      <th>calls_duration</th>\n",
       "      <th>messages</th>\n",
       "      <th>mb_used</th>\n",
       "      <th>tariff</th>\n",
       "      <th>city</th>\n",
       "      <th>messages_included</th>\n",
       "      <th>mb_per_month_included</th>\n",
       "      <th>minutes_included</th>\n",
       "      <th>rub_monthly_fee</th>\n",
       "      <th>rub_per_gb</th>\n",
       "      <th>rub_per_message</th>\n",
       "      <th>rub_per_minute</th>\n",
       "    </tr>\n",
       "  </thead>\n",
       "  <tbody>\n",
       "    <tr>\n",
       "      <th>0</th>\n",
       "      <td>1000</td>\n",
       "      <td>5</td>\n",
       "      <td>159</td>\n",
       "      <td>22</td>\n",
       "      <td>3072</td>\n",
       "      <td>ultra</td>\n",
       "      <td>Краснодар</td>\n",
       "      <td>1000</td>\n",
       "      <td>30720</td>\n",
       "      <td>3000</td>\n",
       "      <td>1950</td>\n",
       "      <td>150</td>\n",
       "      <td>1</td>\n",
       "      <td>1</td>\n",
       "    </tr>\n",
       "    <tr>\n",
       "      <th>1</th>\n",
       "      <td>1000</td>\n",
       "      <td>6</td>\n",
       "      <td>172</td>\n",
       "      <td>60</td>\n",
       "      <td>23552</td>\n",
       "      <td>ultra</td>\n",
       "      <td>Краснодар</td>\n",
       "      <td>1000</td>\n",
       "      <td>30720</td>\n",
       "      <td>3000</td>\n",
       "      <td>1950</td>\n",
       "      <td>150</td>\n",
       "      <td>1</td>\n",
       "      <td>1</td>\n",
       "    </tr>\n",
       "    <tr>\n",
       "      <th>2</th>\n",
       "      <td>1000</td>\n",
       "      <td>7</td>\n",
       "      <td>340</td>\n",
       "      <td>75</td>\n",
       "      <td>14336</td>\n",
       "      <td>ultra</td>\n",
       "      <td>Краснодар</td>\n",
       "      <td>1000</td>\n",
       "      <td>30720</td>\n",
       "      <td>3000</td>\n",
       "      <td>1950</td>\n",
       "      <td>150</td>\n",
       "      <td>1</td>\n",
       "      <td>1</td>\n",
       "    </tr>\n",
       "    <tr>\n",
       "      <th>3</th>\n",
       "      <td>1000</td>\n",
       "      <td>8</td>\n",
       "      <td>408</td>\n",
       "      <td>81</td>\n",
       "      <td>14336</td>\n",
       "      <td>ultra</td>\n",
       "      <td>Краснодар</td>\n",
       "      <td>1000</td>\n",
       "      <td>30720</td>\n",
       "      <td>3000</td>\n",
       "      <td>1950</td>\n",
       "      <td>150</td>\n",
       "      <td>1</td>\n",
       "      <td>1</td>\n",
       "    </tr>\n",
       "    <tr>\n",
       "      <th>4</th>\n",
       "      <td>1000</td>\n",
       "      <td>9</td>\n",
       "      <td>466</td>\n",
       "      <td>57</td>\n",
       "      <td>15360</td>\n",
       "      <td>ultra</td>\n",
       "      <td>Краснодар</td>\n",
       "      <td>1000</td>\n",
       "      <td>30720</td>\n",
       "      <td>3000</td>\n",
       "      <td>1950</td>\n",
       "      <td>150</td>\n",
       "      <td>1</td>\n",
       "      <td>1</td>\n",
       "    </tr>\n",
       "  </tbody>\n",
       "</table>\n",
       "</div>"
      ],
      "text/plain": [
       "   user_id  month  calls_duration  messages  mb_used tariff       city  \\\n",
       "0     1000      5             159        22     3072  ultra  Краснодар   \n",
       "1     1000      6             172        60    23552  ultra  Краснодар   \n",
       "2     1000      7             340        75    14336  ultra  Краснодар   \n",
       "3     1000      8             408        81    14336  ultra  Краснодар   \n",
       "4     1000      9             466        57    15360  ultra  Краснодар   \n",
       "\n",
       "   messages_included  mb_per_month_included  minutes_included  \\\n",
       "0               1000                  30720              3000   \n",
       "1               1000                  30720              3000   \n",
       "2               1000                  30720              3000   \n",
       "3               1000                  30720              3000   \n",
       "4               1000                  30720              3000   \n",
       "\n",
       "   rub_monthly_fee  rub_per_gb  rub_per_message  rub_per_minute  \n",
       "0             1950         150                1               1  \n",
       "1             1950         150                1               1  \n",
       "2             1950         150                1               1  \n",
       "3             1950         150                1               1  \n",
       "4             1950         150                1               1  "
      ]
     },
     "metadata": {},
     "output_type": "display_data"
    }
   ],
   "source": [
    "expenses = (expenses.merge(users[['user_id', 'tariff','city']], on='user_id', how='left')\n",
    "                      .merge(tariffs, on='tariff')\n",
    "                      .fillna(0)\n",
    "            )\n",
    "\n",
    "# Цикл для приведения значений к целочисленному типу:\n",
    "for c in expenses:\n",
    "    try:\n",
    "        expenses[c] = expenses[c].astype('int')\n",
    "    except:\n",
    "        expenses[c] = expenses[c]\n",
    "    \n",
    "display(expenses.head())"
   ]
  },
  {
   "cell_type": "markdown",
   "id": "d5d21697",
   "metadata": {},
   "source": [
    "Добавим столбец `expenses` с помесячной выручкой. Заполним его с помощью функции `summ`"
   ]
  },
  {
   "cell_type": "code",
   "execution_count": 26,
   "id": "3fb526b9",
   "metadata": {
    "scrolled": false
   },
   "outputs": [
    {
     "data": {
      "text/html": [
       "<div>\n",
       "<style scoped>\n",
       "    .dataframe tbody tr th:only-of-type {\n",
       "        vertical-align: middle;\n",
       "    }\n",
       "\n",
       "    .dataframe tbody tr th {\n",
       "        vertical-align: top;\n",
       "    }\n",
       "\n",
       "    .dataframe thead th {\n",
       "        text-align: right;\n",
       "    }\n",
       "</style>\n",
       "<table border=\"1\" class=\"dataframe\">\n",
       "  <thead>\n",
       "    <tr style=\"text-align: right;\">\n",
       "      <th></th>\n",
       "      <th>user_id</th>\n",
       "      <th>month</th>\n",
       "      <th>calls_duration</th>\n",
       "      <th>messages</th>\n",
       "      <th>mb_used</th>\n",
       "      <th>tariff</th>\n",
       "      <th>city</th>\n",
       "      <th>messages_included</th>\n",
       "      <th>mb_per_month_included</th>\n",
       "      <th>minutes_included</th>\n",
       "      <th>rub_monthly_fee</th>\n",
       "      <th>rub_per_gb</th>\n",
       "      <th>rub_per_message</th>\n",
       "      <th>rub_per_minute</th>\n",
       "      <th>expenses</th>\n",
       "    </tr>\n",
       "  </thead>\n",
       "  <tbody>\n",
       "    <tr>\n",
       "      <th>0</th>\n",
       "      <td>1000</td>\n",
       "      <td>5</td>\n",
       "      <td>159</td>\n",
       "      <td>22</td>\n",
       "      <td>3072</td>\n",
       "      <td>ultra</td>\n",
       "      <td>Краснодар</td>\n",
       "      <td>1000</td>\n",
       "      <td>30720</td>\n",
       "      <td>3000</td>\n",
       "      <td>1950</td>\n",
       "      <td>150</td>\n",
       "      <td>1</td>\n",
       "      <td>1</td>\n",
       "      <td>1950.0</td>\n",
       "    </tr>\n",
       "    <tr>\n",
       "      <th>1</th>\n",
       "      <td>1000</td>\n",
       "      <td>6</td>\n",
       "      <td>172</td>\n",
       "      <td>60</td>\n",
       "      <td>23552</td>\n",
       "      <td>ultra</td>\n",
       "      <td>Краснодар</td>\n",
       "      <td>1000</td>\n",
       "      <td>30720</td>\n",
       "      <td>3000</td>\n",
       "      <td>1950</td>\n",
       "      <td>150</td>\n",
       "      <td>1</td>\n",
       "      <td>1</td>\n",
       "      <td>1950.0</td>\n",
       "    </tr>\n",
       "    <tr>\n",
       "      <th>2</th>\n",
       "      <td>1000</td>\n",
       "      <td>7</td>\n",
       "      <td>340</td>\n",
       "      <td>75</td>\n",
       "      <td>14336</td>\n",
       "      <td>ultra</td>\n",
       "      <td>Краснодар</td>\n",
       "      <td>1000</td>\n",
       "      <td>30720</td>\n",
       "      <td>3000</td>\n",
       "      <td>1950</td>\n",
       "      <td>150</td>\n",
       "      <td>1</td>\n",
       "      <td>1</td>\n",
       "      <td>1950.0</td>\n",
       "    </tr>\n",
       "    <tr>\n",
       "      <th>3</th>\n",
       "      <td>1000</td>\n",
       "      <td>8</td>\n",
       "      <td>408</td>\n",
       "      <td>81</td>\n",
       "      <td>14336</td>\n",
       "      <td>ultra</td>\n",
       "      <td>Краснодар</td>\n",
       "      <td>1000</td>\n",
       "      <td>30720</td>\n",
       "      <td>3000</td>\n",
       "      <td>1950</td>\n",
       "      <td>150</td>\n",
       "      <td>1</td>\n",
       "      <td>1</td>\n",
       "      <td>1950.0</td>\n",
       "    </tr>\n",
       "    <tr>\n",
       "      <th>4</th>\n",
       "      <td>1000</td>\n",
       "      <td>9</td>\n",
       "      <td>466</td>\n",
       "      <td>57</td>\n",
       "      <td>15360</td>\n",
       "      <td>ultra</td>\n",
       "      <td>Краснодар</td>\n",
       "      <td>1000</td>\n",
       "      <td>30720</td>\n",
       "      <td>3000</td>\n",
       "      <td>1950</td>\n",
       "      <td>150</td>\n",
       "      <td>1</td>\n",
       "      <td>1</td>\n",
       "      <td>1950.0</td>\n",
       "    </tr>\n",
       "  </tbody>\n",
       "</table>\n",
       "</div>"
      ],
      "text/plain": [
       "   user_id  month  calls_duration  messages  mb_used tariff       city  \\\n",
       "0     1000      5             159        22     3072  ultra  Краснодар   \n",
       "1     1000      6             172        60    23552  ultra  Краснодар   \n",
       "2     1000      7             340        75    14336  ultra  Краснодар   \n",
       "3     1000      8             408        81    14336  ultra  Краснодар   \n",
       "4     1000      9             466        57    15360  ultra  Краснодар   \n",
       "\n",
       "   messages_included  mb_per_month_included  minutes_included  \\\n",
       "0               1000                  30720              3000   \n",
       "1               1000                  30720              3000   \n",
       "2               1000                  30720              3000   \n",
       "3               1000                  30720              3000   \n",
       "4               1000                  30720              3000   \n",
       "\n",
       "   rub_monthly_fee  rub_per_gb  rub_per_message  rub_per_minute  expenses  \n",
       "0             1950         150                1               1    1950.0  \n",
       "1             1950         150                1               1    1950.0  \n",
       "2             1950         150                1               1    1950.0  \n",
       "3             1950         150                1               1    1950.0  \n",
       "4             1950         150                1               1    1950.0  "
      ]
     },
     "metadata": {},
     "output_type": "display_data"
    }
   ],
   "source": [
    "def summ(row):\n",
    "    extra_call_exp = 0\n",
    "    extra_msg_exp = 0\n",
    "    extra_mb_exp = 0\n",
    "    \n",
    "    if row['calls_duration'] > row['minutes_included']:\n",
    "        extra_call_exp = (row['calls_duration'] - row['minutes_included']) * row['rub_per_minute']\n",
    "    \n",
    "    if row['messages'] > row['messages_included']:\n",
    "        extra_msg_exp = (row['messages'] - row['messages_included']) * row['rub_per_message']\n",
    "    \n",
    "    if row['mb_used'] > row['mb_per_month_included']:\n",
    "        extra_mb_exp = ((row['mb_used'] - row['mb_per_month_included']) / 1024) * row['rub_per_gb'] #один кб может стоить 200 рублей\n",
    "    \n",
    "    exp = row['rub_monthly_fee'] + extra_call_exp + extra_msg_exp + extra_mb_exp\n",
    "    \n",
    "    return(exp)\n",
    "\n",
    "expenses['expenses'] = expenses.apply(summ, axis=1) \n",
    "display(expenses.head())"
   ]
  },
  {
   "cell_type": "markdown",
   "id": "f2789ad6",
   "metadata": {},
   "source": [
    "Наглядное представление:"
   ]
  },
  {
   "cell_type": "code",
   "execution_count": 27,
   "id": "af203879",
   "metadata": {
    "scrolled": false
   },
   "outputs": [
    {
     "data": {
      "text/html": [
       "<div>\n",
       "<style scoped>\n",
       "    .dataframe tbody tr th:only-of-type {\n",
       "        vertical-align: middle;\n",
       "    }\n",
       "\n",
       "    .dataframe tbody tr th {\n",
       "        vertical-align: top;\n",
       "    }\n",
       "\n",
       "    .dataframe thead th {\n",
       "        text-align: right;\n",
       "    }\n",
       "</style>\n",
       "<table border=\"1\" class=\"dataframe\">\n",
       "  <thead>\n",
       "    <tr style=\"text-align: right;\">\n",
       "      <th>month</th>\n",
       "      <th>1</th>\n",
       "      <th>2</th>\n",
       "      <th>3</th>\n",
       "      <th>4</th>\n",
       "      <th>5</th>\n",
       "      <th>6</th>\n",
       "      <th>7</th>\n",
       "      <th>8</th>\n",
       "      <th>9</th>\n",
       "      <th>10</th>\n",
       "      <th>11</th>\n",
       "      <th>12</th>\n",
       "    </tr>\n",
       "    <tr>\n",
       "      <th>user_id</th>\n",
       "      <th></th>\n",
       "      <th></th>\n",
       "      <th></th>\n",
       "      <th></th>\n",
       "      <th></th>\n",
       "      <th></th>\n",
       "      <th></th>\n",
       "      <th></th>\n",
       "      <th></th>\n",
       "      <th></th>\n",
       "      <th></th>\n",
       "      <th></th>\n",
       "    </tr>\n",
       "  </thead>\n",
       "  <tbody>\n",
       "    <tr>\n",
       "      <th>1000</th>\n",
       "      <td>0</td>\n",
       "      <td>0</td>\n",
       "      <td>0</td>\n",
       "      <td>0</td>\n",
       "      <td>1950</td>\n",
       "      <td>1950</td>\n",
       "      <td>1950</td>\n",
       "      <td>1950</td>\n",
       "      <td>1950</td>\n",
       "      <td>1950</td>\n",
       "      <td>1950</td>\n",
       "      <td>1950</td>\n",
       "    </tr>\n",
       "    <tr>\n",
       "      <th>1001</th>\n",
       "      <td>0</td>\n",
       "      <td>0</td>\n",
       "      <td>0</td>\n",
       "      <td>0</td>\n",
       "      <td>0</td>\n",
       "      <td>0</td>\n",
       "      <td>0</td>\n",
       "      <td>0</td>\n",
       "      <td>0</td>\n",
       "      <td>0</td>\n",
       "      <td>1150</td>\n",
       "      <td>550</td>\n",
       "    </tr>\n",
       "    <tr>\n",
       "      <th>1002</th>\n",
       "      <td>0</td>\n",
       "      <td>0</td>\n",
       "      <td>0</td>\n",
       "      <td>0</td>\n",
       "      <td>0</td>\n",
       "      <td>550</td>\n",
       "      <td>1150</td>\n",
       "      <td>1550</td>\n",
       "      <td>950</td>\n",
       "      <td>550</td>\n",
       "      <td>1350</td>\n",
       "      <td>1150</td>\n",
       "    </tr>\n",
       "    <tr>\n",
       "      <th>1003</th>\n",
       "      <td>0</td>\n",
       "      <td>0</td>\n",
       "      <td>0</td>\n",
       "      <td>0</td>\n",
       "      <td>0</td>\n",
       "      <td>0</td>\n",
       "      <td>0</td>\n",
       "      <td>1950</td>\n",
       "      <td>1950</td>\n",
       "      <td>1950</td>\n",
       "      <td>1950</td>\n",
       "      <td>1950</td>\n",
       "    </tr>\n",
       "    <tr>\n",
       "      <th>1004</th>\n",
       "      <td>0</td>\n",
       "      <td>0</td>\n",
       "      <td>0</td>\n",
       "      <td>0</td>\n",
       "      <td>1950</td>\n",
       "      <td>1950</td>\n",
       "      <td>1950</td>\n",
       "      <td>1950</td>\n",
       "      <td>1950</td>\n",
       "      <td>1950</td>\n",
       "      <td>1950</td>\n",
       "      <td>1950</td>\n",
       "    </tr>\n",
       "  </tbody>\n",
       "</table>\n",
       "</div>"
      ],
      "text/plain": [
       "month    1   2   3   4     5     6     7     8     9     10    11    12\n",
       "user_id                                                                \n",
       "1000      0   0   0   0  1950  1950  1950  1950  1950  1950  1950  1950\n",
       "1001      0   0   0   0     0     0     0     0     0     0  1150   550\n",
       "1002      0   0   0   0     0   550  1150  1550   950   550  1350  1150\n",
       "1003      0   0   0   0     0     0     0  1950  1950  1950  1950  1950\n",
       "1004      0   0   0   0  1950  1950  1950  1950  1950  1950  1950  1950"
      ]
     },
     "execution_count": 27,
     "metadata": {},
     "output_type": "execute_result"
    }
   ],
   "source": [
    "expenses.pivot_table(index='user_id', columns='month', values='expenses', fill_value=0).head()"
   ]
  },
  {
   "cell_type": "markdown",
   "id": "f075560e",
   "metadata": {},
   "source": [
    "### Cтатистический анализ данных"
   ]
  },
  {
   "cell_type": "markdown",
   "id": "ede19503",
   "metadata": {},
   "source": [
    "Сравним статистики для каждого тарифа (высчитаем среднее значение, дисперсию, стандартное отклонение), а также посмотрим на гистограммы значений."
   ]
  },
  {
   "cell_type": "markdown",
   "id": "52d8242f",
   "metadata": {},
   "source": [
    "#### Помесячная длительность вызовов"
   ]
  },
  {
   "cell_type": "code",
   "execution_count": 33,
   "id": "85ed4c77",
   "metadata": {},
   "outputs": [
    {
     "data": {
      "text/html": [
       "<div>\n",
       "<style scoped>\n",
       "    .dataframe tbody tr th:only-of-type {\n",
       "        vertical-align: middle;\n",
       "    }\n",
       "\n",
       "    .dataframe tbody tr th {\n",
       "        vertical-align: top;\n",
       "    }\n",
       "\n",
       "    .dataframe thead th {\n",
       "        text-align: right;\n",
       "    }\n",
       "</style>\n",
       "<table border=\"1\" class=\"dataframe\">\n",
       "  <thead>\n",
       "    <tr style=\"text-align: right;\">\n",
       "      <th></th>\n",
       "      <th>tariff</th>\n",
       "      <th>count</th>\n",
       "      <th>mean</th>\n",
       "      <th>max</th>\n",
       "      <th>variance</th>\n",
       "      <th>standard_deviation</th>\n",
       "      <th>μ-3σ</th>\n",
       "      <th>μ+3σ</th>\n",
       "      <th>minutes_included</th>\n",
       "    </tr>\n",
       "  </thead>\n",
       "  <tbody>\n",
       "    <tr>\n",
       "      <th>0</th>\n",
       "      <td>smart</td>\n",
       "      <td>2229</td>\n",
       "      <td>417.93</td>\n",
       "      <td>1435</td>\n",
       "      <td>36203.07</td>\n",
       "      <td>190.31</td>\n",
       "      <td>-153.01</td>\n",
       "      <td>988.88</td>\n",
       "      <td>500</td>\n",
       "    </tr>\n",
       "    <tr>\n",
       "      <th>1</th>\n",
       "      <td>ultra</td>\n",
       "      <td>985</td>\n",
       "      <td>526.62</td>\n",
       "      <td>1673</td>\n",
       "      <td>100771.22</td>\n",
       "      <td>317.61</td>\n",
       "      <td>-426.19</td>\n",
       "      <td>1479.44</td>\n",
       "      <td>3000</td>\n",
       "    </tr>\n",
       "  </tbody>\n",
       "</table>\n",
       "</div>"
      ],
      "text/plain": [
       "  tariff  count    mean   max   variance  standard_deviation    μ-3σ     μ+3σ  \\\n",
       "0  smart   2229  417.93  1435   36203.07              190.31 -153.01   988.88   \n",
       "1  ultra    985  526.62  1673  100771.22              317.61 -426.19  1479.44   \n",
       "\n",
       "   minutes_included  \n",
       "0               500  \n",
       "1              3000  "
      ]
     },
     "metadata": {},
     "output_type": "display_data"
    }
   ],
   "source": [
    "smart_calls_duration = expenses[expenses['tariff'] == 'smart']['calls_duration']\n",
    "ultra_calls_duration = expenses[expenses['tariff'] == 'ultra']['calls_duration']\n",
    "\n",
    "calls_duration = pd.DataFrame({\n",
    "    'tariff': ['smart', 'ultra'],\n",
    "    'count': [len(smart_calls_duration), len(ultra_calls_duration)], # размеры совокупностей\n",
    "    'mean': [smart_calls_duration.mean(), ultra_calls_duration.mean()], # средние значения\n",
    "    'max': [smart_calls_duration.max(), ultra_calls_duration.max()], # максимальные значения\n",
    "    'variance': [np.var(smart_calls_duration),  np.var(ultra_calls_duration)], # дисперсии\n",
    "    'standard_deviation': [np.std(smart_calls_duration, ddof=1), np.std(ultra_calls_duration, ddof=1)], # стандартные отклонения\n",
    "    'μ-3σ': [(smart_calls_duration.mean() - 3 * np.std(smart_calls_duration, ddof=1)), \n",
    "             (ultra_calls_duration.mean() - 3 * np.std(ultra_calls_duration, ddof=1))],\n",
    "    'μ+3σ': [(smart_calls_duration.mean() + 3 * np.std(smart_calls_duration, ddof=1)), \n",
    "             (ultra_calls_duration.mean() + 3 * np.std(ultra_calls_duration, ddof=1))],\n",
    "    'minutes_included': [500, 3000]\n",
    "})\n",
    "\n",
    "calls_duration = round(calls_duration,2)\n",
    "display(calls_duration)"
   ]
  },
  {
   "cell_type": "code",
   "execution_count": 34,
   "id": "de03f1c8",
   "metadata": {
    "scrolled": true
   },
   "outputs": [
    {
     "data": {
      "image/png": "[encoded data removed]",
      "text/plain": [
       "<Figure size 432x288 with 1 Axes>"
      ]
     },
     "metadata": {
      "needs_background": "light"
     },
     "output_type": "display_data"
    }
   ],
   "source": [
    "smart_calls_duration.plot(kind='hist', bins=50, grid=True,  title='Помесячная длительность вызовов на тарифе Smart');"
   ]
  },
  {
   "cell_type": "markdown",
   "id": "fa1e596c",
   "metadata": {},
   "source": [
    "Распределение длительнсти вызовов по месяцам пользоватеей тарифа Smart нормальное, пик от 400 до 500 минут.\n",
    "Посчитаем процент когда пользователи тарифа Smart превышали лимит по минутам:"
   ]
  },
  {
   "cell_type": "code",
   "execution_count": 35,
   "id": "764efa88",
   "metadata": {
    "scrolled": true
   },
   "outputs": [
    {
     "name": "stdout",
     "output_type": "stream",
     "text": [
      "В 34% случаях пользователи тарифа Smart превышали лимит бесплатных минут\n"
     ]
    }
   ],
   "source": [
    "print(f\"В {len(smart_calls_duration[smart_calls_duration > 500]) / len(smart_calls_duration):.0%} случаях пользователи тарифа Smart превышали лимит бесплатных минут\")"
   ]
  },
  {
   "cell_type": "code",
   "execution_count": 36,
   "id": "b8167399",
   "metadata": {
    "scrolled": true
   },
   "outputs": [
    {
     "data": {
      "image/png": "[encoded data removed]",
      "text/plain": [
       "<Figure size 432x288 with 1 Axes>"
      ]
     },
     "metadata": {
      "needs_background": "light"
     },
     "output_type": "display_data"
    }
   ],
   "source": [
    "ultra_calls_duration.plot(kind='hist', bins=50, grid=True, title='Помесячная длительность вызовов на тарифе Ultra');"
   ]
  },
  {
   "cell_type": "markdown",
   "id": "c687bb6d",
   "metadata": {},
   "source": [
    "Посчитаем процент пользователей тарифа Ultra, превысивших лимит бесплатных минут:"
   ]
  },
  {
   "cell_type": "code",
   "execution_count": 37,
   "id": "75b0eaf3",
   "metadata": {},
   "outputs": [
    {
     "name": "stdout",
     "output_type": "stream",
     "text": [
      "0.0%\n"
     ]
    }
   ],
   "source": [
    "print(f\"{len(ultra_calls_duration[ultra_calls_duration > 3000]) / len(smart_calls_duration):.1%}\")"
   ]
  },
  {
   "cell_type": "markdown",
   "id": "647c2d44",
   "metadata": {},
   "source": [
    "- В среднем пользователи тарифа Smart вписываются в лимит 500 минут в месяц, однако почти в 34% случаях лимит был превышен, что несомненно хорошо для Мегалайфа. \n",
    "- 99 процентов пользователей тарифа Ultra не выговаривают и половину от лимита, 100 процентам пользователей достаточно 3000 минут\n",
    "- Многие пользователи тарифа Ultra звонят очень мало"
   ]
  },
  {
   "cell_type": "markdown",
   "id": "4d20891f",
   "metadata": {},
   "source": [
    "#### Помесячное количество сообщений"
   ]
  },
  {
   "cell_type": "code",
   "execution_count": 38,
   "id": "be3062a7",
   "metadata": {
    "scrolled": true
   },
   "outputs": [
    {
     "data": {
      "text/html": [
       "<div>\n",
       "<style scoped>\n",
       "    .dataframe tbody tr th:only-of-type {\n",
       "        vertical-align: middle;\n",
       "    }\n",
       "\n",
       "    .dataframe tbody tr th {\n",
       "        vertical-align: top;\n",
       "    }\n",
       "\n",
       "    .dataframe thead th {\n",
       "        text-align: right;\n",
       "    }\n",
       "</style>\n",
       "<table border=\"1\" class=\"dataframe\">\n",
       "  <thead>\n",
       "    <tr style=\"text-align: right;\">\n",
       "      <th></th>\n",
       "      <th>tariff</th>\n",
       "      <th>count</th>\n",
       "      <th>mean</th>\n",
       "      <th>variance</th>\n",
       "      <th>standard_deviation</th>\n",
       "      <th>μ+3σ</th>\n",
       "      <th>messages_included</th>\n",
       "    </tr>\n",
       "  </thead>\n",
       "  <tbody>\n",
       "    <tr>\n",
       "      <th>0</th>\n",
       "      <td>smart</td>\n",
       "      <td>2229</td>\n",
       "      <td>33.38</td>\n",
       "      <td>796.46</td>\n",
       "      <td>28.23</td>\n",
       "      <td>118.07</td>\n",
       "      <td>50</td>\n",
       "    </tr>\n",
       "    <tr>\n",
       "      <th>1</th>\n",
       "      <td>ultra</td>\n",
       "      <td>985</td>\n",
       "      <td>49.36</td>\n",
       "      <td>2282.95</td>\n",
       "      <td>47.80</td>\n",
       "      <td>176.80</td>\n",
       "      <td>1000</td>\n",
       "    </tr>\n",
       "  </tbody>\n",
       "</table>\n",
       "</div>"
      ],
      "text/plain": [
       "  tariff  count   mean  variance  standard_deviation    μ+3σ  \\\n",
       "0  smart   2229  33.38    796.46               28.23  118.07   \n",
       "1  ultra    985  49.36   2282.95               47.80  176.80   \n",
       "\n",
       "   messages_included  \n",
       "0                 50  \n",
       "1               1000  "
      ]
     },
     "metadata": {},
     "output_type": "display_data"
    }
   ],
   "source": [
    "smart_message_count = expenses[expenses['tariff'] == 'smart']['messages']\n",
    "ultra_message_count = expenses[expenses['tariff'] == 'ultra']['messages']\n",
    "\n",
    "message_count = pd.DataFrame({\n",
    "    'tariff': ['smart', 'ultra'],\n",
    "    'count': [len(smart_message_count), len(ultra_message_count)],\n",
    "    'mean': [smart_message_count.mean(), ultra_message_count.mean()],\n",
    "    'variance': [np.var(smart_message_count),  np.var(ultra_message_count)],\n",
    "    'standard_deviation': [np.std(smart_message_count, ddof=1), np.std(ultra_message_count, ddof=1)],\n",
    "    'μ+3σ': [(smart_message_count.mean() + 3 * np.std(smart_message_count, ddof=1)), (smart_message_count.mean() + 3 * np.std(ultra_message_count, ddof=1))],\n",
    "    'messages_included': [50, 1000]\n",
    "})\n",
    "\n",
    "message_count = round(message_count,2)\n",
    "display(message_count)"
   ]
  },
  {
   "cell_type": "code",
   "execution_count": 39,
   "id": "5d5a8f80",
   "metadata": {
    "scrolled": false
   },
   "outputs": [
    {
     "data": {
      "image/png": "[encoded data removed]",
      "text/plain": [
       "<Figure size 432x288 with 1 Axes>"
      ]
     },
     "metadata": {
      "needs_background": "light"
     },
     "output_type": "display_data"
    }
   ],
   "source": [
    "smart_message_count.plot(kind='hist', bins=70, grid=True,  title='Помесячное количество сообщений на тарифе Smart');"
   ]
  },
  {
   "cell_type": "markdown",
   "id": "238a6af8",
   "metadata": {},
   "source": [
    "Посчитаем процент когда пользователи тарифа Smart превышали лимит по сообщениям:"
   ]
  },
  {
   "cell_type": "code",
   "execution_count": 40,
   "id": "40a008a2",
   "metadata": {},
   "outputs": [
    {
     "name": "stdout",
     "output_type": "stream",
     "text": [
      " В 25% случаях пользователи тарифа Smart превышали лимит бесплатных SMS-сообщений\n"
     ]
    }
   ],
   "source": [
    "print(f\" В {len(smart_message_count[smart_message_count > 50]) / len(smart_calls_duration):.0%} случаях пользователи тарифа Smart превышали лимит бесплатных SMS-сообщений\")"
   ]
  },
  {
   "cell_type": "code",
   "execution_count": 41,
   "id": "79e12630",
   "metadata": {
    "scrolled": true
   },
   "outputs": [
    {
     "data": {
      "image/png": "[encoded data removed]",
      "text/plain": [
       "<Figure size 432x288 with 1 Axes>"
      ]
     },
     "metadata": {
      "needs_background": "light"
     },
     "output_type": "display_data"
    }
   ],
   "source": [
    "ultra_message_count.plot(kind='hist', bins=70, grid=True,  title='Помесячное количество сообщений на тарифе Ultra');"
   ]
  },
  {
   "cell_type": "markdown",
   "id": "7eb39ae7",
   "metadata": {},
   "source": [
    "- В среднем пользователи тарифа Smart вписываются в лимит 50 сообщений в месяц, однако в 25% случаях лимит был превышен\n",
    "- 99 процентов пользователей тарифа Ultra отправляют не более 177 из доступных 200\n",
    "- Пользователей которые не отправляют SMS гораздо больше чем незвонящих пользователей, как в тарифе Smart так и в Ultra"
   ]
  },
  {
   "cell_type": "markdown",
   "id": "ed23e357",
   "metadata": {},
   "source": [
    "#### Помесячный интернет траффик"
   ]
  },
  {
   "cell_type": "code",
   "execution_count": 42,
   "id": "7b52fb60",
   "metadata": {},
   "outputs": [
    {
     "data": {
      "text/html": [
       "<div>\n",
       "<style scoped>\n",
       "    .dataframe tbody tr th:only-of-type {\n",
       "        vertical-align: middle;\n",
       "    }\n",
       "\n",
       "    .dataframe tbody tr th {\n",
       "        vertical-align: top;\n",
       "    }\n",
       "\n",
       "    .dataframe thead th {\n",
       "        text-align: right;\n",
       "    }\n",
       "</style>\n",
       "<table border=\"1\" class=\"dataframe\">\n",
       "  <thead>\n",
       "    <tr style=\"text-align: right;\">\n",
       "      <th></th>\n",
       "      <th>tariff</th>\n",
       "      <th>count</th>\n",
       "      <th>mean</th>\n",
       "      <th>variance</th>\n",
       "      <th>standard_deviation</th>\n",
       "      <th>μ+3σ</th>\n",
       "      <th>mb_per_month_included</th>\n",
       "    </tr>\n",
       "  </thead>\n",
       "  <tbody>\n",
       "    <tr>\n",
       "      <th>0</th>\n",
       "      <td>smart</td>\n",
       "      <td>2229</td>\n",
       "      <td>16720.74</td>\n",
       "      <td>3.461757e+07</td>\n",
       "      <td>5884.99</td>\n",
       "      <td>34375.71</td>\n",
       "      <td>15360</td>\n",
       "    </tr>\n",
       "    <tr>\n",
       "      <th>1</th>\n",
       "      <td>ultra</td>\n",
       "      <td>985</td>\n",
       "      <td>19962.28</td>\n",
       "      <td>1.017047e+08</td>\n",
       "      <td>10090.00</td>\n",
       "      <td>50232.27</td>\n",
       "      <td>30720</td>\n",
       "    </tr>\n",
       "  </tbody>\n",
       "</table>\n",
       "</div>"
      ],
      "text/plain": [
       "  tariff  count      mean      variance  standard_deviation      μ+3σ  \\\n",
       "0  smart   2229  16720.74  3.461757e+07             5884.99  34375.71   \n",
       "1  ultra    985  19962.28  1.017047e+08            10090.00  50232.27   \n",
       "\n",
       "   mb_per_month_included  \n",
       "0                  15360  \n",
       "1                  30720  "
      ]
     },
     "metadata": {},
     "output_type": "display_data"
    }
   ],
   "source": [
    "smart_mb_used = expenses[expenses['tariff'] == 'smart']['mb_used']\n",
    "ultra_mb_used = expenses[expenses['tariff'] == 'ultra']['mb_used']\n",
    "\n",
    "mb_count = pd.DataFrame({\n",
    "    'tariff': ['smart', 'ultra'],\n",
    "    'count': [len(smart_mb_used), len(ultra_mb_used)],\n",
    "    'mean': [smart_mb_used.mean(), ultra_mb_used.mean()],\n",
    "    'variance': [np.var(smart_mb_used),  np.var(ultra_mb_used)],\n",
    "    'standard_deviation': [np.std(smart_mb_used, ddof=1), np.std(ultra_mb_used, ddof=1)],\n",
    "    'μ+3σ': [(smart_mb_used.mean() + 3 * np.std(smart_mb_used, ddof=1)), (ultra_mb_used.mean() + 3 * np.std(ultra_mb_used, ddof=1))],\n",
    "    'mb_per_month_included': [15360, 30720]\n",
    "})\n",
    "mb_count = round(mb_count,2)\n",
    "display(mb_count)"
   ]
  },
  {
   "cell_type": "code",
   "execution_count": 43,
   "id": "aea6fc39",
   "metadata": {
    "scrolled": true
   },
   "outputs": [
    {
     "data": {
      "image/png": "[encoded data removed]",
      "text/plain": [
       "<Figure size 432x288 with 1 Axes>"
      ]
     },
     "metadata": {
      "needs_background": "light"
     },
     "output_type": "display_data"
    }
   ],
   "source": [
    "smart_mb_used.plot(kind='hist', bins=50, grid=True,  title='Помесячный интернет траффик на тарифе Smart');"
   ]
  },
  {
   "cell_type": "markdown",
   "id": "2d645e75",
   "metadata": {},
   "source": [
    "Распределение -  идеальный колокол. Видно что в большинстве случаев пользователям тарифа Smart не хвататет бесплатных гигабайт, посчитаем процент таких случаев:"
   ]
  },
  {
   "cell_type": "code",
   "execution_count": 44,
   "id": "a6264b07",
   "metadata": {},
   "outputs": [
    {
     "name": "stdout",
     "output_type": "stream",
     "text": [
      "В 59% случаях пользователи тарифа Smart превышали лимит бесплатного интернет траффика\n"
     ]
    }
   ],
   "source": [
    "print(f\"В {len(smart_mb_used[smart_mb_used > 15360]) / len(smart_mb_used):.0%} случаях пользователи тарифа Smart превышали лимит бесплатного интернет траффика\")"
   ]
  },
  {
   "cell_type": "code",
   "execution_count": 45,
   "id": "fcee6eca",
   "metadata": {
    "scrolled": true
   },
   "outputs": [
    {
     "data": {
      "image/png": "[encoded data removed]",
      "text/plain": [
       "<Figure size 432x288 with 1 Axes>"
      ]
     },
     "metadata": {
      "needs_background": "light"
     },
     "output_type": "display_data"
    }
   ],
   "source": [
    "ultra_mb_used.plot(kind='hist', bins=70, grid=True,  title='Помесячный интернет траффик на тарифе Ultra');"
   ]
  },
  {
   "cell_type": "markdown",
   "id": "68b5196d",
   "metadata": {},
   "source": [
    "Несколько лучше ситуация у пользователей тарифа Ultra, у которых доступно в два раза больше гигабайт:"
   ]
  },
  {
   "cell_type": "code",
   "execution_count": 46,
   "id": "f2da9b61",
   "metadata": {
    "scrolled": true
   },
   "outputs": [
    {
     "name": "stdout",
     "output_type": "stream",
     "text": [
      "В 14% случаях пользователи тарифа Ultra превышали лимит бесплатного интернет траффика\n"
     ]
    }
   ],
   "source": [
    "print(f\"В {len(ultra_mb_used[ultra_mb_used > 30720]) / len(ultra_mb_used):.0%} случаях пользователи тарифа Ultra превышали лимит бесплатного интернет траффика\")"
   ]
  },
  {
   "cell_type": "markdown",
   "id": "6ab38373",
   "metadata": {},
   "source": [
    "- Более чем половине пользователям тарифа Smart не хватает бесплатных гигабайт"
   ]
  },
  {
   "cell_type": "markdown",
   "id": "71aadd7b",
   "metadata": {},
   "source": [
    "**Подитог**\n",
    "\n",
    "В целях повышения конкурентноспособности можно дать оператору \"Мегалайф\" следующие рекомендации:\n",
    "- Существенно увеличить количество гигабайт, включенных в абонентскую плату на тарифе Smart\n",
    "- Рассмотреть целосообразность увеличения количества гигабайт, включенных в абонентскую плату на тарифе Ultra\n",
    "- Разработать новый тариф со средними условиями между Smart и Ultra\n",
    "\n",
    "Причины необходимости разработки нового тарифа:\n",
    "- Пользователям тарифа Smart не хватает:\n",
    "    - бесплатных минут в 33 процентах случаев\n",
    "    - бесплатных смс в 25 процентах случаев\n",
    "    - бесплатных гигабайт в 58 процентах случаев\n",
    "- Слишком  большая разница в стоимости тарифов Smart и Ultra может привести к уходу пользвателей тарифа Smart к  другим операторам."
   ]
  },
  {
   "cell_type": "markdown",
   "id": "9346182c",
   "metadata": {},
   "source": [
    "#### Предложения по условиям \"переходного\" тарифа"
   ]
  },
  {
   "cell_type": "code",
   "execution_count": 47,
   "id": "e7cdb8a0",
   "metadata": {
    "scrolled": true
   },
   "outputs": [
    {
     "data": {
      "text/html": [
       "<div>\n",
       "<style scoped>\n",
       "    .dataframe tbody tr th:only-of-type {\n",
       "        vertical-align: middle;\n",
       "    }\n",
       "\n",
       "    .dataframe tbody tr th {\n",
       "        vertical-align: top;\n",
       "    }\n",
       "\n",
       "    .dataframe thead th {\n",
       "        text-align: right;\n",
       "    }\n",
       "</style>\n",
       "<table border=\"1\" class=\"dataframe\">\n",
       "  <thead>\n",
       "    <tr style=\"text-align: right;\">\n",
       "      <th></th>\n",
       "      <th>calls_duration</th>\n",
       "      <th>messages</th>\n",
       "      <th>mb_used</th>\n",
       "      <th>expenses</th>\n",
       "    </tr>\n",
       "  </thead>\n",
       "  <tbody>\n",
       "    <tr>\n",
       "      <th>985</th>\n",
       "      <td>430</td>\n",
       "      <td>0</td>\n",
       "      <td>18432</td>\n",
       "      <td>1150.0</td>\n",
       "    </tr>\n",
       "    <tr>\n",
       "      <th>988</th>\n",
       "      <td>214</td>\n",
       "      <td>11</td>\n",
       "      <td>18432</td>\n",
       "      <td>1150.0</td>\n",
       "    </tr>\n",
       "    <tr>\n",
       "      <th>989</th>\n",
       "      <td>289</td>\n",
       "      <td>13</td>\n",
       "      <td>20480</td>\n",
       "      <td>1550.0</td>\n",
       "    </tr>\n",
       "    <tr>\n",
       "      <th>990</th>\n",
       "      <td>206</td>\n",
       "      <td>4</td>\n",
       "      <td>17408</td>\n",
       "      <td>950.0</td>\n",
       "    </tr>\n",
       "    <tr>\n",
       "      <th>992</th>\n",
       "      <td>243</td>\n",
       "      <td>16</td>\n",
       "      <td>19456</td>\n",
       "      <td>1350.0</td>\n",
       "    </tr>\n",
       "    <tr>\n",
       "      <th>...</th>\n",
       "      <td>...</td>\n",
       "      <td>...</td>\n",
       "      <td>...</td>\n",
       "      <td>...</td>\n",
       "    </tr>\n",
       "    <tr>\n",
       "      <th>3205</th>\n",
       "      <td>545</td>\n",
       "      <td>17</td>\n",
       "      <td>20480</td>\n",
       "      <td>1685.0</td>\n",
       "    </tr>\n",
       "    <tr>\n",
       "      <th>3209</th>\n",
       "      <td>247</td>\n",
       "      <td>42</td>\n",
       "      <td>21504</td>\n",
       "      <td>1750.0</td>\n",
       "    </tr>\n",
       "    <tr>\n",
       "      <th>3211</th>\n",
       "      <td>449</td>\n",
       "      <td>48</td>\n",
       "      <td>18432</td>\n",
       "      <td>1150.0</td>\n",
       "    </tr>\n",
       "    <tr>\n",
       "      <th>3212</th>\n",
       "      <td>612</td>\n",
       "      <td>59</td>\n",
       "      <td>18432</td>\n",
       "      <td>1513.0</td>\n",
       "    </tr>\n",
       "    <tr>\n",
       "      <th>3213</th>\n",
       "      <td>492</td>\n",
       "      <td>66</td>\n",
       "      <td>13312</td>\n",
       "      <td>598.0</td>\n",
       "    </tr>\n",
       "  </tbody>\n",
       "</table>\n",
       "<p>1191 rows × 4 columns</p>\n",
       "</div>"
      ],
      "text/plain": [
       "      calls_duration  messages  mb_used  expenses\n",
       "985              430         0    18432    1150.0\n",
       "988              214        11    18432    1150.0\n",
       "989              289        13    20480    1550.0\n",
       "990              206         4    17408     950.0\n",
       "992              243        16    19456    1350.0\n",
       "...              ...       ...      ...       ...\n",
       "3205             545        17    20480    1685.0\n",
       "3209             247        42    21504    1750.0\n",
       "3211             449        48    18432    1150.0\n",
       "3212             612        59    18432    1513.0\n",
       "3213             492        66    13312     598.0\n",
       "\n",
       "[1191 rows x 4 columns]"
      ]
     },
     "execution_count": 47,
     "metadata": {},
     "output_type": "execute_result"
    }
   ],
   "source": [
    "new_tariff = expenses[(expenses['tariff'] == 'smart') & (expenses['expenses'] > 550) & (expenses['expenses'] < 1950)]\\\n",
    "            [['calls_duration', 'messages', 'mb_used', 'expenses']]\n",
    "new_tariff"
   ]
  },
  {
   "cell_type": "code",
   "execution_count": 48,
   "id": "e86a12f7",
   "metadata": {
    "scrolled": true
   },
   "outputs": [
    {
     "name": "stdout",
     "output_type": "stream",
     "text": [
      "939.0465116875879\n",
      "125.71175362909597\n",
      "26.0\n"
     ]
    }
   ],
   "source": [
    "minutes_3_sigm = (new_tariff['calls_duration'].mean() + 3 * np.std(new_tariff['calls_duration'], ddof=1))\n",
    "print(minutes_3_sigm)\n",
    "\n",
    "messages_3_sigm = (new_tariff['messages'].mean() + 3 * np.std(new_tariff['messages'], ddof=1))\n",
    "print(messages_3_sigm)\n",
    "\n",
    "mb_3_sigm = (new_tariff['mb_used'].mean() + 3 * np.std(new_tariff['mb_used'], ddof=1))\n",
    "print((mb_3_sigm // 1024 +1))"
   ]
  },
  {
   "cell_type": "markdown",
   "id": "5c98256f",
   "metadata": {},
   "source": [
    "99% процентам пользователей тарифа Smart подойдут следующие условия:\n",
    "- 940 бесплатных минут\n",
    "- 126 бесплатных SMS\n",
    "- 26 гигабайт бесплатного интернета"
   ]
  },
  {
   "cell_type": "markdown",
   "id": "052569c7",
   "metadata": {},
   "source": [
    "Попробуем посчитать стоимость данного тарифа\n",
    "\n",
    "Посчитаем общую выручку события, при котором пользователи Smart тратили на мобильную связь от 550 до 1950 рублей, затем поделим на количество исходов, попавших в такое событие"
   ]
  },
  {
   "cell_type": "code",
   "execution_count": 49,
   "id": "4a9797a3",
   "metadata": {
    "scrolled": true
   },
   "outputs": [
    {
     "data": {
      "text/plain": [
       "1135.9353484466835"
      ]
     },
     "execution_count": 49,
     "metadata": {},
     "output_type": "execute_result"
    }
   ],
   "source": [
    "new_tariff['expenses'].sum() / len(new_tariff)"
   ]
  },
  {
   "cell_type": "markdown",
   "id": "096f99d6",
   "metadata": {},
   "source": [
    "Для компании важно сохранить прибыль, поэтому дадим рекмендации по условиям нового тарифа:\n",
    "- Абонентская плата 1150 рублей\n",
    "- 900 бесплатных минут\n",
    "- 100 бесплатных SMS\n",
    "- 25 гигабайт бесплатного интернета"
   ]
  },
  {
   "cell_type": "markdown",
   "id": "249ade6c",
   "metadata": {},
   "source": [
    "### Проверка статистических гипотез"
   ]
  },
  {
   "cell_type": "markdown",
   "id": "1dde17d9",
   "metadata": {},
   "source": [
    "#### Сравнение средней выручки пользователей тарифов «Ультра» и «Смарт»."
   ]
  },
  {
   "cell_type": "code",
   "execution_count": 50,
   "id": "b1c3d635",
   "metadata": {},
   "outputs": [],
   "source": [
    "smart_exp = expenses[expenses['tariff'] == 'smart']['expenses'] # Срез выручки пользователей Smart\n",
    "ultra_exp = expenses[expenses['tariff'] == 'ultra']['expenses'] # Срез выручки пользователей Ultra"
   ]
  },
  {
   "cell_type": "markdown",
   "id": "029c7a55",
   "metadata": {},
   "source": [
    "Посмотрим статистики срезов:"
   ]
  },
  {
   "cell_type": "code",
   "execution_count": 51,
   "id": "b2dbbebd",
   "metadata": {},
   "outputs": [
    {
     "data": {
      "text/html": [
       "<div>\n",
       "<style scoped>\n",
       "    .dataframe tbody tr th:only-of-type {\n",
       "        vertical-align: middle;\n",
       "    }\n",
       "\n",
       "    .dataframe tbody tr th {\n",
       "        vertical-align: top;\n",
       "    }\n",
       "\n",
       "    .dataframe thead th {\n",
       "        text-align: right;\n",
       "    }\n",
       "</style>\n",
       "<table border=\"1\" class=\"dataframe\">\n",
       "  <thead>\n",
       "    <tr style=\"text-align: right;\">\n",
       "      <th></th>\n",
       "      <th>tariff</th>\n",
       "      <th>count</th>\n",
       "      <th>mean</th>\n",
       "      <th>variance</th>\n",
       "      <th>standard_deviation</th>\n",
       "      <th>μ+3σ</th>\n",
       "      <th>month_fee</th>\n",
       "    </tr>\n",
       "  </thead>\n",
       "  <tbody>\n",
       "    <tr>\n",
       "      <th>0</th>\n",
       "      <td>smart</td>\n",
       "      <td>2229</td>\n",
       "      <td>1289.973531</td>\n",
       "      <td>669485.220923</td>\n",
       "      <td>818.404367</td>\n",
       "      <td>3745.186632</td>\n",
       "      <td>550</td>\n",
       "    </tr>\n",
       "    <tr>\n",
       "      <th>1</th>\n",
       "      <td>ultra</td>\n",
       "      <td>985</td>\n",
       "      <td>2070.152284</td>\n",
       "      <td>141373.073256</td>\n",
       "      <td>376.187114</td>\n",
       "      <td>3198.713628</td>\n",
       "      <td>1950</td>\n",
       "    </tr>\n",
       "  </tbody>\n",
       "</table>\n",
       "</div>"
      ],
      "text/plain": [
       "  tariff  count         mean       variance  standard_deviation         μ+3σ  \\\n",
       "0  smart   2229  1289.973531  669485.220923          818.404367  3745.186632   \n",
       "1  ultra    985  2070.152284  141373.073256          376.187114  3198.713628   \n",
       "\n",
       "   month_fee  \n",
       "0        550  \n",
       "1       1950  "
      ]
     },
     "metadata": {},
     "output_type": "display_data"
    }
   ],
   "source": [
    "exp = pd.DataFrame({\n",
    "    'tariff': ['smart', 'ultra'],\n",
    "    'count': [len(smart_exp), len(ultra_exp)],\n",
    "    'mean': [smart_exp.mean(), ultra_exp.mean()],\n",
    "    'variance': [np.var(smart_exp),  np.var(ultra_exp)],\n",
    "    'standard_deviation': [np.std(smart_exp, ddof=1), np.std(ultra_exp, ddof=1)],\n",
    "    'μ+3σ': [(smart_exp.mean() + 3 * np.std(smart_exp, ddof=1)), (ultra_exp.mean() + 3 * np.std(ultra_exp, ddof=1))],\n",
    "    'month_fee': [550, 1950]\n",
    "})\n",
    "\n",
    "display(exp)"
   ]
  },
  {
   "cell_type": "markdown",
   "id": "148210ed",
   "metadata": {},
   "source": [
    "Проверим следующую нулевую гипотезу:\n",
    "**H₀: cредние выручки пользователей тарифов «Ультра» и «Смарт» равны**\n",
    "\n",
    "Альтернативная гипотеза будет звучать следующим образом:\n",
    "**H₁: cредние выручки пользователей тарифов «Ультра» и «Смарт» различны**"
   ]
  },
  {
   "cell_type": "code",
   "execution_count": 52,
   "id": "a571fad7",
   "metadata": {},
   "outputs": [
    {
     "name": "stdout",
     "output_type": "stream",
     "text": [
      "p-значение: 4.2606313931076085e-250\n",
      "Отвергаем нулевую гипотезу\n"
     ]
    }
   ],
   "source": [
    "alpha = .05 # критический уровень статистической значимости\n",
    "\n",
    "results = st.ttest_ind(\n",
    "    smart_exp, \n",
    "    ultra_exp,\n",
    "    equal_var = False) # так как дисперсии отличаются в параметре `equal_var` установим `False`\n",
    "\n",
    "print('p-значение:', results.pvalue)\n",
    "\n",
    "if results.pvalue < alpha:              \n",
    "    print(\"Отвергаем нулевую гипотезу\") \n",
    "else:\n",
    "    print(\"Не получилось отвергнуть нулевую гипотезу\") "
   ]
  },
  {
   "cell_type": "markdown",
   "id": "69f0a1c5",
   "metadata": {},
   "source": [
    "По всей видимости средняя выручка пользователей тарифов «Ультра» и «Смарт» различаются"
   ]
  },
  {
   "cell_type": "markdown",
   "id": "e40d9c01",
   "metadata": {},
   "source": [
    "#### Сравнение средней выручки пользователей из Москвы и из других регионов."
   ]
  },
  {
   "cell_type": "code",
   "execution_count": 53,
   "id": "2364c829",
   "metadata": {},
   "outputs": [],
   "source": [
    "moscow_exp = smart_exp = expenses[expenses['city'] == 'Москва']['expenses']\n",
    "other_exp = smart_exp = expenses[expenses['city'] != 'Москва']['expenses']"
   ]
  },
  {
   "cell_type": "markdown",
   "id": "7359a99b",
   "metadata": {},
   "source": [
    "Статистики срезов:"
   ]
  },
  {
   "cell_type": "code",
   "execution_count": 54,
   "id": "ab3fc77c",
   "metadata": {},
   "outputs": [
    {
     "data": {
      "text/html": [
       "<div>\n",
       "<style scoped>\n",
       "    .dataframe tbody tr th:only-of-type {\n",
       "        vertical-align: middle;\n",
       "    }\n",
       "\n",
       "    .dataframe tbody tr th {\n",
       "        vertical-align: top;\n",
       "    }\n",
       "\n",
       "    .dataframe thead th {\n",
       "        text-align: right;\n",
       "    }\n",
       "</style>\n",
       "<table border=\"1\" class=\"dataframe\">\n",
       "  <thead>\n",
       "    <tr style=\"text-align: right;\">\n",
       "      <th></th>\n",
       "      <th>city</th>\n",
       "      <th>count</th>\n",
       "      <th>mean</th>\n",
       "      <th>variance</th>\n",
       "      <th>standard_deviation</th>\n",
       "      <th>μ+3σ</th>\n",
       "    </tr>\n",
       "  </thead>\n",
       "  <tbody>\n",
       "    <tr>\n",
       "      <th>0</th>\n",
       "      <td>Москва</td>\n",
       "      <td>611</td>\n",
       "      <td>1546.713584</td>\n",
       "      <td>564710.711747</td>\n",
       "      <td>752.088071</td>\n",
       "      <td>3802.977798</td>\n",
       "    </tr>\n",
       "    <tr>\n",
       "      <th>1</th>\n",
       "      <td>остальные города</td>\n",
       "      <td>2603</td>\n",
       "      <td>1524.936227</td>\n",
       "      <td>653886.327089</td>\n",
       "      <td>808.787752</td>\n",
       "      <td>3951.299485</td>\n",
       "    </tr>\n",
       "  </tbody>\n",
       "</table>\n",
       "</div>"
      ],
      "text/plain": [
       "               city  count         mean       variance  standard_deviation  \\\n",
       "0            Москва    611  1546.713584  564710.711747          752.088071   \n",
       "1  остальные города   2603  1524.936227  653886.327089          808.787752   \n",
       "\n",
       "          μ+3σ  \n",
       "0  3802.977798  \n",
       "1  3951.299485  "
      ]
     },
     "metadata": {},
     "output_type": "display_data"
    }
   ],
   "source": [
    "exp = pd.DataFrame({\n",
    "    'city': ['Москва', 'остальные города'],\n",
    "    'count': [len(moscow_exp), len(other_exp)],\n",
    "    'mean': [moscow_exp.mean(), other_exp.mean()],\n",
    "    'variance': [np.var(moscow_exp),  np.var(other_exp)],\n",
    "    'standard_deviation': [np.std(moscow_exp, ddof=1), np.std(other_exp, ddof=1)],\n",
    "    'μ+3σ': [(moscow_exp.mean() + 3 * np.std(moscow_exp, ddof=1)), (other_exp.mean() + 3 * np.std(other_exp, ddof=1))],\n",
    "\n",
    "})\n",
    "\n",
    "display(exp)"
   ]
  },
  {
   "cell_type": "markdown",
   "id": "22c7fd7c",
   "metadata": {},
   "source": [
    "Проверим следующую нулевую гипотезу:\n",
    "**H₀: выручка пользователей из Москвы равна выручке пользователей из других регионов**\n",
    "Альтернативная гипотеза будет звучать следующим образом:\n",
    "**H₁: выручка пользователей из Москвы отличается от выручки пользователей из других регионов**"
   ]
  },
  {
   "cell_type": "code",
   "execution_count": 55,
   "id": "c08f9539",
   "metadata": {},
   "outputs": [
    {
     "name": "stdout",
     "output_type": "stream",
     "text": [
      "p-значение: 0.5440152911670224\n",
      "Не получилось отвергнуть нулевую гипотезу\n"
     ]
    }
   ],
   "source": [
    "alpha = .01 # критический уровень статистической значимости\n",
    "\n",
    "results = st.ttest_ind(\n",
    "    moscow_exp, \n",
    "    other_exp,\n",
    "    equal_var = True) # совокупности очень похожи, поэтому в параметре `equal_var` установим `True` или можно не указывать его\n",
    "\n",
    "print('p-значение:', results.pvalue)\n",
    "\n",
    "if results.pvalue < alpha:              \n",
    "    print(\"Отвергаем нулевую гипотезу\") \n",
    "else:\n",
    "    print(\"Не получилось отвергнуть нулевую гипотезу\") "
   ]
  },
  {
   "cell_type": "markdown",
   "id": "8509d08b",
   "metadata": {},
   "source": [
    "Средние выручки москвичей и пользователей из других городов схожи."
   ]
  },
  {
   "cell_type": "markdown",
   "id": "1e59f771",
   "metadata": {},
   "source": [
    "### Какой тариф приносит больше денег?"
   ]
  },
  {
   "cell_type": "code",
   "execution_count": 56,
   "id": "f53a5051",
   "metadata": {
    "scrolled": false
   },
   "outputs": [
    {
     "data": {
      "text/plain": [
       "count    2603.000000\n",
       "mean     1524.936227\n",
       "std       808.787752\n",
       "min       550.000000\n",
       "25%       750.000000\n",
       "50%      1583.000000\n",
       "75%      1950.000000\n",
       "max      6770.000000\n",
       "Name: expenses, dtype: float64"
      ]
     },
     "execution_count": 56,
     "metadata": {},
     "output_type": "execute_result"
    }
   ],
   "source": [
    "smart_exp.describe()"
   ]
  },
  {
   "cell_type": "code",
   "execution_count": 57,
   "id": "08813af2",
   "metadata": {},
   "outputs": [
    {
     "data": {
      "image/png": "[encoded data removed]",
      "text/plain": [
       "<Figure size 1008x288 with 1 Axes>"
      ]
     },
     "metadata": {
      "needs_background": "light"
     },
     "output_type": "display_data"
    }
   ],
   "source": [
    "smart_exp.hist(bins=100, figsize=(14, 4));"
   ]
  },
  {
   "cell_type": "code",
   "execution_count": 58,
   "id": "138186c4",
   "metadata": {
    "scrolled": false
   },
   "outputs": [
    {
     "data": {
      "text/plain": [
       "count     985.000000\n",
       "mean     2070.152284\n",
       "std       376.187114\n",
       "min      1950.000000\n",
       "25%      1950.000000\n",
       "50%      1950.000000\n",
       "75%      1950.000000\n",
       "max      4800.000000\n",
       "Name: expenses, dtype: float64"
      ]
     },
     "execution_count": 58,
     "metadata": {},
     "output_type": "execute_result"
    }
   ],
   "source": [
    "ultra_exp.describe()"
   ]
  },
  {
   "cell_type": "code",
   "execution_count": 59,
   "id": "25c3725b",
   "metadata": {},
   "outputs": [
    {
     "data": {
      "image/png": "[encoded data removed]",
      "text/plain": [
       "<Figure size 1008x288 with 1 Axes>"
      ]
     },
     "metadata": {
      "needs_background": "light"
     },
     "output_type": "display_data"
    }
   ],
   "source": [
    "ultra_exp.hist(bins=100, figsize=(14, 4));"
   ]
  },
  {
   "cell_type": "markdown",
   "id": "7c036cb4",
   "metadata": {},
   "source": [
    "- Судя по гистограмме доходов по тарифу Smart в нашей выборке, в более 700 случаях из 2603 пользователи Smart платили за связь чуть меньше 2000 рублей\n",
    "- В следствии этого, не смотря на то, что в базе тариф Smart дешевле тарифа Ultra почти в 4 раза, средние и медианные выручки по двум тарифам отличается не столь сильно.\n",
    "- Средняя выручка пользователя тарифа Ultra больше медианной, в отличии от средней выручки тарифа Smart. Значит что тарифом Ultra пользуются в том числе люди склонные тратить на мобильную связь больше медианной выручки.\n",
    "\n",
    "\n",
    "Учитывая все это, **можно дать рекомендацию сделать основной акцент в рекламной компании из двух тарифов сделать на тарифе Ultra**. **Тариф Ultra лучше** как для компании, потому что приносит больше прибыли, так и для многих пользователей"
   ]
  },
  {
   "cell_type": "markdown",
   "id": "7696e32b",
   "metadata": {},
   "source": [
    "## Общий вывод"
   ]
  },
  {
   "cell_type": "markdown",
   "id": "63fb0270",
   "metadata": {},
   "source": [
    "В данной проектной работе мы исследовали данные 500 пользователей оператора сотовой связи «Мегалайн».\n",
    "\n",
    "Получив исходные данные обработали их с помощью различных методов и функций:\n",
    "- изменили типы данных\n",
    "- удалили лишний столбец\n",
    "- проверили данные на ошибки\n",
    "- округляли значения согласно тарифным планам и другое\n",
    "\n",
    "В ходе исследования выявили что:\n",
    "- пользователи тарифа Ultra пользуются услугами мобильной связи в большем объеме чем пользователи тарифа Smart.\n",
    "- В более чем 700 случаев из 2603 пользователи Smart платили за связь чуть меньше 2000 рублей, в таком случае выгодно выгодно перейти на тариф Ultra\n",
    "- в среднем пользователи тарифа Smart укладываются в лимиты бесплатных пакетов минут и сообщений плату.\n",
    "- у пользователей тарифа Ultra на конец месяца остается огромный запас бесплатных пакетов минут и сообщений.\n",
    "- обоим группам пользователей в среднем не хватает бесплатного пакета мобильного интернета\n",
    "- средняя выручка пользователей разынх тарифных планов отличается.\n",
    "- нет отличий в выручке пользователей из Москвы и других городов.\n",
    "- **Тариф Ultra лучше** как для компании, потому что приносит больше прибыли, так и для многих пользователей \n",
    "\n",
    "По итогам проектной работы даны следующие рекомендации:\n",
    "\n",
    "- в ходе рекламной компании сделать акцент на рекламу тарифа Ultra.\n",
    "- необходимо разработать новый тариф со средними условиями между Smart и Ultra."
   ]
  }
 ],
 "metadata": {
  "ExecuteTimeLog": [
   {
    "duration": 804,
    "start_time": "2022-05-27T22:02:19.497Z"
   },
   {
    "duration": 396,
    "start_time": "2022-05-27T22:02:20.303Z"
   },
   {
    "duration": 3,
    "start_time": "2022-05-27T22:02:20.701Z"
   },
   {
    "duration": 55,
    "start_time": "2022-05-27T22:02:20.706Z"
   },
   {
    "duration": 26,
    "start_time": "2022-05-27T22:02:20.762Z"
   },
   {
    "duration": 169,
    "start_time": "2022-05-27T22:02:20.790Z"
   },
   {
    "duration": 33,
    "start_time": "2022-05-27T22:02:20.961Z"
   },
   {
    "duration": 91,
    "start_time": "2022-05-27T22:02:20.996Z"
   },
   {
    "duration": 17,
    "start_time": "2022-05-27T22:02:21.089Z"
   },
   {
    "duration": 132,
    "start_time": "2022-05-27T22:02:21.109Z"
   },
   {
    "duration": 25,
    "start_time": "2022-05-27T22:02:21.243Z"
   },
   {
    "duration": 19,
    "start_time": "2022-05-27T22:02:21.270Z"
   },
   {
    "duration": 20,
    "start_time": "2022-05-27T22:02:21.290Z"
   },
   {
    "duration": 467,
    "start_time": "2022-05-27T22:02:21.311Z"
   },
   {
    "duration": 334,
    "start_time": "2022-05-27T22:02:21.779Z"
   },
   {
    "duration": 14,
    "start_time": "2022-05-27T22:02:22.115Z"
   },
   {
    "duration": 25,
    "start_time": "2022-05-27T22:02:22.130Z"
   },
   {
    "duration": 97,
    "start_time": "2022-05-27T22:02:22.157Z"
   },
   {
    "duration": 80,
    "start_time": "2022-05-27T22:02:22.256Z"
   },
   {
    "duration": 53,
    "start_time": "2022-05-27T22:02:22.338Z"
   },
   {
    "duration": 60,
    "start_time": "2022-05-27T22:02:22.392Z"
   },
   {
    "duration": 47,
    "start_time": "2022-05-27T22:02:22.453Z"
   },
   {
    "duration": 69,
    "start_time": "2022-05-27T22:02:22.502Z"
   },
   {
    "duration": 24,
    "start_time": "2022-05-27T22:02:22.572Z"
   },
   {
    "duration": 117,
    "start_time": "2022-05-27T22:02:22.597Z"
   },
   {
    "duration": 30,
    "start_time": "2022-05-27T22:02:22.715Z"
   },
   {
    "duration": 15,
    "start_time": "2022-05-27T22:02:22.746Z"
   },
   {
    "duration": 199,
    "start_time": "2022-05-27T22:02:22.763Z"
   },
   {
    "duration": 4,
    "start_time": "2022-05-27T22:02:22.964Z"
   },
   {
    "duration": 185,
    "start_time": "2022-05-27T22:02:22.970Z"
   },
   {
    "duration": 14,
    "start_time": "2022-05-27T22:02:23.157Z"
   },
   {
    "duration": 209,
    "start_time": "2022-05-27T22:02:23.173Z"
   },
   {
    "duration": 5,
    "start_time": "2022-05-27T22:02:23.383Z"
   },
   {
    "duration": 193,
    "start_time": "2022-05-27T22:02:23.389Z"
   },
   {
    "duration": 16,
    "start_time": "2022-05-27T22:02:23.584Z"
   },
   {
    "duration": 200,
    "start_time": "2022-05-27T22:02:23.602Z"
   },
   {
    "duration": 4,
    "start_time": "2022-05-27T22:02:23.804Z"
   },
   {
    "duration": 266,
    "start_time": "2022-05-27T22:02:23.809Z"
   },
   {
    "duration": 5,
    "start_time": "2022-05-27T22:02:24.077Z"
   },
   {
    "duration": 12,
    "start_time": "2022-05-27T22:02:24.083Z"
   },
   {
    "duration": 7,
    "start_time": "2022-05-27T22:02:24.096Z"
   },
   {
    "duration": 23,
    "start_time": "2022-05-27T22:02:24.105Z"
   },
   {
    "duration": 12,
    "start_time": "2022-05-27T22:02:24.130Z"
   },
   {
    "duration": 4,
    "start_time": "2022-05-27T22:02:24.144Z"
   },
   {
    "duration": 7,
    "start_time": "2022-05-27T22:02:24.149Z"
   },
   {
    "duration": 15,
    "start_time": "2022-05-27T22:02:24.157Z"
   },
   {
    "duration": 4,
    "start_time": "2022-05-27T22:02:24.174Z"
   },
   {
    "duration": 14,
    "start_time": "2022-05-27T22:02:24.179Z"
   },
   {
    "duration": 13,
    "start_time": "2022-05-27T22:02:24.194Z"
   },
   {
    "duration": 1047,
    "start_time": "2022-05-28T10:53:02.804Z"
   },
   {
    "duration": 399,
    "start_time": "2022-05-28T10:53:23.836Z"
   },
   {
    "duration": 5,
    "start_time": "2022-05-28T10:53:44.141Z"
   },
   {
    "duration": 3,
    "start_time": "2022-05-28T10:53:46.756Z"
   },
   {
    "duration": 441,
    "start_time": "2022-05-28T10:53:47.233Z"
   },
   {
    "duration": 2,
    "start_time": "2022-05-28T10:53:50.228Z"
   },
   {
    "duration": 38,
    "start_time": "2022-05-28T11:03:14.239Z"
   },
   {
    "duration": 27,
    "start_time": "2022-05-28T11:08:09.646Z"
   },
   {
    "duration": 12,
    "start_time": "2022-05-28T11:09:41.428Z"
   },
   {
    "duration": 50,
    "start_time": "2022-05-28T11:10:55.994Z"
   },
   {
    "duration": 7,
    "start_time": "2022-05-28T11:11:01.042Z"
   },
   {
    "duration": 8,
    "start_time": "2022-05-28T11:11:08.672Z"
   },
   {
    "duration": 163,
    "start_time": "2022-05-28T11:18:27.389Z"
   },
   {
    "duration": 32,
    "start_time": "2022-05-28T11:18:39.918Z"
   },
   {
    "duration": 76,
    "start_time": "2022-05-28T11:21:04.152Z"
   },
   {
    "duration": 18,
    "start_time": "2022-05-28T11:21:17.089Z"
   },
   {
    "duration": 113,
    "start_time": "2022-05-28T11:21:30.303Z"
   },
   {
    "duration": 27,
    "start_time": "2022-05-28T11:21:43.919Z"
   },
   {
    "duration": 20,
    "start_time": "2022-05-28T11:21:47.284Z"
   },
   {
    "duration": 3,
    "start_time": "2022-05-28T11:21:58.954Z"
   },
   {
    "duration": 886,
    "start_time": "2022-05-28T11:24:23.311Z"
   },
   {
    "duration": 325,
    "start_time": "2022-05-28T11:24:34.407Z"
   },
   {
    "duration": 9,
    "start_time": "2022-05-28T11:24:39.015Z"
   },
   {
    "duration": 28,
    "start_time": "2022-05-28T11:24:59.903Z"
   },
   {
    "duration": 100,
    "start_time": "2022-05-28T11:28:53.462Z"
   },
   {
    "duration": 76,
    "start_time": "2022-05-28T11:31:15.127Z"
   },
   {
    "duration": 6,
    "start_time": "2022-05-28T11:31:42.653Z"
   },
   {
    "duration": 49,
    "start_time": "2022-05-28T11:33:55.048Z"
   },
   {
    "duration": 7,
    "start_time": "2022-05-28T11:34:05.561Z"
   },
   {
    "duration": 53,
    "start_time": "2022-05-28T11:34:36.843Z"
   },
   {
    "duration": 106,
    "start_time": "2022-05-28T11:36:49.571Z"
   },
   {
    "duration": 75,
    "start_time": "2022-05-28T11:37:12.651Z"
   },
   {
    "duration": 52,
    "start_time": "2022-05-28T11:37:15.943Z"
   },
   {
    "duration": 51,
    "start_time": "2022-05-28T11:37:23.786Z"
   },
   {
    "duration": 11,
    "start_time": "2022-05-28T11:37:26.022Z"
   },
   {
    "duration": 58,
    "start_time": "2022-05-28T11:37:49.047Z"
   },
   {
    "duration": 46,
    "start_time": "2022-05-28T11:37:51.685Z"
   },
   {
    "duration": 65,
    "start_time": "2022-05-28T11:37:59.471Z"
   },
   {
    "duration": 25,
    "start_time": "2022-05-28T11:38:46.468Z"
   },
   {
    "duration": 133,
    "start_time": "2022-05-28T11:41:37.111Z"
   },
   {
    "duration": 33,
    "start_time": "2022-05-28T11:44:32.314Z"
   },
   {
    "duration": 18,
    "start_time": "2022-05-28T11:46:10.707Z"
   },
   {
    "duration": 17,
    "start_time": "2022-05-28T11:47:49.449Z"
   },
   {
    "duration": 184,
    "start_time": "2022-05-28T11:49:24.747Z"
   },
   {
    "duration": 5,
    "start_time": "2022-05-28T11:49:50.338Z"
   },
   {
    "duration": 213,
    "start_time": "2022-05-28T11:51:42.830Z"
   },
   {
    "duration": 203,
    "start_time": "2022-05-28T11:52:15.432Z"
   },
   {
    "duration": 17,
    "start_time": "2022-05-28T11:54:46.846Z"
   },
   {
    "duration": 210,
    "start_time": "2022-05-28T11:54:50.307Z"
   },
   {
    "duration": 6,
    "start_time": "2022-05-28T11:54:54.234Z"
   },
   {
    "duration": 179,
    "start_time": "2022-05-28T11:55:15.365Z"
   },
   {
    "duration": 16,
    "start_time": "2022-05-28T11:56:59.288Z"
   },
   {
    "duration": 202,
    "start_time": "2022-05-28T11:57:00.978Z"
   },
   {
    "duration": 7,
    "start_time": "2022-05-28T11:57:03.000Z"
   },
   {
    "duration": 289,
    "start_time": "2022-05-28T11:57:04.132Z"
   },
   {
    "duration": 6,
    "start_time": "2022-05-28T11:57:06.270Z"
   },
   {
    "duration": 11,
    "start_time": "2022-05-28T12:00:24.142Z"
   },
   {
    "duration": 7,
    "start_time": "2022-05-28T12:00:44.911Z"
   },
   {
    "duration": 7,
    "start_time": "2022-05-28T12:05:01.347Z"
   },
   {
    "duration": 21,
    "start_time": "2022-05-28T12:05:05.801Z"
   },
   {
    "duration": 5,
    "start_time": "2022-05-28T12:09:23.635Z"
   },
   {
    "duration": 6,
    "start_time": "2022-05-28T12:09:55.528Z"
   },
   {
    "duration": 13,
    "start_time": "2022-05-28T12:09:58.162Z"
   },
   {
    "duration": 5,
    "start_time": "2022-05-28T12:10:25.684Z"
   },
   {
    "duration": 9,
    "start_time": "2022-05-28T12:11:40.022Z"
   },
   {
    "duration": 8,
    "start_time": "2022-05-28T12:11:43.469Z"
   },
   {
    "duration": 770,
    "start_time": "2022-05-28T12:27:36.000Z"
   },
   {
    "duration": 440,
    "start_time": "2022-05-28T12:27:36.772Z"
   },
   {
    "duration": 4,
    "start_time": "2022-05-28T12:27:37.214Z"
   },
   {
    "duration": 67,
    "start_time": "2022-05-28T12:27:37.220Z"
   },
   {
    "duration": 34,
    "start_time": "2022-05-28T12:27:37.290Z"
   },
   {
    "duration": 41,
    "start_time": "2022-05-28T12:27:37.326Z"
   },
   {
    "duration": 179,
    "start_time": "2022-05-28T12:27:37.368Z"
   },
   {
    "duration": 32,
    "start_time": "2022-05-28T12:27:37.549Z"
   },
   {
    "duration": 93,
    "start_time": "2022-05-28T12:27:37.583Z"
   },
   {
    "duration": 19,
    "start_time": "2022-05-28T12:27:37.679Z"
   },
   {
    "duration": 142,
    "start_time": "2022-05-28T12:27:37.700Z"
   },
   {
    "duration": 43,
    "start_time": "2022-05-28T12:27:37.844Z"
   },
   {
    "duration": 28,
    "start_time": "2022-05-28T12:27:37.889Z"
   },
   {
    "duration": 5,
    "start_time": "2022-05-28T12:27:37.919Z"
   },
   {
    "duration": 496,
    "start_time": "2022-05-28T12:27:37.926Z"
   },
   {
    "duration": 339,
    "start_time": "2022-05-28T12:27:38.423Z"
   },
   {
    "duration": 9,
    "start_time": "2022-05-28T12:27:38.764Z"
   },
   {
    "duration": 27,
    "start_time": "2022-05-28T12:27:38.775Z"
   },
   {
    "duration": 109,
    "start_time": "2022-05-28T12:27:38.804Z"
   },
   {
    "duration": 88,
    "start_time": "2022-05-28T12:27:38.914Z"
   },
   {
    "duration": 69,
    "start_time": "2022-05-28T12:27:39.003Z"
   },
   {
    "duration": 49,
    "start_time": "2022-05-28T12:27:39.074Z"
   },
   {
    "duration": 64,
    "start_time": "2022-05-28T12:27:39.125Z"
   },
   {
    "duration": 73,
    "start_time": "2022-05-28T12:27:39.191Z"
   },
   {
    "duration": 30,
    "start_time": "2022-05-28T12:27:39.266Z"
   },
   {
    "duration": 122,
    "start_time": "2022-05-28T12:27:39.298Z"
   },
   {
    "duration": 22,
    "start_time": "2022-05-28T12:27:39.422Z"
   },
   {
    "duration": 16,
    "start_time": "2022-05-28T12:27:39.458Z"
   },
   {
    "duration": 199,
    "start_time": "2022-05-28T12:27:39.475Z"
   },
   {
    "duration": 5,
    "start_time": "2022-05-28T12:27:39.675Z"
   },
   {
    "duration": 200,
    "start_time": "2022-05-28T12:27:39.681Z"
   },
   {
    "duration": 17,
    "start_time": "2022-05-28T12:27:39.882Z"
   },
   {
    "duration": 221,
    "start_time": "2022-05-28T12:27:39.901Z"
   },
   {
    "duration": 4,
    "start_time": "2022-05-28T12:27:40.124Z"
   },
   {
    "duration": 234,
    "start_time": "2022-05-28T12:27:40.129Z"
   },
   {
    "duration": 18,
    "start_time": "2022-05-28T12:27:40.366Z"
   },
   {
    "duration": 285,
    "start_time": "2022-05-28T12:27:40.387Z"
   },
   {
    "duration": 6,
    "start_time": "2022-05-28T12:27:40.673Z"
   },
   {
    "duration": 331,
    "start_time": "2022-05-28T12:27:40.680Z"
   },
   {
    "duration": 4,
    "start_time": "2022-05-28T12:27:41.013Z"
   },
   {
    "duration": 13,
    "start_time": "2022-05-28T12:27:41.019Z"
   },
   {
    "duration": 6,
    "start_time": "2022-05-28T12:27:41.034Z"
   },
   {
    "duration": 5,
    "start_time": "2022-05-28T12:27:41.059Z"
   },
   {
    "duration": 15,
    "start_time": "2022-05-28T12:27:41.065Z"
   },
   {
    "duration": 5,
    "start_time": "2022-05-28T12:27:41.082Z"
   },
   {
    "duration": 6,
    "start_time": "2022-05-28T12:27:41.088Z"
   },
   {
    "duration": 13,
    "start_time": "2022-05-28T12:27:41.095Z"
   },
   {
    "duration": 5,
    "start_time": "2022-05-28T12:27:41.110Z"
   },
   {
    "duration": 43,
    "start_time": "2022-05-28T12:27:41.117Z"
   },
   {
    "duration": 9,
    "start_time": "2022-05-28T12:27:41.161Z"
   },
   {
    "duration": 36,
    "start_time": "2022-05-30T07:40:21.197Z"
   },
   {
    "duration": 61,
    "start_time": "2022-05-30T07:43:41.040Z"
   },
   {
    "duration": 965,
    "start_time": "2022-05-30T07:43:48.517Z"
   },
   {
    "duration": 1018,
    "start_time": "2022-05-30T07:43:49.484Z"
   },
   {
    "duration": 3,
    "start_time": "2022-05-30T07:43:50.504Z"
   },
   {
    "duration": 51,
    "start_time": "2022-05-30T07:43:50.509Z"
   },
   {
    "duration": 46,
    "start_time": "2022-05-30T07:43:50.562Z"
   },
   {
    "duration": 8,
    "start_time": "2022-05-30T07:43:50.610Z"
   },
   {
    "duration": 219,
    "start_time": "2022-05-30T07:43:50.620Z"
   },
   {
    "duration": 46,
    "start_time": "2022-05-30T07:43:50.840Z"
   },
   {
    "duration": 100,
    "start_time": "2022-05-30T07:43:50.888Z"
   },
   {
    "duration": 20,
    "start_time": "2022-05-30T07:43:50.991Z"
   },
   {
    "duration": 202,
    "start_time": "2022-05-30T07:43:51.013Z"
   },
   {
    "duration": 64,
    "start_time": "2022-05-30T07:43:51.217Z"
   },
   {
    "duration": 29,
    "start_time": "2022-05-30T07:43:51.284Z"
   },
   {
    "duration": 4,
    "start_time": "2022-05-30T07:43:51.316Z"
   },
   {
    "duration": 748,
    "start_time": "2022-05-30T07:43:51.322Z"
   },
   {
    "duration": 422,
    "start_time": "2022-05-30T07:43:52.072Z"
   },
   {
    "duration": 13,
    "start_time": "2022-05-30T07:43:52.496Z"
   },
   {
    "duration": 55,
    "start_time": "2022-05-30T07:43:52.511Z"
   },
   {
    "duration": 139,
    "start_time": "2022-05-30T07:43:52.569Z"
   },
   {
    "duration": 99,
    "start_time": "2022-05-30T07:43:52.710Z"
   },
   {
    "duration": 80,
    "start_time": "2022-05-30T07:43:52.811Z"
   },
   {
    "duration": 59,
    "start_time": "2022-05-30T07:43:52.892Z"
   },
   {
    "duration": 65,
    "start_time": "2022-05-30T07:43:52.964Z"
   },
   {
    "duration": 104,
    "start_time": "2022-05-30T07:43:53.030Z"
   },
   {
    "duration": 58,
    "start_time": "2022-05-30T07:43:53.136Z"
   },
   {
    "duration": 144,
    "start_time": "2022-05-30T07:43:53.196Z"
   },
   {
    "duration": 39,
    "start_time": "2022-05-30T07:43:53.342Z"
   },
   {
    "duration": 20,
    "start_time": "2022-05-30T07:43:53.386Z"
   },
   {
    "duration": 246,
    "start_time": "2022-05-30T07:43:53.408Z"
   },
   {
    "duration": 10,
    "start_time": "2022-05-30T07:43:53.657Z"
   },
   {
    "duration": 269,
    "start_time": "2022-05-30T07:43:53.669Z"
   },
   {
    "duration": 31,
    "start_time": "2022-05-30T07:43:53.941Z"
   },
   {
    "duration": 248,
    "start_time": "2022-05-30T07:43:53.974Z"
   },
   {
    "duration": 6,
    "start_time": "2022-05-30T07:43:54.223Z"
   },
   {
    "duration": 245,
    "start_time": "2022-05-30T07:43:54.231Z"
   },
   {
    "duration": 20,
    "start_time": "2022-05-30T07:43:54.479Z"
   },
   {
    "duration": 249,
    "start_time": "2022-05-30T07:43:54.501Z"
   },
   {
    "duration": 14,
    "start_time": "2022-05-30T07:43:54.753Z"
   },
   {
    "duration": 338,
    "start_time": "2022-05-30T07:43:54.769Z"
   },
   {
    "duration": 6,
    "start_time": "2022-05-30T07:43:55.109Z"
   },
   {
    "duration": 24,
    "start_time": "2022-05-30T07:43:55.118Z"
   },
   {
    "duration": 30,
    "start_time": "2022-05-30T07:43:55.144Z"
   },
   {
    "duration": 6,
    "start_time": "2022-05-30T07:43:55.176Z"
   },
   {
    "duration": 16,
    "start_time": "2022-05-30T07:43:55.184Z"
   },
   {
    "duration": 5,
    "start_time": "2022-05-30T07:43:55.202Z"
   },
   {
    "duration": 9,
    "start_time": "2022-05-30T07:43:55.208Z"
   },
   {
    "duration": 54,
    "start_time": "2022-05-30T07:43:55.218Z"
   },
   {
    "duration": 7,
    "start_time": "2022-05-30T07:43:55.274Z"
   },
   {
    "duration": 16,
    "start_time": "2022-05-30T07:43:55.283Z"
   },
   {
    "duration": 12,
    "start_time": "2022-05-30T07:43:55.302Z"
   },
   {
    "duration": 6,
    "start_time": "2022-05-30T07:44:44.145Z"
   },
   {
    "duration": 15,
    "start_time": "2022-05-30T07:44:50.053Z"
   },
   {
    "duration": 44,
    "start_time": "2022-05-30T07:45:07.076Z"
   },
   {
    "duration": 272,
    "start_time": "2022-05-30T07:49:07.728Z"
   },
   {
    "duration": 103,
    "start_time": "2022-05-30T07:49:33.517Z"
   },
   {
    "duration": 86,
    "start_time": "2022-05-30T07:49:57.928Z"
   },
   {
    "duration": 88,
    "start_time": "2022-05-30T07:50:07.858Z"
   },
   {
    "duration": 131,
    "start_time": "2022-05-30T07:51:13.337Z"
   },
   {
    "duration": 5,
    "start_time": "2022-05-30T08:01:07.577Z"
   },
   {
    "duration": 5,
    "start_time": "2022-05-30T08:01:17.098Z"
   },
   {
    "duration": 5,
    "start_time": "2022-05-30T08:03:55.068Z"
   },
   {
    "duration": 6,
    "start_time": "2022-05-30T08:12:17.619Z"
   },
   {
    "duration": 7,
    "start_time": "2022-05-30T08:16:29.245Z"
   },
   {
    "duration": 6,
    "start_time": "2022-05-30T08:20:10.180Z"
   },
   {
    "duration": 5,
    "start_time": "2022-05-30T08:20:15.429Z"
   },
   {
    "duration": 131,
    "start_time": "2022-05-30T08:22:48.575Z"
   },
   {
    "duration": 136,
    "start_time": "2022-05-30T08:23:09.697Z"
   },
   {
    "duration": 281,
    "start_time": "2022-05-30T08:23:21.175Z"
   },
   {
    "duration": 292,
    "start_time": "2022-05-30T08:23:55.062Z"
   },
   {
    "duration": 4,
    "start_time": "2022-05-30T08:27:15.959Z"
   },
   {
    "duration": 41,
    "start_time": "2022-05-30T08:27:19.097Z"
   },
   {
    "duration": 3,
    "start_time": "2022-05-30T08:27:35.878Z"
   },
   {
    "duration": 34,
    "start_time": "2022-05-30T08:27:38.412Z"
   },
   {
    "duration": 873,
    "start_time": "2022-05-30T08:29:32.208Z"
   },
   {
    "duration": 453,
    "start_time": "2022-05-30T08:29:33.083Z"
   },
   {
    "duration": 4,
    "start_time": "2022-05-30T08:29:33.538Z"
   },
   {
    "duration": 60,
    "start_time": "2022-05-30T08:29:33.545Z"
   },
   {
    "duration": 59,
    "start_time": "2022-05-30T08:29:33.607Z"
   },
   {
    "duration": 7,
    "start_time": "2022-05-30T08:29:33.668Z"
   },
   {
    "duration": 188,
    "start_time": "2022-05-30T08:29:33.677Z"
   },
   {
    "duration": 33,
    "start_time": "2022-05-30T08:29:33.867Z"
   },
   {
    "duration": 102,
    "start_time": "2022-05-30T08:29:33.902Z"
   },
   {
    "duration": 21,
    "start_time": "2022-05-30T08:29:34.006Z"
   },
   {
    "duration": 145,
    "start_time": "2022-05-30T08:29:34.028Z"
   },
   {
    "duration": 30,
    "start_time": "2022-05-30T08:29:34.174Z"
   },
   {
    "duration": 18,
    "start_time": "2022-05-30T08:29:34.206Z"
   },
   {
    "duration": 3,
    "start_time": "2022-05-30T08:29:34.226Z"
   },
   {
    "duration": 554,
    "start_time": "2022-05-30T08:29:34.231Z"
   },
   {
    "duration": 390,
    "start_time": "2022-05-30T08:29:34.787Z"
   },
   {
    "duration": 9,
    "start_time": "2022-05-30T08:29:35.179Z"
   },
   {
    "duration": 33,
    "start_time": "2022-05-30T08:29:35.190Z"
   },
   {
    "duration": 123,
    "start_time": "2022-05-30T08:29:35.225Z"
   },
   {
    "duration": 97,
    "start_time": "2022-05-30T08:29:35.350Z"
   },
   {
    "duration": 68,
    "start_time": "2022-05-30T08:29:35.448Z"
   },
   {
    "duration": 67,
    "start_time": "2022-05-30T08:29:35.518Z"
   },
   {
    "duration": 57,
    "start_time": "2022-05-30T08:29:35.586Z"
   },
   {
    "duration": 80,
    "start_time": "2022-05-30T08:29:35.645Z"
   },
   {
    "duration": 43,
    "start_time": "2022-05-30T08:29:35.726Z"
   },
   {
    "duration": 120,
    "start_time": "2022-05-30T08:29:35.771Z"
   },
   {
    "duration": 25,
    "start_time": "2022-05-30T08:29:35.893Z"
   },
   {
    "duration": 17,
    "start_time": "2022-05-30T08:29:35.921Z"
   },
   {
    "duration": 243,
    "start_time": "2022-05-30T08:29:35.940Z"
   },
   {
    "duration": 5,
    "start_time": "2022-05-30T08:29:36.184Z"
   },
   {
    "duration": 224,
    "start_time": "2022-05-30T08:29:36.191Z"
   },
   {
    "duration": 4,
    "start_time": "2022-05-30T08:29:36.417Z"
   },
   {
    "duration": 20,
    "start_time": "2022-05-30T08:29:36.423Z"
   },
   {
    "duration": 277,
    "start_time": "2022-05-30T08:29:36.445Z"
   },
   {
    "duration": 5,
    "start_time": "2022-05-30T08:29:36.724Z"
   },
   {
    "duration": 226,
    "start_time": "2022-05-30T08:29:36.730Z"
   },
   {
    "duration": 21,
    "start_time": "2022-05-30T08:29:36.957Z"
   },
   {
    "duration": 259,
    "start_time": "2022-05-30T08:29:36.980Z"
   },
   {
    "duration": 5,
    "start_time": "2022-05-30T08:29:37.241Z"
   },
   {
    "duration": 352,
    "start_time": "2022-05-30T08:29:37.248Z"
   },
   {
    "duration": 5,
    "start_time": "2022-05-30T08:29:37.602Z"
   },
   {
    "duration": 14,
    "start_time": "2022-05-30T08:29:37.609Z"
   },
   {
    "duration": 6,
    "start_time": "2022-05-30T08:29:37.625Z"
   },
   {
    "duration": 8,
    "start_time": "2022-05-30T08:29:37.633Z"
   },
   {
    "duration": 34,
    "start_time": "2022-05-30T08:29:37.643Z"
   },
   {
    "duration": 6,
    "start_time": "2022-05-30T08:29:37.679Z"
   },
   {
    "duration": 10,
    "start_time": "2022-05-30T08:29:37.686Z"
   },
   {
    "duration": 19,
    "start_time": "2022-05-30T08:29:37.698Z"
   },
   {
    "duration": 5,
    "start_time": "2022-05-30T08:29:37.718Z"
   },
   {
    "duration": 42,
    "start_time": "2022-05-30T08:29:37.724Z"
   },
   {
    "duration": 275,
    "start_time": "2022-05-30T08:29:37.768Z"
   },
   {
    "duration": 9,
    "start_time": "2022-05-30T08:29:38.044Z"
   },
   {
    "duration": 317,
    "start_time": "2022-05-30T08:29:38.065Z"
   },
   {
    "duration": 903,
    "start_time": "2022-05-30T08:30:03.982Z"
   },
   {
    "duration": 460,
    "start_time": "2022-05-30T08:30:04.887Z"
   },
   {
    "duration": 4,
    "start_time": "2022-05-30T08:30:05.349Z"
   },
   {
    "duration": 46,
    "start_time": "2022-05-30T08:30:05.356Z"
   },
   {
    "duration": 30,
    "start_time": "2022-05-30T08:30:05.404Z"
   },
   {
    "duration": 36,
    "start_time": "2022-05-30T08:30:05.435Z"
   },
   {
    "duration": 181,
    "start_time": "2022-05-30T08:30:05.473Z"
   },
   {
    "duration": 39,
    "start_time": "2022-05-30T08:30:05.664Z"
   },
   {
    "duration": 98,
    "start_time": "2022-05-30T08:30:05.704Z"
   },
   {
    "duration": 21,
    "start_time": "2022-05-30T08:30:05.805Z"
   },
   {
    "duration": 149,
    "start_time": "2022-05-30T08:30:05.828Z"
   },
   {
    "duration": 31,
    "start_time": "2022-05-30T08:30:05.979Z"
   },
   {
    "duration": 18,
    "start_time": "2022-05-30T08:30:06.011Z"
   },
   {
    "duration": 4,
    "start_time": "2022-05-30T08:30:06.030Z"
   },
   {
    "duration": 549,
    "start_time": "2022-05-30T08:30:06.035Z"
   },
   {
    "duration": 387,
    "start_time": "2022-05-30T08:30:06.585Z"
   },
   {
    "duration": 9,
    "start_time": "2022-05-30T08:30:06.974Z"
   },
   {
    "duration": 32,
    "start_time": "2022-05-30T08:30:06.984Z"
   },
   {
    "duration": 125,
    "start_time": "2022-05-30T08:30:07.018Z"
   },
   {
    "duration": 102,
    "start_time": "2022-05-30T08:30:07.145Z"
   },
   {
    "duration": 67,
    "start_time": "2022-05-30T08:30:07.248Z"
   },
   {
    "duration": 68,
    "start_time": "2022-05-30T08:30:07.317Z"
   },
   {
    "duration": 59,
    "start_time": "2022-05-30T08:30:07.388Z"
   },
   {
    "duration": 82,
    "start_time": "2022-05-30T08:30:07.449Z"
   },
   {
    "duration": 44,
    "start_time": "2022-05-30T08:30:07.533Z"
   },
   {
    "duration": 124,
    "start_time": "2022-05-30T08:30:07.579Z"
   },
   {
    "duration": 27,
    "start_time": "2022-05-30T08:30:07.705Z"
   },
   {
    "duration": 34,
    "start_time": "2022-05-30T08:30:07.737Z"
   },
   {
    "duration": 231,
    "start_time": "2022-05-30T08:30:07.773Z"
   },
   {
    "duration": 4,
    "start_time": "2022-05-30T08:30:08.006Z"
   },
   {
    "duration": 226,
    "start_time": "2022-05-30T08:30:08.011Z"
   },
   {
    "duration": 5,
    "start_time": "2022-05-30T08:30:08.239Z"
   },
   {
    "duration": 31,
    "start_time": "2022-05-30T08:30:08.245Z"
   },
   {
    "duration": 267,
    "start_time": "2022-05-30T08:30:08.279Z"
   },
   {
    "duration": 5,
    "start_time": "2022-05-30T08:30:08.548Z"
   },
   {
    "duration": 232,
    "start_time": "2022-05-30T08:30:08.565Z"
   },
   {
    "duration": 18,
    "start_time": "2022-05-30T08:30:08.798Z"
   },
   {
    "duration": 299,
    "start_time": "2022-05-30T08:30:08.818Z"
   },
   {
    "duration": 6,
    "start_time": "2022-05-30T08:30:09.119Z"
   },
   {
    "duration": 326,
    "start_time": "2022-05-30T08:30:09.127Z"
   },
   {
    "duration": 11,
    "start_time": "2022-05-30T08:30:09.455Z"
   },
   {
    "duration": 22,
    "start_time": "2022-05-30T08:30:09.467Z"
   },
   {
    "duration": 10,
    "start_time": "2022-05-30T08:30:09.490Z"
   },
   {
    "duration": 9,
    "start_time": "2022-05-30T08:30:09.501Z"
   },
   {
    "duration": 21,
    "start_time": "2022-05-30T08:30:09.512Z"
   },
   {
    "duration": 7,
    "start_time": "2022-05-30T08:30:09.535Z"
   },
   {
    "duration": 30,
    "start_time": "2022-05-30T08:30:09.544Z"
   },
   {
    "duration": 14,
    "start_time": "2022-05-30T08:30:09.576Z"
   },
   {
    "duration": 5,
    "start_time": "2022-05-30T08:30:09.592Z"
   },
   {
    "duration": 15,
    "start_time": "2022-05-30T08:30:09.598Z"
   },
   {
    "duration": 296,
    "start_time": "2022-05-30T08:30:09.615Z"
   },
   {
    "duration": 9,
    "start_time": "2022-05-30T08:30:09.913Z"
   },
   {
    "duration": 268,
    "start_time": "2022-05-30T08:30:09.924Z"
   },
   {
    "duration": 22,
    "start_time": "2022-05-30T08:32:04.470Z"
   },
   {
    "duration": 23,
    "start_time": "2022-05-30T08:33:27.144Z"
   },
   {
    "duration": 27,
    "start_time": "2022-05-30T08:37:48.860Z"
   },
   {
    "duration": 21,
    "start_time": "2022-05-30T08:39:16.995Z"
   },
   {
    "duration": 4,
    "start_time": "2022-05-30T08:40:06.794Z"
   },
   {
    "duration": 4,
    "start_time": "2022-05-30T08:40:52.418Z"
   },
   {
    "duration": 6,
    "start_time": "2022-05-30T08:41:11.756Z"
   },
   {
    "duration": 4,
    "start_time": "2022-05-30T08:41:41.617Z"
   },
   {
    "duration": 4,
    "start_time": "2022-05-30T08:42:25.600Z"
   },
   {
    "duration": 28,
    "start_time": "2022-05-30T08:43:34.057Z"
   },
   {
    "duration": 23,
    "start_time": "2022-05-30T08:43:42.365Z"
   },
   {
    "duration": 5,
    "start_time": "2022-05-30T08:44:02.004Z"
   },
   {
    "duration": 5,
    "start_time": "2022-05-30T08:44:25.841Z"
   },
   {
    "duration": 5,
    "start_time": "2022-05-30T08:44:56.393Z"
   },
   {
    "duration": 5,
    "start_time": "2022-05-30T08:45:28.496Z"
   },
   {
    "duration": 4,
    "start_time": "2022-05-30T08:45:46.738Z"
   },
   {
    "duration": 4,
    "start_time": "2022-05-30T08:46:32.292Z"
   },
   {
    "duration": 4,
    "start_time": "2022-05-30T08:47:41.166Z"
   },
   {
    "duration": 4,
    "start_time": "2022-05-30T08:47:57.721Z"
   },
   {
    "duration": 5,
    "start_time": "2022-05-30T08:48:04.761Z"
   },
   {
    "duration": 5,
    "start_time": "2022-05-30T08:48:18.689Z"
   },
   {
    "duration": 4,
    "start_time": "2022-05-30T08:48:23.659Z"
   },
   {
    "duration": 4,
    "start_time": "2022-05-30T08:50:24.301Z"
   },
   {
    "duration": 21,
    "start_time": "2022-05-30T08:50:45.975Z"
   },
   {
    "duration": 10,
    "start_time": "2022-05-30T08:51:00.816Z"
   },
   {
    "duration": 7,
    "start_time": "2022-05-30T08:51:23.090Z"
   },
   {
    "duration": 116,
    "start_time": "2022-05-30T08:55:01.468Z"
   },
   {
    "duration": 12,
    "start_time": "2022-05-30T08:55:15.389Z"
   },
   {
    "duration": 11,
    "start_time": "2022-05-30T08:55:53.460Z"
   },
   {
    "duration": 11,
    "start_time": "2022-05-30T08:56:35.938Z"
   },
   {
    "duration": 11,
    "start_time": "2022-05-30T08:56:49.501Z"
   },
   {
    "duration": 10,
    "start_time": "2022-05-30T08:57:06.356Z"
   },
   {
    "duration": 13,
    "start_time": "2022-05-30T08:58:02.672Z"
   },
   {
    "duration": 23,
    "start_time": "2022-05-30T08:58:41.755Z"
   },
   {
    "duration": 11,
    "start_time": "2022-05-30T08:58:48.744Z"
   },
   {
    "duration": 10,
    "start_time": "2022-05-30T08:59:45.503Z"
   },
   {
    "duration": 7,
    "start_time": "2022-05-30T09:04:54.122Z"
   },
   {
    "duration": 6,
    "start_time": "2022-05-30T09:05:05.350Z"
   },
   {
    "duration": 6,
    "start_time": "2022-05-30T09:05:09.449Z"
   },
   {
    "duration": 9,
    "start_time": "2022-05-30T09:05:18.975Z"
   },
   {
    "duration": 6,
    "start_time": "2022-05-30T09:05:26.675Z"
   },
   {
    "duration": 6,
    "start_time": "2022-05-30T09:05:51.884Z"
   },
   {
    "duration": 7,
    "start_time": "2022-05-30T09:05:56.045Z"
   },
   {
    "duration": 7,
    "start_time": "2022-05-30T09:05:58.690Z"
   },
   {
    "duration": 7,
    "start_time": "2022-05-30T09:06:02.509Z"
   },
   {
    "duration": 7,
    "start_time": "2022-05-30T09:06:06.307Z"
   },
   {
    "duration": 25,
    "start_time": "2022-05-30T09:07:57.021Z"
   },
   {
    "duration": 18,
    "start_time": "2022-05-30T09:08:02.766Z"
   },
   {
    "duration": 7,
    "start_time": "2022-05-30T09:08:10.393Z"
   },
   {
    "duration": 13,
    "start_time": "2022-05-30T09:08:19.690Z"
   },
   {
    "duration": 10,
    "start_time": "2022-05-30T09:08:45.543Z"
   },
   {
    "duration": 8,
    "start_time": "2022-05-30T09:09:56.088Z"
   },
   {
    "duration": 147,
    "start_time": "2022-05-30T09:13:17.668Z"
   },
   {
    "duration": 137,
    "start_time": "2022-05-30T09:13:32.361Z"
   },
   {
    "duration": 121,
    "start_time": "2022-05-30T09:14:01.423Z"
   },
   {
    "duration": 10,
    "start_time": "2022-05-30T09:14:04.855Z"
   },
   {
    "duration": 48,
    "start_time": "2022-05-30T09:14:08.286Z"
   },
   {
    "duration": 10,
    "start_time": "2022-05-30T09:14:12.637Z"
   },
   {
    "duration": 135,
    "start_time": "2022-05-30T09:14:15.459Z"
   },
   {
    "duration": 29,
    "start_time": "2022-05-30T09:14:32.260Z"
   },
   {
    "duration": 270,
    "start_time": "2022-05-30T09:14:37.286Z"
   },
   {
    "duration": 868,
    "start_time": "2022-05-30T09:14:47.209Z"
   },
   {
    "duration": 448,
    "start_time": "2022-05-30T09:14:48.079Z"
   },
   {
    "duration": 3,
    "start_time": "2022-05-30T09:14:48.528Z"
   },
   {
    "duration": 43,
    "start_time": "2022-05-30T09:14:48.533Z"
   },
   {
    "duration": 34,
    "start_time": "2022-05-30T09:14:48.578Z"
   },
   {
    "duration": 8,
    "start_time": "2022-05-30T09:14:48.614Z"
   },
   {
    "duration": 210,
    "start_time": "2022-05-30T09:14:48.623Z"
   },
   {
    "duration": 59,
    "start_time": "2022-05-30T09:14:48.835Z"
   },
   {
    "duration": 102,
    "start_time": "2022-05-30T09:14:48.896Z"
   },
   {
    "duration": 25,
    "start_time": "2022-05-30T09:14:49.002Z"
   },
   {
    "duration": 176,
    "start_time": "2022-05-30T09:14:49.030Z"
   },
   {
    "duration": 31,
    "start_time": "2022-05-30T09:14:49.208Z"
   },
   {
    "duration": 34,
    "start_time": "2022-05-30T09:14:49.241Z"
   },
   {
    "duration": 3,
    "start_time": "2022-05-30T09:14:49.277Z"
   },
   {
    "duration": 512,
    "start_time": "2022-05-30T09:14:49.282Z"
   },
   {
    "duration": 387,
    "start_time": "2022-05-30T09:14:49.795Z"
   },
   {
    "duration": 10,
    "start_time": "2022-05-30T09:14:50.183Z"
   },
   {
    "duration": 31,
    "start_time": "2022-05-30T09:14:50.194Z"
   },
   {
    "duration": 119,
    "start_time": "2022-05-30T09:14:50.226Z"
   },
   {
    "duration": 103,
    "start_time": "2022-05-30T09:14:50.347Z"
   },
   {
    "duration": 73,
    "start_time": "2022-05-30T09:14:50.452Z"
   },
   {
    "duration": 67,
    "start_time": "2022-05-30T09:14:50.527Z"
   },
   {
    "duration": 55,
    "start_time": "2022-05-30T09:14:50.596Z"
   },
   {
    "duration": 71,
    "start_time": "2022-05-30T09:14:50.664Z"
   },
   {
    "duration": 46,
    "start_time": "2022-05-30T09:14:50.737Z"
   },
   {
    "duration": 129,
    "start_time": "2022-05-30T09:14:50.784Z"
   },
   {
    "duration": 26,
    "start_time": "2022-05-30T09:14:50.915Z"
   },
   {
    "duration": 39,
    "start_time": "2022-05-30T09:14:50.945Z"
   },
   {
    "duration": 227,
    "start_time": "2022-05-30T09:14:50.986Z"
   },
   {
    "duration": 5,
    "start_time": "2022-05-30T09:14:51.215Z"
   },
   {
    "duration": 237,
    "start_time": "2022-05-30T09:14:51.221Z"
   },
   {
    "duration": 4,
    "start_time": "2022-05-30T09:14:51.464Z"
   },
   {
    "duration": 22,
    "start_time": "2022-05-30T09:14:51.470Z"
   },
   {
    "duration": 262,
    "start_time": "2022-05-30T09:14:51.494Z"
   },
   {
    "duration": 8,
    "start_time": "2022-05-30T09:14:51.758Z"
   },
   {
    "duration": 216,
    "start_time": "2022-05-30T09:14:51.768Z"
   },
   {
    "duration": 21,
    "start_time": "2022-05-30T09:14:51.985Z"
   },
   {
    "duration": 247,
    "start_time": "2022-05-30T09:14:52.007Z"
   },
   {
    "duration": 10,
    "start_time": "2022-05-30T09:14:52.256Z"
   },
   {
    "duration": 341,
    "start_time": "2022-05-30T09:14:52.268Z"
   },
   {
    "duration": 5,
    "start_time": "2022-05-30T09:14:52.611Z"
   },
   {
    "duration": 17,
    "start_time": "2022-05-30T09:14:52.617Z"
   },
   {
    "duration": 7,
    "start_time": "2022-05-30T09:14:52.637Z"
   },
   {
    "duration": 22,
    "start_time": "2022-05-30T09:14:52.646Z"
   },
   {
    "duration": 20,
    "start_time": "2022-05-30T09:14:52.670Z"
   },
   {
    "duration": 25,
    "start_time": "2022-05-30T09:14:52.692Z"
   },
   {
    "duration": 8,
    "start_time": "2022-05-30T09:14:52.718Z"
   },
   {
    "duration": 10,
    "start_time": "2022-05-30T09:14:52.728Z"
   },
   {
    "duration": 19,
    "start_time": "2022-05-30T09:14:52.740Z"
   },
   {
    "duration": 8,
    "start_time": "2022-05-30T09:14:52.761Z"
   },
   {
    "duration": 10,
    "start_time": "2022-05-30T09:14:52.771Z"
   },
   {
    "duration": 284,
    "start_time": "2022-05-30T09:14:52.783Z"
   },
   {
    "duration": 10,
    "start_time": "2022-05-30T09:14:53.068Z"
   },
   {
    "duration": 266,
    "start_time": "2022-05-30T09:14:53.079Z"
   },
   {
    "duration": 935,
    "start_time": "2022-05-30T09:15:14.840Z"
   },
   {
    "duration": 462,
    "start_time": "2022-05-30T09:15:15.777Z"
   },
   {
    "duration": 3,
    "start_time": "2022-05-30T09:15:16.241Z"
   },
   {
    "duration": 45,
    "start_time": "2022-05-30T09:15:16.246Z"
   },
   {
    "duration": 30,
    "start_time": "2022-05-30T09:15:16.293Z"
   },
   {
    "duration": 7,
    "start_time": "2022-05-30T09:15:16.325Z"
   },
   {
    "duration": 210,
    "start_time": "2022-05-30T09:15:16.333Z"
   },
   {
    "duration": 48,
    "start_time": "2022-05-30T09:15:16.544Z"
   },
   {
    "duration": 98,
    "start_time": "2022-05-30T09:15:16.594Z"
   },
   {
    "duration": 21,
    "start_time": "2022-05-30T09:15:16.696Z"
   },
   {
    "duration": 154,
    "start_time": "2022-05-30T09:15:16.719Z"
   },
   {
    "duration": 31,
    "start_time": "2022-05-30T09:15:16.875Z"
   },
   {
    "duration": 18,
    "start_time": "2022-05-30T09:15:16.908Z"
   },
   {
    "duration": 3,
    "start_time": "2022-05-30T09:15:16.928Z"
   },
   {
    "duration": 570,
    "start_time": "2022-05-30T09:15:16.933Z"
   },
   {
    "duration": 386,
    "start_time": "2022-05-30T09:15:17.505Z"
   },
   {
    "duration": 9,
    "start_time": "2022-05-30T09:15:17.893Z"
   },
   {
    "duration": 31,
    "start_time": "2022-05-30T09:15:17.904Z"
   },
   {
    "duration": 131,
    "start_time": "2022-05-30T09:15:17.937Z"
   },
   {
    "duration": 101,
    "start_time": "2022-05-30T09:15:18.069Z"
   },
   {
    "duration": 62,
    "start_time": "2022-05-30T09:15:18.173Z"
   },
   {
    "duration": 70,
    "start_time": "2022-05-30T09:15:18.238Z"
   },
   {
    "duration": 69,
    "start_time": "2022-05-30T09:15:18.310Z"
   },
   {
    "duration": 67,
    "start_time": "2022-05-30T09:15:18.381Z"
   },
   {
    "duration": 29,
    "start_time": "2022-05-30T09:15:18.465Z"
   },
   {
    "duration": 138,
    "start_time": "2022-05-30T09:15:18.496Z"
   },
   {
    "duration": 39,
    "start_time": "2022-05-30T09:15:18.636Z"
   },
   {
    "duration": 24,
    "start_time": "2022-05-30T09:15:18.681Z"
   },
   {
    "duration": 271,
    "start_time": "2022-05-30T09:15:18.707Z"
   },
   {
    "duration": 6,
    "start_time": "2022-05-30T09:15:18.980Z"
   },
   {
    "duration": 246,
    "start_time": "2022-05-30T09:15:18.988Z"
   },
   {
    "duration": 4,
    "start_time": "2022-05-30T09:15:19.236Z"
   },
   {
    "duration": 40,
    "start_time": "2022-05-30T09:15:19.241Z"
   },
   {
    "duration": 238,
    "start_time": "2022-05-30T09:15:19.283Z"
   },
   {
    "duration": 4,
    "start_time": "2022-05-30T09:15:19.523Z"
   },
   {
    "duration": 238,
    "start_time": "2022-05-30T09:15:19.528Z"
   },
   {
    "duration": 20,
    "start_time": "2022-05-30T09:15:19.768Z"
   },
   {
    "duration": 226,
    "start_time": "2022-05-30T09:15:19.790Z"
   },
   {
    "duration": 5,
    "start_time": "2022-05-30T09:15:20.018Z"
   },
   {
    "duration": 339,
    "start_time": "2022-05-30T09:15:20.025Z"
   },
   {
    "duration": 5,
    "start_time": "2022-05-30T09:15:20.366Z"
   },
   {
    "duration": 16,
    "start_time": "2022-05-30T09:15:20.372Z"
   },
   {
    "duration": 13,
    "start_time": "2022-05-30T09:15:20.390Z"
   },
   {
    "duration": 18,
    "start_time": "2022-05-30T09:15:20.405Z"
   },
   {
    "duration": 29,
    "start_time": "2022-05-30T09:15:20.424Z"
   },
   {
    "duration": 20,
    "start_time": "2022-05-30T09:15:20.455Z"
   },
   {
    "duration": 6,
    "start_time": "2022-05-30T09:15:20.477Z"
   },
   {
    "duration": 13,
    "start_time": "2022-05-30T09:15:20.484Z"
   },
   {
    "duration": 16,
    "start_time": "2022-05-30T09:15:20.499Z"
   },
   {
    "duration": 7,
    "start_time": "2022-05-30T09:15:20.516Z"
   },
   {
    "duration": 11,
    "start_time": "2022-05-30T09:15:20.525Z"
   },
   {
    "duration": 304,
    "start_time": "2022-05-30T09:15:20.538Z"
   },
   {
    "duration": 9,
    "start_time": "2022-05-30T09:15:20.844Z"
   },
   {
    "duration": 307,
    "start_time": "2022-05-30T09:15:20.864Z"
   },
   {
    "duration": 25,
    "start_time": "2022-05-30T09:16:31.508Z"
   },
   {
    "duration": 142,
    "start_time": "2022-05-30T09:16:34.850Z"
   },
   {
    "duration": 144,
    "start_time": "2022-05-30T09:16:55.706Z"
   },
   {
    "duration": 184,
    "start_time": "2022-05-30T09:17:18.924Z"
   },
   {
    "duration": 134,
    "start_time": "2022-05-30T09:17:35.202Z"
   },
   {
    "duration": 30,
    "start_time": "2022-05-30T09:18:59.149Z"
   },
   {
    "duration": 124,
    "start_time": "2022-05-30T09:19:06.715Z"
   },
   {
    "duration": 121,
    "start_time": "2022-05-30T09:19:21.684Z"
   },
   {
    "duration": 219,
    "start_time": "2022-05-30T09:19:51.312Z"
   },
   {
    "duration": 222,
    "start_time": "2022-05-30T09:20:01.157Z"
   },
   {
    "duration": 134,
    "start_time": "2022-05-30T09:20:08.500Z"
   },
   {
    "duration": 134,
    "start_time": "2022-05-30T09:20:23.906Z"
   },
   {
    "duration": 7,
    "start_time": "2022-05-30T09:22:27.975Z"
   },
   {
    "duration": 6,
    "start_time": "2022-05-30T09:40:01.066Z"
   },
   {
    "duration": 7,
    "start_time": "2022-05-30T09:40:54.012Z"
   },
   {
    "duration": 22,
    "start_time": "2022-05-30T09:41:23.580Z"
   },
   {
    "duration": 14,
    "start_time": "2022-05-30T09:42:43.326Z"
   },
   {
    "duration": 7,
    "start_time": "2022-05-30T09:42:47.076Z"
   },
   {
    "duration": 18,
    "start_time": "2022-05-30T09:43:05.492Z"
   },
   {
    "duration": 7,
    "start_time": "2022-05-30T09:43:08.101Z"
   },
   {
    "duration": 8,
    "start_time": "2022-05-30T09:44:19.146Z"
   },
   {
    "duration": 5,
    "start_time": "2022-05-30T09:46:04.905Z"
   },
   {
    "duration": 305,
    "start_time": "2022-05-30T09:56:17.350Z"
   },
   {
    "duration": 276,
    "start_time": "2022-05-30T09:57:03.790Z"
   },
   {
    "duration": 272,
    "start_time": "2022-05-30T09:57:25.085Z"
   },
   {
    "duration": 377,
    "start_time": "2022-05-30T09:57:32.422Z"
   },
   {
    "duration": 268,
    "start_time": "2022-05-30T09:57:36.042Z"
   },
   {
    "duration": 168,
    "start_time": "2022-05-30T10:11:06.864Z"
   },
   {
    "duration": 118,
    "start_time": "2022-05-30T10:11:26.639Z"
   },
   {
    "duration": 902,
    "start_time": "2022-05-30T10:13:54.054Z"
   },
   {
    "duration": 453,
    "start_time": "2022-05-30T10:13:54.958Z"
   },
   {
    "duration": 3,
    "start_time": "2022-05-30T10:13:55.413Z"
   },
   {
    "duration": 45,
    "start_time": "2022-05-30T10:13:55.418Z"
   },
   {
    "duration": 32,
    "start_time": "2022-05-30T10:13:55.465Z"
   },
   {
    "duration": 8,
    "start_time": "2022-05-30T10:13:55.498Z"
   },
   {
    "duration": 214,
    "start_time": "2022-05-30T10:13:55.508Z"
   },
   {
    "duration": 51,
    "start_time": "2022-05-30T10:13:55.724Z"
   },
   {
    "duration": 87,
    "start_time": "2022-05-30T10:13:55.778Z"
   },
   {
    "duration": 21,
    "start_time": "2022-05-30T10:13:55.868Z"
   },
   {
    "duration": 149,
    "start_time": "2022-05-30T10:13:55.891Z"
   },
   {
    "duration": 38,
    "start_time": "2022-05-30T10:13:56.042Z"
   },
   {
    "duration": 17,
    "start_time": "2022-05-30T10:13:56.082Z"
   },
   {
    "duration": 4,
    "start_time": "2022-05-30T10:13:56.101Z"
   },
   {
    "duration": 547,
    "start_time": "2022-05-30T10:13:56.107Z"
   },
   {
    "duration": 387,
    "start_time": "2022-05-30T10:13:56.656Z"
   },
   {
    "duration": 11,
    "start_time": "2022-05-30T10:13:57.044Z"
   },
   {
    "duration": 31,
    "start_time": "2022-05-30T10:13:57.065Z"
   },
   {
    "duration": 116,
    "start_time": "2022-05-30T10:13:57.097Z"
   },
   {
    "duration": 99,
    "start_time": "2022-05-30T10:13:57.214Z"
   },
   {
    "duration": 68,
    "start_time": "2022-05-30T10:13:57.315Z"
   },
   {
    "duration": 81,
    "start_time": "2022-05-30T10:13:57.385Z"
   },
   {
    "duration": 58,
    "start_time": "2022-05-30T10:13:57.468Z"
   },
   {
    "duration": 82,
    "start_time": "2022-05-30T10:13:57.528Z"
   },
   {
    "duration": 26,
    "start_time": "2022-05-30T10:13:57.611Z"
   },
   {
    "duration": 132,
    "start_time": "2022-05-30T10:13:57.639Z"
   },
   {
    "duration": 27,
    "start_time": "2022-05-30T10:13:57.773Z"
   },
   {
    "duration": 23,
    "start_time": "2022-05-30T10:13:57.804Z"
   },
   {
    "duration": 232,
    "start_time": "2022-05-30T10:13:57.829Z"
   },
   {
    "duration": 5,
    "start_time": "2022-05-30T10:13:58.065Z"
   },
   {
    "duration": 219,
    "start_time": "2022-05-30T10:13:58.071Z"
   },
   {
    "duration": 4,
    "start_time": "2022-05-30T10:13:58.292Z"
   },
   {
    "duration": 18,
    "start_time": "2022-05-30T10:13:58.298Z"
   },
   {
    "duration": 266,
    "start_time": "2022-05-30T10:13:58.318Z"
   },
   {
    "duration": 5,
    "start_time": "2022-05-30T10:13:58.586Z"
   },
   {
    "duration": 229,
    "start_time": "2022-05-30T10:13:58.593Z"
   },
   {
    "duration": 43,
    "start_time": "2022-05-30T10:13:58.824Z"
   },
   {
    "duration": 305,
    "start_time": "2022-05-30T10:13:58.869Z"
   },
   {
    "duration": 5,
    "start_time": "2022-05-30T10:13:59.176Z"
   },
   {
    "duration": 322,
    "start_time": "2022-05-30T10:13:59.182Z"
   },
   {
    "duration": 5,
    "start_time": "2022-05-30T10:13:59.506Z"
   },
   {
    "duration": 15,
    "start_time": "2022-05-30T10:13:59.513Z"
   },
   {
    "duration": 34,
    "start_time": "2022-05-30T10:13:59.530Z"
   },
   {
    "duration": 6,
    "start_time": "2022-05-30T10:13:59.566Z"
   },
   {
    "duration": 9,
    "start_time": "2022-05-30T10:13:59.574Z"
   },
   {
    "duration": 15,
    "start_time": "2022-05-30T10:13:59.584Z"
   },
   {
    "duration": 5,
    "start_time": "2022-05-30T10:13:59.600Z"
   },
   {
    "duration": 8,
    "start_time": "2022-05-30T10:13:59.607Z"
   },
   {
    "duration": 48,
    "start_time": "2022-05-30T10:13:59.617Z"
   },
   {
    "duration": 5,
    "start_time": "2022-05-30T10:13:59.667Z"
   },
   {
    "duration": 13,
    "start_time": "2022-05-30T10:13:59.674Z"
   },
   {
    "duration": 288,
    "start_time": "2022-05-30T10:13:59.689Z"
   },
   {
    "duration": 9,
    "start_time": "2022-05-30T10:13:59.979Z"
   },
   {
    "duration": 325,
    "start_time": "2022-05-30T10:13:59.990Z"
   }
  ],
  "kernelspec": {
   "display_name": "Python 3 (ipykernel)",
   "language": "python",
   "name": "python3"
  },
  "language_info": {
   "codemirror_mode": {
    "name": "ipython",
    "version": 3
   },
   "file_extension": ".py",
   "mimetype": "text/x-python",
   "name": "python",
   "nbconvert_exporter": "python",
   "pygments_lexer": "ipython3",
   "version": "3.9.7"
  },
  "toc": {
   "base_numbering": 1,
   "nav_menu": {},
   "number_sections": true,
   "sideBar": true,
   "skip_h1_title": true,
   "title_cell": "Содержание",
   "title_sidebar": "Contents",
   "toc_cell": true,
   "toc_position": {
    "height": "calc(100% - 180px)",
    "left": "10px",
    "top": "150px",
    "width": "165px"
   },
   "toc_section_display": true,
   "toc_window_display": true
  }
 },
 "nbformat": 4,
 "nbformat_minor": 5
}
